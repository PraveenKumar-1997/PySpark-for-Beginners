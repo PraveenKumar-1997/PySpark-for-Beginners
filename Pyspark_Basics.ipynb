{
  "nbformat": 4,
  "nbformat_minor": 0,
  "metadata": {
    "colab": {
      "provenance": [],
      "toc_visible": true
    },
    "kernelspec": {
      "name": "python3",
      "display_name": "Python 3"
    },
    "language_info": {
      "name": "python"
    }
  },
  "cells": [
    {
      "cell_type": "code",
      "execution_count": null,
      "metadata": {
        "colab": {
          "base_uri": "https://localhost:8080/"
        },
        "id": "UVr-sl6w7R6z",
        "outputId": "a2232def-258c-4304-bfcf-428e1d791034"
      },
      "outputs": [
        {
          "output_type": "stream",
          "name": "stdout",
          "text": [
            "Looking in indexes: https://pypi.org/simple, https://us-python.pkg.dev/colab-wheels/public/simple/\n",
            "Collecting pyspark\n",
            "  Downloading pyspark-3.2.1.tar.gz (281.4 MB)\n",
            "\u001b[K     |████████████████████████████████| 281.4 MB 32 kB/s \n",
            "\u001b[?25hCollecting py4j==0.10.9.3\n",
            "  Downloading py4j-0.10.9.3-py2.py3-none-any.whl (198 kB)\n",
            "\u001b[K     |████████████████████████████████| 198 kB 52.5 MB/s \n",
            "\u001b[?25hBuilding wheels for collected packages: pyspark\n",
            "  Building wheel for pyspark (setup.py) ... \u001b[?25l\u001b[?25hdone\n",
            "  Created wheel for pyspark: filename=pyspark-3.2.1-py2.py3-none-any.whl size=281853642 sha256=5e89028c6b2cffdecfe1e99ca7e11699f6d0f0e10bcc6a1563231674c5fd573b\n",
            "  Stored in directory: /root/.cache/pip/wheels/9f/f5/07/7cd8017084dce4e93e84e92efd1e1d5334db05f2e83bcef74f\n",
            "Successfully built pyspark\n",
            "Installing collected packages: py4j, pyspark\n",
            "Successfully installed py4j-0.10.9.3 pyspark-3.2.1\n"
          ]
        }
      ],
      "source": [
        "# Best to use google colab for Pyspark during learning stage as installation of PySpark in local machine is tedious\n",
        "# Import Pyspark package\n",
        "!pip install pyspark"
      ]
    },
    {
      "cell_type": "code",
      "source": [
        "# Import Spark Session\n",
        "import pyspark\n",
        "from pyspark.sql import SparkSession"
      ],
      "metadata": {
        "id": "ej4RGE1I7aKS"
      },
      "execution_count": null,
      "outputs": []
    },
    {
      "cell_type": "code",
      "source": [
        "# Create Spark Session\n",
        "spark = SparkSession.builder.master(\"local[1]\").appName(\"Sparkbasics\").getOrCreate()"
      ],
      "metadata": {
        "id": "fUegIx757YOE"
      },
      "execution_count": null,
      "outputs": []
    },
    {
      "cell_type": "code",
      "source": [
        "# Create a RDD from parallelize\n",
        "# 1. From list\n",
        "list_ = [(\"Java\", 2000), (\"Python\", 10000), (\"Scala\", 3000)]\n",
        "rdd = spark.sparkContext.parallelize(list_)\n",
        "# 2. From txtfile\n",
        "# rdd2 = spark.SparkContext.textFile(\"/path_to_txt_file\")"
      ],
      "metadata": {
        "id": "T33wf4SR8hdp"
      },
      "execution_count": null,
      "outputs": []
    },
    {
      "cell_type": "markdown",
      "source": [
        "### Once you have an RDD, you can perform transformation and action operations. \n",
        "##### Any operation you perform on RDD runs in parallel."
      ],
      "metadata": {
        "id": "MI16SFdg_8HV"
      }
    },
    {
      "cell_type": "code",
      "source": [
        "# PySpark DataFrames can be created from existing RDD or datasets\n",
        "# Create DataFrame\n",
        "data = [('James','','Smith','1991-04-01','M',3000),\n",
        "  ('Michael','Rose','','2000-05-19','M',4000),\n",
        "  ('Robert','','Williams','1978-09-05','M',4000),\n",
        "  ('Maria','Anne','Jones','1967-12-01','F',4000),\n",
        "  ('Jen','Mary','Brown','1980-02-17','F',-1)\n",
        "]\n",
        "columns = [\"firstname\",\"middlename\",\"lastname\",\"dob\",\"gender\",\"salary\"]\n",
        "df = spark.createDataFrame(data = data, schema = columns)\n",
        "df"
      ],
      "metadata": {
        "colab": {
          "base_uri": "https://localhost:8080/"
        },
        "id": "yNZ5AoeH_7EA",
        "outputId": "fac9383e-654b-48d5-8ffd-aaf5cfe8e5c6"
      },
      "execution_count": null,
      "outputs": [
        {
          "output_type": "execute_result",
          "data": {
            "text/plain": [
              "DataFrame[firstname: string, middlename: string, lastname: string, dob: string, gender: string, salary: bigint]"
            ]
          },
          "metadata": {},
          "execution_count": 5
        }
      ]
    },
    {
      "cell_type": "code",
      "source": [
        "# Similar to printing df.head(20)\n",
        "df.show()"
      ],
      "metadata": {
        "colab": {
          "base_uri": "https://localhost:8080/"
        },
        "id": "Ayd1oTYzDOe6",
        "outputId": "058f48a8-956e-467b-fde2-0495b666c352"
      },
      "execution_count": null,
      "outputs": [
        {
          "output_type": "stream",
          "name": "stdout",
          "text": [
            "+---------+----------+--------+----------+------+------+\n",
            "|firstname|middlename|lastname|       dob|gender|salary|\n",
            "+---------+----------+--------+----------+------+------+\n",
            "|    James|          |   Smith|1991-04-01|     M|  3000|\n",
            "|  Michael|      Rose|        |2000-05-19|     M|  4000|\n",
            "|   Robert|          |Williams|1978-09-05|     M|  4000|\n",
            "|    Maria|      Anne|   Jones|1967-12-01|     F|  4000|\n",
            "|      Jen|      Mary|   Brown|1980-02-17|     F|    -1|\n",
            "+---------+----------+--------+----------+------+------+\n",
            "\n"
          ]
        }
      ]
    },
    {
      "cell_type": "code",
      "source": [
        "df.printSchema() # same as df.types()"
      ],
      "metadata": {
        "colab": {
          "base_uri": "https://localhost:8080/"
        },
        "id": "aCIhrdrTD4jJ",
        "outputId": "7e3e632d-50c6-4d68-ccbf-ea5d9a57f1d6"
      },
      "execution_count": null,
      "outputs": [
        {
          "output_type": "stream",
          "name": "stdout",
          "text": [
            "root\n",
            " |-- firstname: string (nullable = true)\n",
            " |-- middlename: string (nullable = true)\n",
            " |-- lastname: string (nullable = true)\n",
            " |-- dob: string (nullable = true)\n",
            " |-- gender: string (nullable = true)\n",
            " |-- salary: long (nullable = true)\n",
            "\n"
          ]
        }
      ]
    },
    {
      "cell_type": "code",
      "source": [
        "# Like RDD, DataFrame also has operations like Transformations and Actions."
      ],
      "metadata": {
        "id": "UqtjGPp0D6h1"
      },
      "execution_count": null,
      "outputs": []
    },
    {
      "cell_type": "code",
      "source": [
        "# df from csv\n",
        "df = spark.read.csv(\"zipcodes.csv\") \n",
        "# RDD to df\n",
        "df = rdd.toDF() # by default col names would be _1, _2, _3, ..etc\n",
        "columns = [\"language\",\"users_count\"]\n",
        "dfFromRDD1 = rdd.toDF(columns)\n",
        "\n",
        "# Otherwise\n",
        "dfFromRDD2 = spark.createDataFrame(rdd).toDF(*columns)\n",
        "dfFromData2 = spark.createDataFrame(data).toDF(*columns)"
      ],
      "metadata": {
        "id": "ycme9Yt2EZ7P"
      },
      "execution_count": null,
      "outputs": []
    },
    {
      "cell_type": "code",
      "source": [
        "# Read and write Parquet file\n",
        "# df1 = spark.read.parquet(\"file.parquet\")\n",
        "data =[(\"James \",\"\",\"Smith\",\"36636\",\"M\",3000),\n",
        "              (\"Michael \",\"Rose\",\"\",\"40288\",\"M\",4000),\n",
        "              (\"Robert \",\"\",\"Williams\",\"42114\",\"M\",4000),\n",
        "              (\"Maria \",\"Anne\",\"Jones\",\"39192\",\"F\",4000),\n",
        "              (\"Jen\",\"Mary\",\"Brown\",\"\",\"F\",-1)]\n",
        "columns=[\"firstname\",\"middlename\",\"lastname\",\"dob\",\"gender\",\"salary\"]\n",
        "df = spark.createDataFrame(data=data, schema=columns)\n",
        "df.write.parquet(\"file.parquet\") # Write"
      ],
      "metadata": {
        "id": "3i3-kXIgE4fE"
      },
      "execution_count": null,
      "outputs": []
    },
    {
      "cell_type": "code",
      "source": [
        "parDF = spark.read.parquet('file.parquet')\n",
        "parDF.show()"
      ],
      "metadata": {
        "colab": {
          "base_uri": "https://localhost:8080/"
        },
        "id": "WSUE7f6RJEC7",
        "outputId": "26f981a9-b379-4385-fbe7-85e8273b59a8"
      },
      "execution_count": null,
      "outputs": [
        {
          "output_type": "stream",
          "name": "stdout",
          "text": [
            "+---------+----------+--------+-----+------+------+\n",
            "|firstname|middlename|lastname|  dob|gender|salary|\n",
            "+---------+----------+--------+-----+------+------+\n",
            "|   James |          |   Smith|36636|     M|  3000|\n",
            "| Michael |      Rose|        |40288|     M|  4000|\n",
            "|  Robert |          |Williams|42114|     M|  4000|\n",
            "|   Maria |      Anne|   Jones|39192|     F|  4000|\n",
            "|      Jen|      Mary|   Brown|     |     F|    -1|\n",
            "+---------+----------+--------+-----+------+------+\n",
            "\n"
          ]
        }
      ]
    },
    {
      "cell_type": "code",
      "source": [
        "parDF.createOrReplaceTempView(\"ParquetTable\")\n",
        "sSql = spark.sql(\"select * from ParquetTable where salary >= 4000 \")\n",
        "sSql.show()"
      ],
      "metadata": {
        "colab": {
          "base_uri": "https://localhost:8080/"
        },
        "id": "t8wP4VLTJMFA",
        "outputId": "c7605c17-d802-4d85-d43d-6641a546eb17"
      },
      "execution_count": null,
      "outputs": [
        {
          "output_type": "stream",
          "name": "stdout",
          "text": [
            "+---------+----------+--------+-----+------+------+\n",
            "|firstname|middlename|lastname|  dob|gender|salary|\n",
            "+---------+----------+--------+-----+------+------+\n",
            "| Michael |      Rose|        |40288|     M|  4000|\n",
            "|  Robert |          |Williams|42114|     M|  4000|\n",
            "|   Maria |      Anne|   Jones|39192|     F|  4000|\n",
            "+---------+----------+--------+-----+------+------+\n",
            "\n"
          ]
        }
      ]
    },
    {
      "cell_type": "markdown",
      "source": [
        "# Ways of creating dataframe"
      ],
      "metadata": {
        "id": "Mn48nbhGBnq4"
      }
    },
    {
      "cell_type": "markdown",
      "source": [
        "#### 1. Create DataFrame from RDD"
      ],
      "metadata": {
        "id": "MJ5NS-QUBxOB"
      }
    },
    {
      "cell_type": "code",
      "source": [
        "rdd = spark.sparkContext.parallelize(data)\n",
        "rdd"
      ],
      "metadata": {
        "colab": {
          "base_uri": "https://localhost:8080/"
        },
        "id": "R0xknG0rJjao",
        "outputId": "444b0376-b137-43f9-e8d6-fa649635f09c"
      },
      "execution_count": null,
      "outputs": [
        {
          "output_type": "execute_result",
          "data": {
            "text/plain": [
              "ParallelCollectionRDD[24] at readRDDFromFile at PythonRDD.scala:274"
            ]
          },
          "metadata": {},
          "execution_count": 13
        }
      ]
    },
    {
      "cell_type": "markdown",
      "source": [
        "##### 1.1 Using toDF() method"
      ],
      "metadata": {
        "id": "cSMqO0K5CT5D"
      }
    },
    {
      "cell_type": "code",
      "source": [
        "df1 = rdd.toDF()\n",
        "df1.show()"
      ],
      "metadata": {
        "colab": {
          "base_uri": "https://localhost:8080/"
        },
        "id": "yEmhqLHoB_ho",
        "outputId": "2bf6925a-929b-4219-bf46-2c03c2c307f0"
      },
      "execution_count": null,
      "outputs": [
        {
          "output_type": "stream",
          "name": "stdout",
          "text": [
            "+--------+----+--------+-----+---+----+\n",
            "|      _1|  _2|      _3|   _4| _5|  _6|\n",
            "+--------+----+--------+-----+---+----+\n",
            "|  James |    |   Smith|36636|  M|3000|\n",
            "|Michael |Rose|        |40288|  M|4000|\n",
            "| Robert |    |Williams|42114|  M|4000|\n",
            "|  Maria |Anne|   Jones|39192|  F|4000|\n",
            "|     Jen|Mary|   Brown|     |  F|  -1|\n",
            "+--------+----+--------+-----+---+----+\n",
            "\n"
          ]
        }
      ]
    },
    {
      "cell_type": "code",
      "source": [
        "columns = ['a', 'b', 'c', 'd', 'e', 'f']\n",
        "df2 = rdd.toDF(schema = columns)\n",
        "df2.printSchema()"
      ],
      "metadata": {
        "colab": {
          "base_uri": "https://localhost:8080/"
        },
        "id": "Zo2bfNpXCeZv",
        "outputId": "53c8399c-87a0-467f-e4a6-6b944c388f7e"
      },
      "execution_count": null,
      "outputs": [
        {
          "output_type": "stream",
          "name": "stdout",
          "text": [
            "root\n",
            " |-- a: string (nullable = true)\n",
            " |-- b: string (nullable = true)\n",
            " |-- c: string (nullable = true)\n",
            " |-- d: string (nullable = true)\n",
            " |-- e: string (nullable = true)\n",
            " |-- f: long (nullable = true)\n",
            "\n"
          ]
        }
      ]
    },
    {
      "cell_type": "markdown",
      "source": [
        "##### 1.2 Using createDataFrame() from SparkSession"
      ],
      "metadata": {
        "id": "VamhQvsgC9Qg"
      }
    },
    {
      "cell_type": "code",
      "source": [
        "df = spark.createDataFrame(rdd).toDF(*columns)\n",
        "df.show()"
      ],
      "metadata": {
        "colab": {
          "base_uri": "https://localhost:8080/"
        },
        "id": "kQsNZRKhCsFp",
        "outputId": "5100f5eb-0f10-4a0f-efaa-8f33c8c1af00"
      },
      "execution_count": null,
      "outputs": [
        {
          "output_type": "stream",
          "name": "stdout",
          "text": [
            "+--------+----+--------+-----+---+----+\n",
            "|       a|   b|       c|    d|  e|   f|\n",
            "+--------+----+--------+-----+---+----+\n",
            "|  James |    |   Smith|36636|  M|3000|\n",
            "|Michael |Rose|        |40288|  M|4000|\n",
            "| Robert |    |Williams|42114|  M|4000|\n",
            "|  Maria |Anne|   Jones|39192|  F|4000|\n",
            "|     Jen|Mary|   Brown|     |  F|  -1|\n",
            "+--------+----+--------+-----+---+----+\n",
            "\n"
          ]
        }
      ]
    },
    {
      "cell_type": "markdown",
      "source": [
        "#### 2. **Create DataFrame from List Collection**"
      ],
      "metadata": {
        "id": "-ijFQsdUDRMw"
      }
    },
    {
      "cell_type": "markdown",
      "source": [
        "##### 2.1 Using createDataFrame() from spark session"
      ],
      "metadata": {
        "id": "7fkyv_LYDhbX"
      }
    },
    {
      "cell_type": "code",
      "source": [
        "df = spark.createDataFrame(data).toDF(*columns)"
      ],
      "metadata": {
        "id": "uzOPwILCDGou"
      },
      "execution_count": null,
      "outputs": []
    },
    {
      "cell_type": "markdown",
      "source": [
        "##### 2.2 Using createDataFrame() with the Row type"
      ],
      "metadata": {
        "id": "657MRov7DtHW"
      }
    },
    {
      "cell_type": "code",
      "source": [
        "from pyspark.sql.types import Row\n",
        "rowData = map(lambda x: Row(*x), data)\n",
        "df = spark.createDataFrame(rowData)\n",
        "df.show()"
      ],
      "metadata": {
        "colab": {
          "base_uri": "https://localhost:8080/"
        },
        "id": "F4pI3vgvDuJO",
        "outputId": "f356ee7a-d818-4164-eff4-8c2adb390336"
      },
      "execution_count": null,
      "outputs": [
        {
          "output_type": "stream",
          "name": "stdout",
          "text": [
            "+--------+----+--------+-----+---+----+\n",
            "|      _1|  _2|      _3|   _4| _5|  _6|\n",
            "+--------+----+--------+-----+---+----+\n",
            "|  James |    |   Smith|36636|  M|3000|\n",
            "|Michael |Rose|        |40288|  M|4000|\n",
            "| Robert |    |Williams|42114|  M|4000|\n",
            "|  Maria |Anne|   Jones|39192|  F|4000|\n",
            "|     Jen|Mary|   Brown|     |  F|  -1|\n",
            "+--------+----+--------+-----+---+----+\n",
            "\n"
          ]
        }
      ]
    },
    {
      "cell_type": "markdown",
      "source": [
        "##### **2.3 Create DataFrame with schema**"
      ],
      "metadata": {
        "id": "scv-gE0rFFs0"
      }
    },
    {
      "cell_type": "code",
      "source": [
        "from pyspark.sql.types import StructType,StructField, StringType, IntegerType\n",
        "data2 = [(\"James\",\"\",\"Smith\",\"36636\",\"M\",3000),\n",
        "    (\"Michael\",\"Rose\",\"\",\"40288\",\"M\",4000),\n",
        "    (\"Robert\",\"\",\"Williams\",\"42114\",\"M\",4000),\n",
        "    (\"Maria\",\"Anne\",\"Jones\",\"39192\",\"F\",4000),\n",
        "    (\"Jen\",\"Mary\",\"Brown\",\"\",\"F\",-1)\n",
        "  ]\n",
        "\n",
        "schema = StructType([ \\\n",
        "    StructField(\"firstname\",StringType(),True), \\\n",
        "    StructField(\"middlename\",StringType(),True), \\\n",
        "    StructField(\"lastname\",StringType(),True), \\\n",
        "    StructField(\"id\", StringType(), True), \\\n",
        "    StructField(\"gender\", StringType(), True), \\\n",
        "    StructField(\"salary\", IntegerType(), True) \n",
        "  ])\n",
        "\n",
        "df = spark.createDataFrame(data=data2, schema=schema)\n",
        "df.show()\n",
        "df.printSchema()\n",
        "df.show(truncate=False)"
      ],
      "metadata": {
        "colab": {
          "base_uri": "https://localhost:8080/"
        },
        "id": "NKm6VB_AEodh",
        "outputId": "d15964e6-d9f0-430f-ed7c-946c9b13ac0f"
      },
      "execution_count": null,
      "outputs": [
        {
          "output_type": "stream",
          "name": "stdout",
          "text": [
            "+---------+----------+--------+-----+------+------+\n",
            "|firstname|middlename|lastname|   id|gender|salary|\n",
            "+---------+----------+--------+-----+------+------+\n",
            "|    James|          |   Smith|36636|     M|  3000|\n",
            "|  Michael|      Rose|        |40288|     M|  4000|\n",
            "|   Robert|          |Williams|42114|     M|  4000|\n",
            "|    Maria|      Anne|   Jones|39192|     F|  4000|\n",
            "|      Jen|      Mary|   Brown|     |     F|    -1|\n",
            "+---------+----------+--------+-----+------+------+\n",
            "\n",
            "root\n",
            " |-- firstname: string (nullable = true)\n",
            " |-- middlename: string (nullable = true)\n",
            " |-- lastname: string (nullable = true)\n",
            " |-- id: string (nullable = true)\n",
            " |-- gender: string (nullable = true)\n",
            " |-- salary: integer (nullable = true)\n",
            "\n",
            "+---------+----------+--------+-----+------+------+\n",
            "|firstname|middlename|lastname|id   |gender|salary|\n",
            "+---------+----------+--------+-----+------+------+\n",
            "|James    |          |Smith   |36636|M     |3000  |\n",
            "|Michael  |Rose      |        |40288|M     |4000  |\n",
            "|Robert   |          |Williams|42114|M     |4000  |\n",
            "|Maria    |Anne      |Jones   |39192|F     |4000  |\n",
            "|Jen      |Mary      |Brown   |     |F     |-1    |\n",
            "+---------+----------+--------+-----+------+------+\n",
            "\n"
          ]
        }
      ]
    },
    {
      "cell_type": "markdown",
      "source": [
        "#### 3. **Create DataFrame from Data sources**"
      ],
      "metadata": {
        "id": "NTAHr_4rGGAX"
      }
    },
    {
      "cell_type": "markdown",
      "source": [
        "df2 = spark.read.csv(\"/src/resources/file.csv\") \\\n",
        "df2 = spark.read.text(\"/src/resources/file.txt\")\\\n",
        "df2 = spark.read.json(\"/src/resources/file.json\")\n"
      ],
      "metadata": {
        "id": "ATPC3IYZG_FF"
      }
    },
    {
      "cell_type": "markdown",
      "source": [
        "# **Create Empty Dataframes**"
      ],
      "metadata": {
        "id": "EfJeIFxhIY4R"
      }
    },
    {
      "cell_type": "code",
      "source": [
        "# First create an empty rdd\n",
        "emptyRDD = spark.sparkContext.emptyRDD()\n",
        "print(emptyRDD)\n",
        "emptyRDD1 = spark.sparkContext.parallelize([])\n",
        "print(emptyRDD1)\n",
        "\n",
        "# 1. Create Empty DataFrame with Schema (StructType)\n",
        "from pyspark.sql.types import StructType,StructField, StringType\n",
        "schema = StructType([\n",
        "  StructField('firstname', StringType(), True),\n",
        "  StructField('middlename', StringType(), True),\n",
        "  StructField('lastname', StringType(), True)\n",
        "  ])\n",
        "dfEmpty = spark.createDataFrame(data=emptyRDD, schema=schema)\n",
        "dfEmpty.printSchema()\n",
        "dfEmpty.show()\n",
        "\n",
        "# 2. Convert Empty RDD to DataFrame\n",
        "df1 = emptyRDD.toDF(schema)\n",
        "df1.show()\n",
        "\n",
        "# 3. Create Empty DataFrame with Schema\n",
        "df2 = spark.createDataFrame([], schema)\n",
        "df2.show()"
      ],
      "metadata": {
        "colab": {
          "base_uri": "https://localhost:8080/"
        },
        "id": "kjwQsyZgHAhC",
        "outputId": "465dc291-7a63-4001-aef8-ee8fe083a19f"
      },
      "execution_count": null,
      "outputs": [
        {
          "output_type": "stream",
          "name": "stdout",
          "text": [
            "EmptyRDD[197] at emptyRDD at NativeMethodAccessorImpl.java:0\n",
            "ParallelCollectionRDD[198] at readRDDFromFile at PythonRDD.scala:274\n",
            "root\n",
            " |-- firstname: string (nullable = true)\n",
            " |-- middlename: string (nullable = true)\n",
            " |-- lastname: string (nullable = true)\n",
            "\n",
            "+---------+----------+--------+\n",
            "|firstname|middlename|lastname|\n",
            "+---------+----------+--------+\n",
            "+---------+----------+--------+\n",
            "\n",
            "+---------+----------+--------+\n",
            "|firstname|middlename|lastname|\n",
            "+---------+----------+--------+\n",
            "+---------+----------+--------+\n",
            "\n",
            "+---------+----------+--------+\n",
            "|firstname|middlename|lastname|\n",
            "+---------+----------+--------+\n",
            "+---------+----------+--------+\n",
            "\n"
          ]
        }
      ]
    },
    {
      "cell_type": "markdown",
      "source": [
        "**After processing data in PySpark, we would need to convert it back to Pandas DataFrame for a further procession with Machine Learning application or any Python applications.**"
      ],
      "metadata": {
        "id": "kZTd7yNlMHkp"
      }
    },
    {
      "cell_type": "code",
      "source": [
        "# 1. Convert PySpark Dataframe to Pandas DataFrame\n",
        "pySparkDF = df\n",
        "pandasDF = pySparkDF.toPandas()\n",
        "pandasDF"
      ],
      "metadata": {
        "colab": {
          "base_uri": "https://localhost:8080/",
          "height": 213
        },
        "id": "T5neQ8XII4sk",
        "outputId": "12b68ebd-c5bf-4e4a-f715-00ef2ea2cccc"
      },
      "execution_count": null,
      "outputs": [
        {
          "output_type": "execute_result",
          "data": {
            "text/plain": [
              "  firstname middlename  lastname     id gender  salary\n",
              "0     James                Smith  36636      M    3000\n",
              "1   Michael       Rose            40288      M    4000\n",
              "2    Robert             Williams  42114      M    4000\n",
              "3     Maria       Anne     Jones  39192      F    4000\n",
              "4       Jen       Mary     Brown             F      -1"
            ],
            "text/html": [
              "\n",
              "  <div id=\"df-9fe4d950-5b6c-47d5-8655-ef6d9017efd6\">\n",
              "    <div class=\"colab-df-container\">\n",
              "      <div>\n",
              "<style scoped>\n",
              "    .dataframe tbody tr th:only-of-type {\n",
              "        vertical-align: middle;\n",
              "    }\n",
              "\n",
              "    .dataframe tbody tr th {\n",
              "        vertical-align: top;\n",
              "    }\n",
              "\n",
              "    .dataframe thead th {\n",
              "        text-align: right;\n",
              "    }\n",
              "</style>\n",
              "<table border=\"1\" class=\"dataframe\">\n",
              "  <thead>\n",
              "    <tr style=\"text-align: right;\">\n",
              "      <th></th>\n",
              "      <th>firstname</th>\n",
              "      <th>middlename</th>\n",
              "      <th>lastname</th>\n",
              "      <th>id</th>\n",
              "      <th>gender</th>\n",
              "      <th>salary</th>\n",
              "    </tr>\n",
              "  </thead>\n",
              "  <tbody>\n",
              "    <tr>\n",
              "      <th>0</th>\n",
              "      <td>James</td>\n",
              "      <td></td>\n",
              "      <td>Smith</td>\n",
              "      <td>36636</td>\n",
              "      <td>M</td>\n",
              "      <td>3000</td>\n",
              "    </tr>\n",
              "    <tr>\n",
              "      <th>1</th>\n",
              "      <td>Michael</td>\n",
              "      <td>Rose</td>\n",
              "      <td></td>\n",
              "      <td>40288</td>\n",
              "      <td>M</td>\n",
              "      <td>4000</td>\n",
              "    </tr>\n",
              "    <tr>\n",
              "      <th>2</th>\n",
              "      <td>Robert</td>\n",
              "      <td></td>\n",
              "      <td>Williams</td>\n",
              "      <td>42114</td>\n",
              "      <td>M</td>\n",
              "      <td>4000</td>\n",
              "    </tr>\n",
              "    <tr>\n",
              "      <th>3</th>\n",
              "      <td>Maria</td>\n",
              "      <td>Anne</td>\n",
              "      <td>Jones</td>\n",
              "      <td>39192</td>\n",
              "      <td>F</td>\n",
              "      <td>4000</td>\n",
              "    </tr>\n",
              "    <tr>\n",
              "      <th>4</th>\n",
              "      <td>Jen</td>\n",
              "      <td>Mary</td>\n",
              "      <td>Brown</td>\n",
              "      <td></td>\n",
              "      <td>F</td>\n",
              "      <td>-1</td>\n",
              "    </tr>\n",
              "  </tbody>\n",
              "</table>\n",
              "</div>\n",
              "      <button class=\"colab-df-convert\" onclick=\"convertToInteractive('df-9fe4d950-5b6c-47d5-8655-ef6d9017efd6')\"\n",
              "              title=\"Convert this dataframe to an interactive table.\"\n",
              "              style=\"display:none;\">\n",
              "        \n",
              "  <svg xmlns=\"http://www.w3.org/2000/svg\" height=\"24px\"viewBox=\"0 0 24 24\"\n",
              "       width=\"24px\">\n",
              "    <path d=\"M0 0h24v24H0V0z\" fill=\"none\"/>\n",
              "    <path d=\"M18.56 5.44l.94 2.06.94-2.06 2.06-.94-2.06-.94-.94-2.06-.94 2.06-2.06.94zm-11 1L8.5 8.5l.94-2.06 2.06-.94-2.06-.94L8.5 2.5l-.94 2.06-2.06.94zm10 10l.94 2.06.94-2.06 2.06-.94-2.06-.94-.94-2.06-.94 2.06-2.06.94z\"/><path d=\"M17.41 7.96l-1.37-1.37c-.4-.4-.92-.59-1.43-.59-.52 0-1.04.2-1.43.59L10.3 9.45l-7.72 7.72c-.78.78-.78 2.05 0 2.83L4 21.41c.39.39.9.59 1.41.59.51 0 1.02-.2 1.41-.59l7.78-7.78 2.81-2.81c.8-.78.8-2.07 0-2.86zM5.41 20L4 18.59l7.72-7.72 1.47 1.35L5.41 20z\"/>\n",
              "  </svg>\n",
              "      </button>\n",
              "      \n",
              "  <style>\n",
              "    .colab-df-container {\n",
              "      display:flex;\n",
              "      flex-wrap:wrap;\n",
              "      gap: 12px;\n",
              "    }\n",
              "\n",
              "    .colab-df-convert {\n",
              "      background-color: #E8F0FE;\n",
              "      border: none;\n",
              "      border-radius: 50%;\n",
              "      cursor: pointer;\n",
              "      display: none;\n",
              "      fill: #1967D2;\n",
              "      height: 32px;\n",
              "      padding: 0 0 0 0;\n",
              "      width: 32px;\n",
              "    }\n",
              "\n",
              "    .colab-df-convert:hover {\n",
              "      background-color: #E2EBFA;\n",
              "      box-shadow: 0px 1px 2px rgba(60, 64, 67, 0.3), 0px 1px 3px 1px rgba(60, 64, 67, 0.15);\n",
              "      fill: #174EA6;\n",
              "    }\n",
              "\n",
              "    [theme=dark] .colab-df-convert {\n",
              "      background-color: #3B4455;\n",
              "      fill: #D2E3FC;\n",
              "    }\n",
              "\n",
              "    [theme=dark] .colab-df-convert:hover {\n",
              "      background-color: #434B5C;\n",
              "      box-shadow: 0px 1px 3px 1px rgba(0, 0, 0, 0.15);\n",
              "      filter: drop-shadow(0px 1px 2px rgba(0, 0, 0, 0.3));\n",
              "      fill: #FFFFFF;\n",
              "    }\n",
              "  </style>\n",
              "\n",
              "      <script>\n",
              "        const buttonEl =\n",
              "          document.querySelector('#df-9fe4d950-5b6c-47d5-8655-ef6d9017efd6 button.colab-df-convert');\n",
              "        buttonEl.style.display =\n",
              "          google.colab.kernel.accessAllowed ? 'block' : 'none';\n",
              "\n",
              "        async function convertToInteractive(key) {\n",
              "          const element = document.querySelector('#df-9fe4d950-5b6c-47d5-8655-ef6d9017efd6');\n",
              "          const dataTable =\n",
              "            await google.colab.kernel.invokeFunction('convertToInteractive',\n",
              "                                                     [key], {});\n",
              "          if (!dataTable) return;\n",
              "\n",
              "          const docLinkHtml = 'Like what you see? Visit the ' +\n",
              "            '<a target=\"_blank\" href=https://colab.research.google.com/notebooks/data_table.ipynb>data table notebook</a>'\n",
              "            + ' to learn more about interactive tables.';\n",
              "          element.innerHTML = '';\n",
              "          dataTable['output_type'] = 'display_data';\n",
              "          await google.colab.output.renderOutput(dataTable, element);\n",
              "          const docLink = document.createElement('div');\n",
              "          docLink.innerHTML = docLinkHtml;\n",
              "          element.appendChild(docLink);\n",
              "        }\n",
              "      </script>\n",
              "    </div>\n",
              "  </div>\n",
              "  "
            ]
          },
          "metadata": {},
          "execution_count": 48
        }
      ]
    },
    {
      "cell_type": "code",
      "source": [
        "pySparkDF.show(2, truncate=2) # Limits to 2 rows each with max 25 characters"
      ],
      "metadata": {
        "colab": {
          "base_uri": "https://localhost:8080/"
        },
        "id": "oU_7F9ojMly6",
        "outputId": "305c3001-c64c-4a07-e89c-450c218616f9"
      },
      "execution_count": null,
      "outputs": [
        {
          "output_type": "stream",
          "name": "stdout",
          "text": [
            "+---------+----------+--------+---+------+------+\n",
            "|firstname|middlename|lastname| id|gender|salary|\n",
            "+---------+----------+--------+---+------+------+\n",
            "|       Ja|          |      Sm| 36|     M|    30|\n",
            "|       Mi|        Ro|        | 40|     M|    40|\n",
            "+---------+----------+--------+---+------+------+\n",
            "only showing top 2 rows\n",
            "\n"
          ]
        }
      ]
    },
    {
      "cell_type": "code",
      "source": [
        "# Nested StructType\n",
        "structureData = [\n",
        "    ((\"James\",\"\",\"Smith\"),\"36636\",\"M\",3100),\n",
        "    ((\"Michael\",\"Rose\",\"\"),\"40288\",\"M\",4300),\n",
        "    ((\"Robert\",\"\",\"Williams\"),\"42114\",\"M\",1400),\n",
        "    ((\"Maria\",\"Anne\",\"Jones\"),\"39192\",\"F\",5500),\n",
        "    ((\"Jen\",\"Mary\",\"Brown\"),\"\",\"F\",-1)\n",
        "  ]\n",
        "structureSchema = StructType([\n",
        "        StructField('name', StructType([\n",
        "             StructField('firstname', StringType(), True),\n",
        "             StructField('middlename', StringType(), True),\n",
        "             StructField('lastname', StringType(), True)\n",
        "             ])),\n",
        "         StructField('id', StringType(), True),\n",
        "         StructField('gender', StringType(), True),\n",
        "         StructField('salary', IntegerType(), True)\n",
        "         ])\n",
        "\n",
        "df2 = spark.createDataFrame(data=structureData,schema=structureSchema)\n",
        "df2.printSchema()\n",
        "df2.show(truncate=False)"
      ],
      "metadata": {
        "colab": {
          "base_uri": "https://localhost:8080/"
        },
        "id": "GxruxQShNgR1",
        "outputId": "7995fefc-8edb-4c83-b324-e9f323d23659"
      },
      "execution_count": null,
      "outputs": [
        {
          "output_type": "stream",
          "name": "stdout",
          "text": [
            "root\n",
            " |-- name: struct (nullable = true)\n",
            " |    |-- firstname: string (nullable = true)\n",
            " |    |-- middlename: string (nullable = true)\n",
            " |    |-- lastname: string (nullable = true)\n",
            " |-- id: string (nullable = true)\n",
            " |-- gender: string (nullable = true)\n",
            " |-- salary: integer (nullable = true)\n",
            "\n",
            "+--------------------+-----+------+------+\n",
            "|name                |id   |gender|salary|\n",
            "+--------------------+-----+------+------+\n",
            "|{James, , Smith}    |36636|M     |3100  |\n",
            "|{Michael, Rose, }   |40288|M     |4300  |\n",
            "|{Robert, , Williams}|42114|M     |1400  |\n",
            "|{Maria, Anne, Jones}|39192|F     |5500  |\n",
            "|{Jen, Mary, Brown}  |     |F     |-1    |\n",
            "+--------------------+-----+------+------+\n",
            "\n"
          ]
        }
      ]
    },
    {
      "cell_type": "code",
      "source": [
        "print(df.schema)"
      ],
      "metadata": {
        "colab": {
          "base_uri": "https://localhost:8080/"
        },
        "id": "YMURaEkJOkm_",
        "outputId": "a8733489-53bd-431a-dd2b-138083ed92ac"
      },
      "execution_count": null,
      "outputs": [
        {
          "output_type": "stream",
          "name": "stdout",
          "text": [
            "StructType(List(StructField(firstname,StringType,true),StructField(middlename,StringType,true),StructField(lastname,StringType,true),StructField(id,StringType,true),StructField(gender,StringType,true),StructField(salary,IntegerType,true)))\n"
          ]
        }
      ]
    },
    {
      "cell_type": "markdown",
      "source": [
        "# Operations in Pyspark DF"
      ],
      "metadata": {
        "id": "I5VKv34ETwrg"
      }
    },
    {
      "cell_type": "markdown",
      "source": [
        "#### **Select**"
      ],
      "metadata": {
        "id": "Atd_F6pLVEeL"
      }
    },
    {
      "cell_type": "code",
      "source": [
        "# Selecting columns of Pyspark df\n",
        "df.select('salary', 'id').show()\n",
        "#By using col() function\n",
        "from pyspark.sql.functions import col\n",
        "df.select(col(\"firstname\"),col(\"lastname\")).show()"
      ],
      "metadata": {
        "colab": {
          "base_uri": "https://localhost:8080/"
        },
        "id": "hppMU1DlPTnh",
        "outputId": "db7f7c2c-123f-4411-daeb-3ae3fb32e3a8"
      },
      "execution_count": null,
      "outputs": [
        {
          "output_type": "stream",
          "name": "stdout",
          "text": [
            "+------+-----+\n",
            "|salary|   id|\n",
            "+------+-----+\n",
            "|  3000|36636|\n",
            "|  4000|40288|\n",
            "|  4000|42114|\n",
            "|  4000|39192|\n",
            "|    -1|     |\n",
            "+------+-----+\n",
            "\n",
            "+---------+--------+\n",
            "|firstname|lastname|\n",
            "+---------+--------+\n",
            "|    James|   Smith|\n",
            "|  Michael|        |\n",
            "|   Robert|Williams|\n",
            "|    Maria|   Jones|\n",
            "|      Jen|   Brown|\n",
            "+---------+--------+\n",
            "\n"
          ]
        }
      ]
    },
    {
      "cell_type": "code",
      "source": [
        "df.select([col for col in df.columns]).show()\n",
        "# or\n",
        "df.select(\"*\").show()"
      ],
      "metadata": {
        "colab": {
          "base_uri": "https://localhost:8080/"
        },
        "id": "AoptHldPQPTf",
        "outputId": "3ce474d1-fe32-40b7-c238-9c78379cad8a"
      },
      "execution_count": null,
      "outputs": [
        {
          "output_type": "stream",
          "name": "stdout",
          "text": [
            "+---------+----------+--------+-----+------+------+\n",
            "|firstname|middlename|lastname|   id|gender|salary|\n",
            "+---------+----------+--------+-----+------+------+\n",
            "|    James|          |   Smith|36636|     M|  3000|\n",
            "|  Michael|      Rose|        |40288|     M|  4000|\n",
            "|   Robert|          |Williams|42114|     M|  4000|\n",
            "|    Maria|      Anne|   Jones|39192|     F|  4000|\n",
            "|      Jen|      Mary|   Brown|     |     F|    -1|\n",
            "+---------+----------+--------+-----+------+------+\n",
            "\n",
            "+---------+----------+--------+-----+------+------+\n",
            "|firstname|middlename|lastname|   id|gender|salary|\n",
            "+---------+----------+--------+-----+------+------+\n",
            "|    James|          |   Smith|36636|     M|  3000|\n",
            "|  Michael|      Rose|        |40288|     M|  4000|\n",
            "|   Robert|          |Williams|42114|     M|  4000|\n",
            "|    Maria|      Anne|   Jones|39192|     F|  4000|\n",
            "|      Jen|      Mary|   Brown|     |     F|    -1|\n",
            "+---------+----------+--------+-----+------+------+\n",
            "\n"
          ]
        }
      ]
    },
    {
      "cell_type": "code",
      "source": [
        "df.select(df.columns[:3]).show(3) # top 3 rows alone"
      ],
      "metadata": {
        "colab": {
          "base_uri": "https://localhost:8080/"
        },
        "id": "m8NPpcP8TZB4",
        "outputId": "a3716cb6-7ec5-45c3-b099-21a4f99c2b4e"
      },
      "execution_count": null,
      "outputs": [
        {
          "output_type": "stream",
          "name": "stdout",
          "text": [
            "+---------+----------+--------+\n",
            "|firstname|middlename|lastname|\n",
            "+---------+----------+--------+\n",
            "|    James|          |   Smith|\n",
            "|  Michael|      Rose|        |\n",
            "|   Robert|          |Williams|\n",
            "+---------+----------+--------+\n",
            "only showing top 3 rows\n",
            "\n"
          ]
        }
      ]
    },
    {
      "cell_type": "code",
      "source": [
        "# For nested ds:\n",
        "df2.select(\"name.firstname\",\"name.lastname\").show(truncate=False)\n",
        "df2.select(\"name.*\").show(truncate=False) # whuchever has 'name' in the col name"
      ],
      "metadata": {
        "colab": {
          "base_uri": "https://localhost:8080/"
        },
        "id": "c71dtGKATp-z",
        "outputId": "665544a8-db71-4ab6-8e52-590ef23b4d98"
      },
      "execution_count": null,
      "outputs": [
        {
          "output_type": "stream",
          "name": "stdout",
          "text": [
            "+---------+--------+\n",
            "|firstname|lastname|\n",
            "+---------+--------+\n",
            "|James    |Smith   |\n",
            "|Michael  |        |\n",
            "|Robert   |Williams|\n",
            "|Maria    |Jones   |\n",
            "|Jen      |Brown   |\n",
            "+---------+--------+\n",
            "\n",
            "+---------+----------+--------+\n",
            "|firstname|middlename|lastname|\n",
            "+---------+----------+--------+\n",
            "|James    |          |Smith   |\n",
            "|Michael  |Rose      |        |\n",
            "|Robert   |          |Williams|\n",
            "|Maria    |Anne      |Jones   |\n",
            "|Jen      |Mary      |Brown   |\n",
            "+---------+----------+--------+\n",
            "\n"
          ]
        }
      ]
    },
    {
      "cell_type": "markdown",
      "source": [
        "#### **Collect**"
      ],
      "metadata": {
        "id": "nhS-eDSrVHys"
      }
    },
    {
      "cell_type": "code",
      "source": [
        "# Collect is an action operation that is used to retrieve all the elements of the dataset (from all nodes) to the driver node\n",
        "# select() is a transformation that returns a new DataFrame and holds the columns that are selected\n",
        "# whereas collect() is an action that returns the entire data set in an Array to the driver."
      ],
      "metadata": {
        "id": "ip7FJy61T7sc"
      },
      "execution_count": null,
      "outputs": []
    },
    {
      "cell_type": "code",
      "source": [
        "df.collect() # All in row form, action returning data in an array to the driver"
      ],
      "metadata": {
        "colab": {
          "base_uri": "https://localhost:8080/"
        },
        "id": "cD9SmTc0VWps",
        "outputId": "1d12469f-fe0e-4992-ce6e-d33ad39beeaa"
      },
      "execution_count": null,
      "outputs": [
        {
          "output_type": "execute_result",
          "data": {
            "text/plain": [
              "[Row(firstname='James', middlename='', lastname='Smith', id='36636', gender='M', salary=3000),\n",
              " Row(firstname='Michael', middlename='Rose', lastname='', id='40288', gender='M', salary=4000),\n",
              " Row(firstname='Robert', middlename='', lastname='Williams', id='42114', gender='M', salary=4000),\n",
              " Row(firstname='Maria', middlename='Anne', lastname='Jones', id='39192', gender='F', salary=4000),\n",
              " Row(firstname='Jen', middlename='Mary', lastname='Brown', id='', gender='F', salary=-1)]"
            ]
          },
          "metadata": {},
          "execution_count": 69
        }
      ]
    },
    {
      "cell_type": "code",
      "source": [
        "# Looping over the data\n",
        "for row in df.collect(): # similar to iterrows()\n",
        "  print(row['firstname'] + ' gets salary of', str(row['salary']))"
      ],
      "metadata": {
        "colab": {
          "base_uri": "https://localhost:8080/"
        },
        "id": "yshe99AYeV_5",
        "outputId": "8d7b1098-916f-400c-cc76-369f3315ba6b"
      },
      "execution_count": null,
      "outputs": [
        {
          "output_type": "stream",
          "name": "stdout",
          "text": [
            "James gets salary of 3000\n",
            "Michael gets salary of 4000\n",
            "Robert gets salary of 4000\n",
            "Maria gets salary of 4000\n",
            "Jen gets salary of -1\n"
          ]
        }
      ]
    },
    {
      "cell_type": "code",
      "source": [
        "print(df.collect()[0])\n",
        "print(df.collect()[0][0])"
      ],
      "metadata": {
        "colab": {
          "base_uri": "https://localhost:8080/"
        },
        "id": "HQvFixrTewXK",
        "outputId": "689cc12e-b608-454e-eac5-e7298db076b2"
      },
      "execution_count": null,
      "outputs": [
        {
          "output_type": "stream",
          "name": "stdout",
          "text": [
            "Row(firstname='James', middlename='', lastname='Smith', id='36636', gender='M', salary=3000)\n",
            "James\n"
          ]
        }
      ]
    },
    {
      "cell_type": "markdown",
      "source": [
        "## **withColumn**()"
      ],
      "metadata": {
        "id": "N8pmnHjMhaLh"
      }
    },
    {
      "cell_type": "markdown",
      "source": [
        "transformation function of DataFrame which is used to:\n",
        "change the value \\\n",
        "convert the datatype of an existing column \\\n",
        "create a new column \\"
      ],
      "metadata": {
        "id": "PlPt-U50haSY"
      }
    },
    {
      "cell_type": "code",
      "source": [
        "# Change DataType using PySpark withColumn()\n",
        "df.withColumn('salary', col('salary').cast(\"Integer\")).show()  # same as df['salary] = df['salary].astype(int)\n",
        "\n",
        "# Update The Value of an Existing Column\n",
        "df.withColumn('salary', col('salary')*10).show()  # same as df['salary'] = df['salary'] * 10\n",
        "\n",
        "# Create a new column based on existing one\n",
        "df.withColumn('newSalary', col('salary') * 12).show() # same as df['newSalary'] = df['salary] * 12 but all does not save to df!"
      ],
      "metadata": {
        "colab": {
          "base_uri": "https://localhost:8080/"
        },
        "id": "eEab37KkfZ2b",
        "outputId": "e894f161-be17-4e8b-a648-647c9948e110"
      },
      "execution_count": null,
      "outputs": [
        {
          "output_type": "stream",
          "name": "stdout",
          "text": [
            "+---------+----------+--------+-----+------+------+\n",
            "|firstname|middlename|lastname|   id|gender|salary|\n",
            "+---------+----------+--------+-----+------+------+\n",
            "|    James|          |   Smith|36636|     M|  3000|\n",
            "|  Michael|      Rose|        |40288|     M|  4000|\n",
            "|   Robert|          |Williams|42114|     M|  4000|\n",
            "|    Maria|      Anne|   Jones|39192|     F|  4000|\n",
            "|      Jen|      Mary|   Brown|     |     F|    -1|\n",
            "+---------+----------+--------+-----+------+------+\n",
            "\n",
            "+---------+----------+--------+-----+------+------+\n",
            "|firstname|middlename|lastname|   id|gender|salary|\n",
            "+---------+----------+--------+-----+------+------+\n",
            "|    James|          |   Smith|36636|     M| 30000|\n",
            "|  Michael|      Rose|        |40288|     M| 40000|\n",
            "|   Robert|          |Williams|42114|     M| 40000|\n",
            "|    Maria|      Anne|   Jones|39192|     F| 40000|\n",
            "|      Jen|      Mary|   Brown|     |     F|   -10|\n",
            "+---------+----------+--------+-----+------+------+\n",
            "\n",
            "+---------+----------+--------+-----+------+------+---------+\n",
            "|firstname|middlename|lastname|   id|gender|salary|newSalary|\n",
            "+---------+----------+--------+-----+------+------+---------+\n",
            "|    James|          |   Smith|36636|     M|  3000|    36000|\n",
            "|  Michael|      Rose|        |40288|     M|  4000|    48000|\n",
            "|   Robert|          |Williams|42114|     M|  4000|    48000|\n",
            "|    Maria|      Anne|   Jones|39192|     F|  4000|    48000|\n",
            "|      Jen|      Mary|   Brown|     |     F|    -1|      -12|\n",
            "+---------+----------+--------+-----+------+------+---------+\n",
            "\n"
          ]
        }
      ]
    },
    {
      "cell_type": "code",
      "source": [
        "#  PySpark lit() function is used to add a constant value to a DataFrame column\n",
        "from pyspark.sql.functions import lit\n",
        "df.withColumn('Country', lit('USA')).show() # same as df['Country'] = 'USA'\n",
        "\n",
        "df.withColumn('County', lit('Champaign')) \\\n",
        "  .withColumn('PIN', lit('61820')).show()\n",
        "\n",
        "# Rename column name\n",
        "df.withColumnRenamed('gender', 'sex').show() # similar to df.rename(columns={'gender' : 'sex'})\n",
        "\n",
        "df.withColumnRenamed('id', 'ID') \\\n",
        "  .withColumnRenamed('gender', 'sex').show()\n",
        "# Dropping a column\n",
        "df.drop('salary').show() # df.drop('salary', axis=1)"
      ],
      "metadata": {
        "colab": {
          "base_uri": "https://localhost:8080/"
        },
        "id": "PFpXmzq9iRBY",
        "outputId": "f8153d8c-5184-4c8d-fd1d-eeac5b515522"
      },
      "execution_count": null,
      "outputs": [
        {
          "output_type": "stream",
          "name": "stdout",
          "text": [
            "+---------+----------+--------+-----+------+------+-------+\n",
            "|firstname|middlename|lastname|   id|gender|salary|Country|\n",
            "+---------+----------+--------+-----+------+------+-------+\n",
            "|    James|          |   Smith|36636|     M|  3000|    USA|\n",
            "|  Michael|      Rose|        |40288|     M|  4000|    USA|\n",
            "|   Robert|          |Williams|42114|     M|  4000|    USA|\n",
            "|    Maria|      Anne|   Jones|39192|     F|  4000|    USA|\n",
            "|      Jen|      Mary|   Brown|     |     F|    -1|    USA|\n",
            "+---------+----------+--------+-----+------+------+-------+\n",
            "\n",
            "+---------+----------+--------+-----+------+------+---------+-----+\n",
            "|firstname|middlename|lastname|   id|gender|salary|   County|  PIN|\n",
            "+---------+----------+--------+-----+------+------+---------+-----+\n",
            "|    James|          |   Smith|36636|     M|  3000|Champaign|61820|\n",
            "|  Michael|      Rose|        |40288|     M|  4000|Champaign|61820|\n",
            "|   Robert|          |Williams|42114|     M|  4000|Champaign|61820|\n",
            "|    Maria|      Anne|   Jones|39192|     F|  4000|Champaign|61820|\n",
            "|      Jen|      Mary|   Brown|     |     F|    -1|Champaign|61820|\n",
            "+---------+----------+--------+-----+------+------+---------+-----+\n",
            "\n",
            "+---------+----------+--------+-----+---+------+\n",
            "|firstname|middlename|lastname|   id|sex|salary|\n",
            "+---------+----------+--------+-----+---+------+\n",
            "|    James|          |   Smith|36636|  M|  3000|\n",
            "|  Michael|      Rose|        |40288|  M|  4000|\n",
            "|   Robert|          |Williams|42114|  M|  4000|\n",
            "|    Maria|      Anne|   Jones|39192|  F|  4000|\n",
            "|      Jen|      Mary|   Brown|     |  F|    -1|\n",
            "+---------+----------+--------+-----+---+------+\n",
            "\n",
            "+---------+----------+--------+-----+---+------+\n",
            "|firstname|middlename|lastname|   ID|sex|salary|\n",
            "+---------+----------+--------+-----+---+------+\n",
            "|    James|          |   Smith|36636|  M|  3000|\n",
            "|  Michael|      Rose|        |40288|  M|  4000|\n",
            "|   Robert|          |Williams|42114|  M|  4000|\n",
            "|    Maria|      Anne|   Jones|39192|  F|  4000|\n",
            "|      Jen|      Mary|   Brown|     |  F|    -1|\n",
            "+---------+----------+--------+-----+---+------+\n",
            "\n",
            "+---------+----------+--------+-----+------+\n",
            "|firstname|middlename|lastname|   id|gender|\n",
            "+---------+----------+--------+-----+------+\n",
            "|    James|          |   Smith|36636|     M|\n",
            "|  Michael|      Rose|        |40288|     M|\n",
            "|   Robert|          |Williams|42114|     M|\n",
            "|    Maria|      Anne|   Jones|39192|     F|\n",
            "|      Jen|      Mary|   Brown|     |     F|\n",
            "+---------+----------+--------+-----+------+\n",
            "\n"
          ]
        }
      ]
    },
    {
      "cell_type": "code",
      "source": [
        "newColumns = [\"newCol1\",\"newCol2\",\"newCol3\",\"newCol4\", 'newCol5', 'newCol6']\n",
        "df.toDF(*newColumns).printSchema() # same as df.columns = newColumns"
      ],
      "metadata": {
        "colab": {
          "base_uri": "https://localhost:8080/"
        },
        "id": "pivoa_vikYTa",
        "outputId": "f8207dd8-317b-4107-9138-a3052b4ef1c9"
      },
      "execution_count": null,
      "outputs": [
        {
          "output_type": "stream",
          "name": "stdout",
          "text": [
            "root\n",
            " |-- newCol1: string (nullable = true)\n",
            " |-- newCol2: string (nullable = true)\n",
            " |-- newCol3: string (nullable = true)\n",
            " |-- newCol4: string (nullable = true)\n",
            " |-- newCol5: string (nullable = true)\n",
            " |-- newCol6: integer (nullable = true)\n",
            "\n"
          ]
        }
      ]
    },
    {
      "cell_type": "markdown",
      "source": [
        "# **Where & Filter**"
      ],
      "metadata": {
        "id": "JTIITEiFq-rS"
      }
    },
    {
      "cell_type": "markdown",
      "source": [
        "1. PySpark filter() function is used to filter the rows from RDD/DataFrame based on the given condition or SQL expression. \\\n",
        "2. You can also use where() clause instead of the filter() if you are coming from an SQL background, both these functions operate exactly the same"
      ],
      "metadata": {
        "id": "dnFowis-rn4O"
      }
    },
    {
      "cell_type": "code",
      "source": [
        "from pyspark.sql.types import StructType,StructField \n",
        "from pyspark.sql.types import StringType, IntegerType, ArrayType\n",
        "data = [\n",
        "    ((\"James\",\"\",\"Smith\"),[\"Java\",\"Scala\",\"C++\"],\"OH\",\"M\"), ((\"Anna\",\"Rose\",\"\"),[\"Spark\",\"Java\",\"C++\"],\"NY\",\"F\"),\n",
        "    ((\"Julia\",\"\",\"Williams\"),[\"CSharp\",\"VB\"],\"OH\",\"F\"), ((\"Maria\",\"Anne\",\"Jones\"),[\"CSharp\",\"VB\"],\"NY\",\"M\"),\n",
        "    ((\"Jen\",\"Mary\",\"Brown\"),[\"CSharp\",\"VB\"],\"NY\",\"M\"), ((\"Mike\",\"Mary\",\"Williams\"),[\"Python\",\"VB\"],\"OH\",\"M\") ]\n",
        "        \n",
        "schema = StructType([\n",
        "     StructField('name', StructType([\n",
        "        StructField('firstname', StringType(), True),\n",
        "        StructField('middlename', StringType(), True),\n",
        "         StructField('lastname', StringType(), True)\n",
        "     ])),\n",
        "     StructField('languages', ArrayType(StringType()), True),\n",
        "     StructField('state', StringType(), True),\n",
        "     StructField('gender', StringType(), True)\n",
        " ])\n",
        "\n",
        "df = spark.createDataFrame(data = data, schema = schema)\n",
        "df.printSchema()\n",
        "df.show(truncate=False)"
      ],
      "metadata": {
        "colab": {
          "base_uri": "https://localhost:8080/"
        },
        "id": "JJbjLeu4qrlN",
        "outputId": "663af066-fbe9-4c41-954d-b07297139752"
      },
      "execution_count": null,
      "outputs": [
        {
          "output_type": "stream",
          "name": "stdout",
          "text": [
            "root\n",
            " |-- name: struct (nullable = true)\n",
            " |    |-- firstname: string (nullable = true)\n",
            " |    |-- middlename: string (nullable = true)\n",
            " |    |-- lastname: string (nullable = true)\n",
            " |-- languages: array (nullable = true)\n",
            " |    |-- element: string (containsNull = true)\n",
            " |-- state: string (nullable = true)\n",
            " |-- gender: string (nullable = true)\n",
            "\n",
            "+----------------------+------------------+-----+------+\n",
            "|name                  |languages         |state|gender|\n",
            "+----------------------+------------------+-----+------+\n",
            "|{James, , Smith}      |[Java, Scala, C++]|OH   |M     |\n",
            "|{Anna, Rose, }        |[Spark, Java, C++]|NY   |F     |\n",
            "|{Julia, , Williams}   |[CSharp, VB]      |OH   |F     |\n",
            "|{Maria, Anne, Jones}  |[CSharp, VB]      |NY   |M     |\n",
            "|{Jen, Mary, Brown}    |[CSharp, VB]      |NY   |M     |\n",
            "|{Mike, Mary, Williams}|[Python, VB]      |OH   |M     |\n",
            "+----------------------+------------------+-----+------+\n",
            "\n"
          ]
        }
      ]
    },
    {
      "cell_type": "code",
      "source": [
        "df.filter(df.state=='OH').show(truncate=False)\n",
        "df.filter(df.state!='OH').show(truncate=False)\n",
        "df.filter(~(df.state=='OH')).show(truncate=False)"
      ],
      "metadata": {
        "colab": {
          "base_uri": "https://localhost:8080/"
        },
        "id": "aSYzeYi1uBEC",
        "outputId": "20fd20d3-04e2-4e08-c351-3aadf4c86491"
      },
      "execution_count": null,
      "outputs": [
        {
          "output_type": "stream",
          "name": "stdout",
          "text": [
            "+----------------------+------------------+-----+------+\n",
            "|name                  |languages         |state|gender|\n",
            "+----------------------+------------------+-----+------+\n",
            "|{James, , Smith}      |[Java, Scala, C++]|OH   |M     |\n",
            "|{Julia, , Williams}   |[CSharp, VB]      |OH   |F     |\n",
            "|{Mike, Mary, Williams}|[Python, VB]      |OH   |M     |\n",
            "+----------------------+------------------+-----+------+\n",
            "\n",
            "+--------------------+------------------+-----+------+\n",
            "|name                |languages         |state|gender|\n",
            "+--------------------+------------------+-----+------+\n",
            "|{Anna, Rose, }      |[Spark, Java, C++]|NY   |F     |\n",
            "|{Maria, Anne, Jones}|[CSharp, VB]      |NY   |M     |\n",
            "|{Jen, Mary, Brown}  |[CSharp, VB]      |NY   |M     |\n",
            "+--------------------+------------------+-----+------+\n",
            "\n",
            "+--------------------+------------------+-----+------+\n",
            "|name                |languages         |state|gender|\n",
            "+--------------------+------------------+-----+------+\n",
            "|{Anna, Rose, }      |[Spark, Java, C++]|NY   |F     |\n",
            "|{Maria, Anne, Jones}|[CSharp, VB]      |NY   |M     |\n",
            "|{Jen, Mary, Brown}  |[CSharp, VB]      |NY   |M     |\n",
            "+--------------------+------------------+-----+------+\n",
            "\n"
          ]
        }
      ]
    },
    {
      "cell_type": "code",
      "source": [
        "from pyspark.sql.functions import col\n",
        "df.filter(col('state')=='OH').show()"
      ],
      "metadata": {
        "colab": {
          "base_uri": "https://localhost:8080/"
        },
        "id": "71pa6EG9uKSP",
        "outputId": "e93ca3ba-0b6c-4081-cd51-58bb47d7f09c"
      },
      "execution_count": null,
      "outputs": [
        {
          "output_type": "stream",
          "name": "stdout",
          "text": [
            "+--------------------+------------------+-----+------+\n",
            "|                name|         languages|state|gender|\n",
            "+--------------------+------------------+-----+------+\n",
            "|    {James, , Smith}|[Java, Scala, C++]|   OH|     M|\n",
            "| {Julia, , Williams}|      [CSharp, VB]|   OH|     F|\n",
            "|{Mike, Mary, Will...|      [Python, VB]|   OH|     M|\n",
            "+--------------------+------------------+-----+------+\n",
            "\n"
          ]
        }
      ]
    },
    {
      "cell_type": "code",
      "source": [
        "# Filter with SQL\n",
        "query_like = \"gender <> 'M'\"\n",
        "df.filter(query_like).show()"
      ],
      "metadata": {
        "colab": {
          "base_uri": "https://localhost:8080/"
        },
        "id": "lgleNECdu48h",
        "outputId": "dc3b2bec-ce6f-48bf-e68e-06d63385fcb2"
      },
      "execution_count": null,
      "outputs": [
        {
          "output_type": "stream",
          "name": "stdout",
          "text": [
            "+-------------------+------------------+-----+------+\n",
            "|               name|         languages|state|gender|\n",
            "+-------------------+------------------+-----+------+\n",
            "|     {Anna, Rose, }|[Spark, Java, C++]|   NY|     F|\n",
            "|{Julia, , Williams}|      [CSharp, VB]|   OH|     F|\n",
            "+-------------------+------------------+-----+------+\n",
            "\n"
          ]
        }
      ]
    },
    {
      "cell_type": "code",
      "source": [
        "# Filter with mutiple conditions\n",
        "df.filter((df.state=='OH' )& (df.gender=='F')).show()\n",
        "\n",
        "states = ['OH', 'NY']\n",
        "df.filter(df.state.isin(states)).show()"
      ],
      "metadata": {
        "colab": {
          "base_uri": "https://localhost:8080/"
        },
        "id": "c43EFo9TvE0g",
        "outputId": "31e7851d-c1e3-4d87-9368-963de237abba"
      },
      "execution_count": null,
      "outputs": [
        {
          "output_type": "stream",
          "name": "stdout",
          "text": [
            "+-------------------+------------+-----+------+\n",
            "|               name|   languages|state|gender|\n",
            "+-------------------+------------+-----+------+\n",
            "|{Julia, , Williams}|[CSharp, VB]|   OH|     F|\n",
            "+-------------------+------------+-----+------+\n",
            "\n",
            "+--------------------+------------------+-----+------+\n",
            "|                name|         languages|state|gender|\n",
            "+--------------------+------------------+-----+------+\n",
            "|    {James, , Smith}|[Java, Scala, C++]|   OH|     M|\n",
            "|      {Anna, Rose, }|[Spark, Java, C++]|   NY|     F|\n",
            "| {Julia, , Williams}|      [CSharp, VB]|   OH|     F|\n",
            "|{Maria, Anne, Jones}|      [CSharp, VB]|   NY|     M|\n",
            "|  {Jen, Mary, Brown}|      [CSharp, VB]|   NY|     M|\n",
            "|{Mike, Mary, Will...|      [Python, VB]|   OH|     M|\n",
            "+--------------------+------------------+-----+------+\n",
            "\n"
          ]
        }
      ]
    },
    {
      "cell_type": "code",
      "source": [
        "# Filter based on startswith, endswith and contains\n",
        "df.filter(df.state.startswith('N') & (df.gender.endswith('F'))).show() \n",
        "df.filter(df.state.contains('H')).show() # same as df[df.state.contains('H)]"
      ],
      "metadata": {
        "colab": {
          "base_uri": "https://localhost:8080/"
        },
        "id": "wQpdeGR1vtWZ",
        "outputId": "30d3075a-d3f5-4e90-9578-cedfb601164d"
      },
      "execution_count": null,
      "outputs": [
        {
          "output_type": "stream",
          "name": "stdout",
          "text": [
            "+--------------+------------------+-----+------+\n",
            "|          name|         languages|state|gender|\n",
            "+--------------+------------------+-----+------+\n",
            "|{Anna, Rose, }|[Spark, Java, C++]|   NY|     F|\n",
            "+--------------+------------------+-----+------+\n",
            "\n",
            "+--------------------+------------------+-----+------+\n",
            "|                name|         languages|state|gender|\n",
            "+--------------------+------------------+-----+------+\n",
            "|    {James, , Smith}|[Java, Scala, C++]|   OH|     M|\n",
            "| {Julia, , Williams}|      [CSharp, VB]|   OH|     F|\n",
            "|{Mike, Mary, Will...|      [Python, VB]|   OH|     M|\n",
            "+--------------------+------------------+-----+------+\n",
            "\n"
          ]
        }
      ]
    },
    {
      "cell_type": "code",
      "source": [
        "data2 = [(2,\"Michael Rose\"),(3,\"Robert Williams\"),\n",
        "     (4,\"Rames Rose\"),(5,\"Rames rose\")\n",
        "  ]\n",
        "df2 = spark.createDataFrame(data = data2, schema = [\"id\",\"name\"])"
      ],
      "metadata": {
        "id": "6GttkvuIxEm_"
      },
      "execution_count": null,
      "outputs": []
    },
    {
      "cell_type": "code",
      "source": [
        "# Filter using like and rlike\n",
        "df2.filter(df2.name.like('%ert%')).show()\n",
        "\n",
        "# rlike - SQL RLIKE pattern (LIKE with Regex)\n",
        "df2.filter(df2.name.rlike(\"(?i)^*rose$\")).show()"
      ],
      "metadata": {
        "colab": {
          "base_uri": "https://localhost:8080/"
        },
        "id": "5ryz-fkFyJjs",
        "outputId": "0c9b8a57-0964-4de1-fb10-8a502cc307cb"
      },
      "execution_count": null,
      "outputs": [
        {
          "output_type": "stream",
          "name": "stdout",
          "text": [
            "+---+---------------+\n",
            "| id|           name|\n",
            "+---+---------------+\n",
            "|  3|Robert Williams|\n",
            "+---+---------------+\n",
            "\n",
            "+---+------------+\n",
            "| id|        name|\n",
            "+---+------------+\n",
            "|  2|Michael Rose|\n",
            "|  4|  Rames Rose|\n",
            "|  5|  Rames rose|\n",
            "+---+------------+\n",
            "\n"
          ]
        }
      ]
    },
    {
      "cell_type": "code",
      "source": [
        "# Filter on an Array column\n",
        "df.show(1)\n",
        "\n",
        "from pyspark.sql.functions import array_contains\n",
        "df.filter(array_contains(df.languages, 'Java')).show()\n",
        "\n",
        "# Filtering on Nested Struct columns\n",
        "df.filter(df.name.firstname == 'Anna').show()"
      ],
      "metadata": {
        "colab": {
          "base_uri": "https://localhost:8080/"
        },
        "id": "_ge1-q8XyQyf",
        "outputId": "c21e6832-3f51-4c7b-f503-0f1ed4e8c2d9"
      },
      "execution_count": null,
      "outputs": [
        {
          "output_type": "stream",
          "name": "stdout",
          "text": [
            "+----------------+------------------+-----+------+\n",
            "|            name|         languages|state|gender|\n",
            "+----------------+------------------+-----+------+\n",
            "|{James, , Smith}|[Java, Scala, C++]|   OH|     M|\n",
            "+----------------+------------------+-----+------+\n",
            "only showing top 1 row\n",
            "\n",
            "+----------------+------------------+-----+------+\n",
            "|            name|         languages|state|gender|\n",
            "+----------------+------------------+-----+------+\n",
            "|{James, , Smith}|[Java, Scala, C++]|   OH|     M|\n",
            "|  {Anna, Rose, }|[Spark, Java, C++]|   NY|     F|\n",
            "+----------------+------------------+-----+------+\n",
            "\n",
            "+--------------+------------------+-----+------+\n",
            "|          name|         languages|state|gender|\n",
            "+--------------+------------------+-----+------+\n",
            "|{Anna, Rose, }|[Spark, Java, C++]|   NY|     F|\n",
            "+--------------+------------------+-----+------+\n",
            "\n"
          ]
        }
      ]
    },
    {
      "cell_type": "markdown",
      "source": [
        "## **Read and Write files in Pyspark**"
      ],
      "metadata": {
        "id": "EYCMTp9T3X9W"
      }
    },
    {
      "cell_type": "code",
      "source": [
        "dff = spark.read.csv('./sample_data/california_housing_train.csv')\n",
        "# OR\n",
        "dff = spark.read.format(\"csv\").load('./sample_data/california_housing_train.csv')\n",
        "dff.printSchema()"
      ],
      "metadata": {
        "colab": {
          "base_uri": "https://localhost:8080/"
        },
        "id": "rRRK5Hyi0Z0A",
        "outputId": "8fb5c74f-105d-4c89-bd4d-bce06603e5fd"
      },
      "execution_count": null,
      "outputs": [
        {
          "output_type": "stream",
          "name": "stdout",
          "text": [
            "root\n",
            " |-- _c0: string (nullable = true)\n",
            " |-- _c1: string (nullable = true)\n",
            " |-- _c2: string (nullable = true)\n",
            " |-- _c3: string (nullable = true)\n",
            " |-- _c4: string (nullable = true)\n",
            " |-- _c5: string (nullable = true)\n",
            " |-- _c6: string (nullable = true)\n",
            " |-- _c7: string (nullable = true)\n",
            " |-- _c8: string (nullable = true)\n",
            "\n"
          ]
        }
      ]
    },
    {
      "cell_type": "markdown",
      "source": [
        "##### 1.1 Using Header Record For Column Names"
      ],
      "metadata": {
        "id": "50-6O1-844mh"
      }
    },
    {
      "cell_type": "code",
      "source": [
        "# Explicitly have to mention header = True \n",
        "dff = spark.read.options(header = True).csv('./sample_data/california_housing_train.csv')\n",
        "dff.show(2)\n",
        "# PySpark reads all columns as a string (StringType) by default"
      ],
      "metadata": {
        "colab": {
          "base_uri": "https://localhost:8080/"
        },
        "id": "jTkvhb1K3yJ4",
        "outputId": "bd20fb1f-7584-4fbd-9851-b0825185cb3a"
      },
      "execution_count": null,
      "outputs": [
        {
          "output_type": "stream",
          "name": "stdout",
          "text": [
            "+-----------+---------+------------------+-----------+--------------+-----------+----------+-------------+------------------+\n",
            "|  longitude| latitude|housing_median_age|total_rooms|total_bedrooms| population|households|median_income|median_house_value|\n",
            "+-----------+---------+------------------+-----------+--------------+-----------+----------+-------------+------------------+\n",
            "|-114.310000|34.190000|         15.000000|5612.000000|   1283.000000|1015.000000|472.000000|     1.493600|      66900.000000|\n",
            "|-114.470000|34.400000|         19.000000|7650.000000|   1901.000000|1129.000000|463.000000|     1.820000|      80100.000000|\n",
            "+-----------+---------+------------------+-----------+--------------+-----------+----------+-------------+------------------+\n",
            "only showing top 2 rows\n",
            "\n"
          ]
        }
      ]
    },
    {
      "cell_type": "markdown",
      "source": [
        "##### 1.2 Read Multiple csv"
      ],
      "metadata": {
        "id": "ZUyTdEAo6DJc"
      }
    },
    {
      "cell_type": "code",
      "source": [
        "# df = spark.read.csv(\"path1,path2,path3\")\n",
        "dff = spark.read.csv('./sample_data') # ALL CSV FILES IN THE SAMPLE DATA\n",
        "dff.show(2)"
      ],
      "metadata": {
        "colab": {
          "base_uri": "https://localhost:8080/"
        },
        "id": "ZxvU6myx57j3",
        "outputId": "3bede711-9788-426c-ed8a-e7835dc2c912"
      },
      "execution_count": null,
      "outputs": [
        {
          "output_type": "stream",
          "name": "stdout",
          "text": [
            "+---+---+---+---+---+---+---+---+---+---+----+----+----+----+----+----+----+----+----+----+----+----+----+----+----+----+----+----+----+----+----+----+----+----+----+----+----+----+----+----+----+----+----+----+----+----+----+----+----+----+----+----+----+----+----+----+----+----+----+----+----+----+----+----+----+----+----+----+----+----+----+----+----+----+----+----+----+----+----+----+----+----+----+----+----+----+----+----+----+----+----+----+----+----+----+----+----+----+----+----+-----+-----+-----+-----+-----+-----+-----+-----+-----+-----+-----+-----+-----+-----+-----+-----+-----+-----+-----+-----+-----+-----+-----+-----+-----+-----+-----+-----+-----+-----+-----+-----+-----+-----+-----+-----+-----+-----+-----+-----+-----+-----+-----+-----+-----+-----+-----+-----+-----+-----+-----+-----+-----+-----+-----+-----+-----+-----+-----+-----+-----+-----+-----+-----+-----+-----+-----+-----+-----+-----+-----+-----+-----+-----+-----+-----+-----+-----+-----+-----+-----+-----+-----+-----+-----+-----+-----+-----+-----+-----+-----+-----+-----+-----+-----+-----+-----+-----+-----+-----+-----+-----+-----+-----+-----+-----+-----+-----+-----+-----+-----+-----+-----+-----+-----+-----+-----+-----+-----+-----+-----+-----+-----+-----+-----+-----+-----+-----+-----+-----+-----+-----+-----+-----+-----+-----+-----+-----+-----+-----+-----+-----+-----+-----+-----+-----+-----+-----+-----+-----+-----+-----+-----+-----+-----+-----+-----+-----+-----+-----+-----+-----+-----+-----+-----+-----+-----+-----+-----+-----+-----+-----+-----+-----+-----+-----+-----+-----+-----+-----+-----+-----+-----+-----+-----+-----+-----+-----+-----+-----+-----+-----+-----+-----+-----+-----+-----+-----+-----+-----+-----+-----+-----+-----+-----+-----+-----+-----+-----+-----+-----+-----+-----+-----+-----+-----+-----+-----+-----+-----+-----+-----+-----+-----+-----+-----+-----+-----+-----+-----+-----+-----+-----+-----+-----+-----+-----+-----+-----+-----+-----+-----+-----+-----+-----+-----+-----+-----+-----+-----+-----+-----+-----+-----+-----+-----+-----+-----+-----+-----+-----+-----+-----+-----+-----+-----+-----+-----+-----+-----+-----+-----+-----+-----+-----+-----+-----+-----+-----+-----+-----+-----+-----+-----+-----+-----+-----+-----+-----+-----+-----+-----+-----+-----+-----+-----+-----+-----+-----+-----+-----+-----+-----+-----+-----+-----+-----+-----+-----+-----+-----+-----+-----+-----+-----+-----+-----+-----+-----+-----+-----+-----+-----+-----+-----+-----+-----+-----+-----+-----+-----+-----+-----+-----+-----+-----+-----+-----+-----+-----+-----+-----+-----+-----+-----+-----+-----+-----+-----+-----+-----+-----+-----+-----+-----+-----+-----+-----+-----+-----+-----+-----+-----+-----+-----+-----+-----+-----+-----+-----+-----+-----+-----+-----+-----+-----+-----+-----+-----+-----+-----+-----+-----+-----+-----+-----+-----+-----+-----+-----+-----+-----+-----+-----+-----+-----+-----+-----+-----+-----+-----+-----+-----+-----+-----+-----+-----+-----+-----+-----+-----+-----+-----+-----+-----+-----+-----+-----+-----+-----+-----+-----+-----+-----+-----+-----+-----+-----+-----+-----+-----+-----+-----+-----+-----+-----+-----+-----+-----+-----+-----+-----+-----+-----+-----+-----+-----+-----+-----+-----+-----+-----+-----+-----+-----+-----+-----+-----+-----+-----+-----+-----+-----+-----+-----+-----+-----+-----+-----+-----+-----+-----+-----+-----+-----+-----+-----+-----+-----+-----+-----+-----+-----+-----+-----+-----+-----+-----+-----+-----+-----+-----+-----+-----+-----+-----+-----+-----+-----+-----+-----+-----+-----+-----+-----+-----+-----+-----+-----+-----+-----+-----+-----+-----+-----+-----+-----+-----+-----+-----+-----+-----+-----+-----+-----+-----+-----+-----+-----+-----+-----+-----+-----+-----+-----+-----+-----+-----+-----+-----+-----+-----+-----+-----+-----+-----+-----+-----+-----+-----+-----+-----+-----+-----+-----+-----+-----+-----+-----+-----+-----+-----+-----+-----+-----+-----+-----+-----+-----+-----+-----+-----+-----+-----+-----+-----+-----+-----+-----+-----+-----+-----+-----+-----+-----+-----+-----+-----+-----+-----+-----+-----+-----+-----+-----+-----+-----+-----+-----+-----+-----+-----+-----+-----+-----+-----+-----+-----+-----+-----+-----+-----+-----+-----+-----+-----+-----+-----+-----+-----+-----+-----+-----+-----+-----+-----+-----+-----+-----+-----+-----+-----+-----+-----+-----+-----+-----+-----+-----+-----+-----+-----+-----+-----+-----+-----+-----+-----+-----+-----+-----+-----+-----+-----+-----+-----+-----+-----+-----+-----+-----+-----+-----+-----+-----+-----+-----+-----+-----+-----+-----+-----+-----+-----+-----+-----+-----+-----+-----+-----+-----+-----+-----+-----+-----+\n",
            "|_c0|_c1|_c2|_c3|_c4|_c5|_c6|_c7|_c8|_c9|_c10|_c11|_c12|_c13|_c14|_c15|_c16|_c17|_c18|_c19|_c20|_c21|_c22|_c23|_c24|_c25|_c26|_c27|_c28|_c29|_c30|_c31|_c32|_c33|_c34|_c35|_c36|_c37|_c38|_c39|_c40|_c41|_c42|_c43|_c44|_c45|_c46|_c47|_c48|_c49|_c50|_c51|_c52|_c53|_c54|_c55|_c56|_c57|_c58|_c59|_c60|_c61|_c62|_c63|_c64|_c65|_c66|_c67|_c68|_c69|_c70|_c71|_c72|_c73|_c74|_c75|_c76|_c77|_c78|_c79|_c80|_c81|_c82|_c83|_c84|_c85|_c86|_c87|_c88|_c89|_c90|_c91|_c92|_c93|_c94|_c95|_c96|_c97|_c98|_c99|_c100|_c101|_c102|_c103|_c104|_c105|_c106|_c107|_c108|_c109|_c110|_c111|_c112|_c113|_c114|_c115|_c116|_c117|_c118|_c119|_c120|_c121|_c122|_c123|_c124|_c125|_c126|_c127|_c128|_c129|_c130|_c131|_c132|_c133|_c134|_c135|_c136|_c137|_c138|_c139|_c140|_c141|_c142|_c143|_c144|_c145|_c146|_c147|_c148|_c149|_c150|_c151|_c152|_c153|_c154|_c155|_c156|_c157|_c158|_c159|_c160|_c161|_c162|_c163|_c164|_c165|_c166|_c167|_c168|_c169|_c170|_c171|_c172|_c173|_c174|_c175|_c176|_c177|_c178|_c179|_c180|_c181|_c182|_c183|_c184|_c185|_c186|_c187|_c188|_c189|_c190|_c191|_c192|_c193|_c194|_c195|_c196|_c197|_c198|_c199|_c200|_c201|_c202|_c203|_c204|_c205|_c206|_c207|_c208|_c209|_c210|_c211|_c212|_c213|_c214|_c215|_c216|_c217|_c218|_c219|_c220|_c221|_c222|_c223|_c224|_c225|_c226|_c227|_c228|_c229|_c230|_c231|_c232|_c233|_c234|_c235|_c236|_c237|_c238|_c239|_c240|_c241|_c242|_c243|_c244|_c245|_c246|_c247|_c248|_c249|_c250|_c251|_c252|_c253|_c254|_c255|_c256|_c257|_c258|_c259|_c260|_c261|_c262|_c263|_c264|_c265|_c266|_c267|_c268|_c269|_c270|_c271|_c272|_c273|_c274|_c275|_c276|_c277|_c278|_c279|_c280|_c281|_c282|_c283|_c284|_c285|_c286|_c287|_c288|_c289|_c290|_c291|_c292|_c293|_c294|_c295|_c296|_c297|_c298|_c299|_c300|_c301|_c302|_c303|_c304|_c305|_c306|_c307|_c308|_c309|_c310|_c311|_c312|_c313|_c314|_c315|_c316|_c317|_c318|_c319|_c320|_c321|_c322|_c323|_c324|_c325|_c326|_c327|_c328|_c329|_c330|_c331|_c332|_c333|_c334|_c335|_c336|_c337|_c338|_c339|_c340|_c341|_c342|_c343|_c344|_c345|_c346|_c347|_c348|_c349|_c350|_c351|_c352|_c353|_c354|_c355|_c356|_c357|_c358|_c359|_c360|_c361|_c362|_c363|_c364|_c365|_c366|_c367|_c368|_c369|_c370|_c371|_c372|_c373|_c374|_c375|_c376|_c377|_c378|_c379|_c380|_c381|_c382|_c383|_c384|_c385|_c386|_c387|_c388|_c389|_c390|_c391|_c392|_c393|_c394|_c395|_c396|_c397|_c398|_c399|_c400|_c401|_c402|_c403|_c404|_c405|_c406|_c407|_c408|_c409|_c410|_c411|_c412|_c413|_c414|_c415|_c416|_c417|_c418|_c419|_c420|_c421|_c422|_c423|_c424|_c425|_c426|_c427|_c428|_c429|_c430|_c431|_c432|_c433|_c434|_c435|_c436|_c437|_c438|_c439|_c440|_c441|_c442|_c443|_c444|_c445|_c446|_c447|_c448|_c449|_c450|_c451|_c452|_c453|_c454|_c455|_c456|_c457|_c458|_c459|_c460|_c461|_c462|_c463|_c464|_c465|_c466|_c467|_c468|_c469|_c470|_c471|_c472|_c473|_c474|_c475|_c476|_c477|_c478|_c479|_c480|_c481|_c482|_c483|_c484|_c485|_c486|_c487|_c488|_c489|_c490|_c491|_c492|_c493|_c494|_c495|_c496|_c497|_c498|_c499|_c500|_c501|_c502|_c503|_c504|_c505|_c506|_c507|_c508|_c509|_c510|_c511|_c512|_c513|_c514|_c515|_c516|_c517|_c518|_c519|_c520|_c521|_c522|_c523|_c524|_c525|_c526|_c527|_c528|_c529|_c530|_c531|_c532|_c533|_c534|_c535|_c536|_c537|_c538|_c539|_c540|_c541|_c542|_c543|_c544|_c545|_c546|_c547|_c548|_c549|_c550|_c551|_c552|_c553|_c554|_c555|_c556|_c557|_c558|_c559|_c560|_c561|_c562|_c563|_c564|_c565|_c566|_c567|_c568|_c569|_c570|_c571|_c572|_c573|_c574|_c575|_c576|_c577|_c578|_c579|_c580|_c581|_c582|_c583|_c584|_c585|_c586|_c587|_c588|_c589|_c590|_c591|_c592|_c593|_c594|_c595|_c596|_c597|_c598|_c599|_c600|_c601|_c602|_c603|_c604|_c605|_c606|_c607|_c608|_c609|_c610|_c611|_c612|_c613|_c614|_c615|_c616|_c617|_c618|_c619|_c620|_c621|_c622|_c623|_c624|_c625|_c626|_c627|_c628|_c629|_c630|_c631|_c632|_c633|_c634|_c635|_c636|_c637|_c638|_c639|_c640|_c641|_c642|_c643|_c644|_c645|_c646|_c647|_c648|_c649|_c650|_c651|_c652|_c653|_c654|_c655|_c656|_c657|_c658|_c659|_c660|_c661|_c662|_c663|_c664|_c665|_c666|_c667|_c668|_c669|_c670|_c671|_c672|_c673|_c674|_c675|_c676|_c677|_c678|_c679|_c680|_c681|_c682|_c683|_c684|_c685|_c686|_c687|_c688|_c689|_c690|_c691|_c692|_c693|_c694|_c695|_c696|_c697|_c698|_c699|_c700|_c701|_c702|_c703|_c704|_c705|_c706|_c707|_c708|_c709|_c710|_c711|_c712|_c713|_c714|_c715|_c716|_c717|_c718|_c719|_c720|_c721|_c722|_c723|_c724|_c725|_c726|_c727|_c728|_c729|_c730|_c731|_c732|_c733|_c734|_c735|_c736|_c737|_c738|_c739|_c740|_c741|_c742|_c743|_c744|_c745|_c746|_c747|_c748|_c749|_c750|_c751|_c752|_c753|_c754|_c755|_c756|_c757|_c758|_c759|_c760|_c761|_c762|_c763|_c764|_c765|_c766|_c767|_c768|_c769|_c770|_c771|_c772|_c773|_c774|_c775|_c776|_c777|_c778|_c779|_c780|_c781|_c782|_c783|_c784|\n",
            "+---+---+---+---+---+---+---+---+---+---+----+----+----+----+----+----+----+----+----+----+----+----+----+----+----+----+----+----+----+----+----+----+----+----+----+----+----+----+----+----+----+----+----+----+----+----+----+----+----+----+----+----+----+----+----+----+----+----+----+----+----+----+----+----+----+----+----+----+----+----+----+----+----+----+----+----+----+----+----+----+----+----+----+----+----+----+----+----+----+----+----+----+----+----+----+----+----+----+----+----+-----+-----+-----+-----+-----+-----+-----+-----+-----+-----+-----+-----+-----+-----+-----+-----+-----+-----+-----+-----+-----+-----+-----+-----+-----+-----+-----+-----+-----+-----+-----+-----+-----+-----+-----+-----+-----+-----+-----+-----+-----+-----+-----+-----+-----+-----+-----+-----+-----+-----+-----+-----+-----+-----+-----+-----+-----+-----+-----+-----+-----+-----+-----+-----+-----+-----+-----+-----+-----+-----+-----+-----+-----+-----+-----+-----+-----+-----+-----+-----+-----+-----+-----+-----+-----+-----+-----+-----+-----+-----+-----+-----+-----+-----+-----+-----+-----+-----+-----+-----+-----+-----+-----+-----+-----+-----+-----+-----+-----+-----+-----+-----+-----+-----+-----+-----+-----+-----+-----+-----+-----+-----+-----+-----+-----+-----+-----+-----+-----+-----+-----+-----+-----+-----+-----+-----+-----+-----+-----+-----+-----+-----+-----+-----+-----+-----+-----+-----+-----+-----+-----+-----+-----+-----+-----+-----+-----+-----+-----+-----+-----+-----+-----+-----+-----+-----+-----+-----+-----+-----+-----+-----+-----+-----+-----+-----+-----+-----+-----+-----+-----+-----+-----+-----+-----+-----+-----+-----+-----+-----+-----+-----+-----+-----+-----+-----+-----+-----+-----+-----+-----+-----+-----+-----+-----+-----+-----+-----+-----+-----+-----+-----+-----+-----+-----+-----+-----+-----+-----+-----+-----+-----+-----+-----+-----+-----+-----+-----+-----+-----+-----+-----+-----+-----+-----+-----+-----+-----+-----+-----+-----+-----+-----+-----+-----+-----+-----+-----+-----+-----+-----+-----+-----+-----+-----+-----+-----+-----+-----+-----+-----+-----+-----+-----+-----+-----+-----+-----+-----+-----+-----+-----+-----+-----+-----+-----+-----+-----+-----+-----+-----+-----+-----+-----+-----+-----+-----+-----+-----+-----+-----+-----+-----+-----+-----+-----+-----+-----+-----+-----+-----+-----+-----+-----+-----+-----+-----+-----+-----+-----+-----+-----+-----+-----+-----+-----+-----+-----+-----+-----+-----+-----+-----+-----+-----+-----+-----+-----+-----+-----+-----+-----+-----+-----+-----+-----+-----+-----+-----+-----+-----+-----+-----+-----+-----+-----+-----+-----+-----+-----+-----+-----+-----+-----+-----+-----+-----+-----+-----+-----+-----+-----+-----+-----+-----+-----+-----+-----+-----+-----+-----+-----+-----+-----+-----+-----+-----+-----+-----+-----+-----+-----+-----+-----+-----+-----+-----+-----+-----+-----+-----+-----+-----+-----+-----+-----+-----+-----+-----+-----+-----+-----+-----+-----+-----+-----+-----+-----+-----+-----+-----+-----+-----+-----+-----+-----+-----+-----+-----+-----+-----+-----+-----+-----+-----+-----+-----+-----+-----+-----+-----+-----+-----+-----+-----+-----+-----+-----+-----+-----+-----+-----+-----+-----+-----+-----+-----+-----+-----+-----+-----+-----+-----+-----+-----+-----+-----+-----+-----+-----+-----+-----+-----+-----+-----+-----+-----+-----+-----+-----+-----+-----+-----+-----+-----+-----+-----+-----+-----+-----+-----+-----+-----+-----+-----+-----+-----+-----+-----+-----+-----+-----+-----+-----+-----+-----+-----+-----+-----+-----+-----+-----+-----+-----+-----+-----+-----+-----+-----+-----+-----+-----+-----+-----+-----+-----+-----+-----+-----+-----+-----+-----+-----+-----+-----+-----+-----+-----+-----+-----+-----+-----+-----+-----+-----+-----+-----+-----+-----+-----+-----+-----+-----+-----+-----+-----+-----+-----+-----+-----+-----+-----+-----+-----+-----+-----+-----+-----+-----+-----+-----+-----+-----+-----+-----+-----+-----+-----+-----+-----+-----+-----+-----+-----+-----+-----+-----+-----+-----+-----+-----+-----+-----+-----+-----+-----+-----+-----+-----+-----+-----+-----+-----+-----+-----+-----+-----+-----+-----+-----+-----+-----+-----+-----+-----+-----+-----+-----+-----+-----+-----+-----+-----+-----+-----+-----+-----+-----+-----+-----+-----+-----+-----+-----+-----+-----+-----+-----+-----+-----+-----+-----+-----+-----+-----+-----+-----+-----+-----+-----+-----+-----+-----+-----+-----+-----+-----+-----+-----+-----+-----+-----+-----+-----+-----+-----+-----+-----+-----+-----+-----+-----+-----+-----+-----+-----+-----+-----+-----+-----+-----+-----+-----+-----+-----+-----+-----+-----+-----+-----+-----+-----+-----+-----+-----+\n",
            "|  6|  0|  0|  0|  0|  0|  0|  0|  0|  0|   0|   0|   0|   0|   0|   0|   0|   0|   0|   0|   0|   0|   0|   0|   0|   0|   0|   0|   0|   0|   0|   0|   0|   0|   0|   0|   0|   0|   0|   0|   0|   0|   0|   0|   0|   0|   0|   0|   0|   0|   0|   0|   0|   0|   0|   0|   0|   0|   0|   0|   0|   0|   0|   0|   0|   0|   0|   0|   0|   0|   0|   0|   0|   0|   0|   0|   0|   0|   0|   0|   0|   0|   0|   0|   0|   0|   0|   0|   0|   0|   0|   0|   0|   0|   0|   0|   0|   0|   0|   0|    0|    0|    0|    0|    0|    0|    0|    0|    0|    0|    0|    0|    0|    0|    0|    0|    0|    0|    0|    0|    0|    0|    0|   24|   67|   67|   18|    0|    0|    0|    0|    0|    0|    0|    0|    0|    0|    0|    0|    0|    0|    0|    0|    0|    0|    0|    0|    0|    0|    0|    0|  131|  252|  252|   66|    0|    0|    0|    0|    0|    0|    0|    0|    0|    0|    0|    0|    0|    0|    0|    0|    0|    0|    0|    0|    0|    0|    0|  159|  250|  232|   30|   32|    0|    0|    0|    0|    0|    0|    0|    0|    0|    0|    0|    0|    0|    0|    0|    0|    0|    0|    0|    0|    0|    0|   15|  222|  252|  108|    0|    0|    0|    0|    0|    0|    0|    0|    0|    0|    0|    0|    0|    0|    0|    0|    0|    0|    0|    0|    0|    0|    0|    0|  147|  252|  183|    5|    0|    0|    0|    0|    0|    0|    0|   20|   89|   89|   73|    0|    0|    0|    0|    0|    0|    0|    0|    0|    0|    0|    0|   48|  247|  252|  159|    0|    0|    0|    0|    0|    0|    0|   79|  236|  252|  252|  249|  198|   16|    0|    0|    0|    0|    0|    0|    0|    0|    0|   41|  193|  252|  199|   22|    0|    0|    0|    0|    0|   12|  135|  248|  252|  252|  252|  252|  252|  100|    0|    0|    0|    0|    0|    0|    0|    0|    0|  100|  252|  252|   88|    0|    0|    0|    0|    0|   11|  171|  252|  252|  235|  175|  178|  252|  252|  224|    0|    0|    0|    0|    0|    0|    0|    0|   15|  209|  252|  233|   12|    0|    0|    0|    0|   49|  177|  252|  252|   89|   26|    0|    2|  166|  252|  252|    0|    0|    0|    0|    0|    0|    0|    0|   96|  253|  253|   59|    0|    0|    0|    0|   11|  177|  255|  253|   92|    0|    0|    0|    0|  155|  253|  128|    0|    0|    0|    0|    0|    0|    0|    0|  143|  252|  252|   10|    0|    0|    0|   12|  171|  252|  216|  110|   13|    0|    0|    0|    3|  180|  232|   24|    0|    0|    0|    0|    0|    0|    0|    0|  143|  252|  170|    2|    0|    0|    0|  135|  252|  209|   19|    0|    0|    0|    0|    0|   12|  252|  132|    0|    0|    0|    0|    0|    0|    0|    0|    0|  249|  252|   96|    0|    0|    0|   21|  248|  246|   34|    0|    0|    0|    0|    5|   61|  234|  152|    3|    0|    0|    0|    0|    0|    0|    0|    0|    0|  253|  252|   44|    0|    0|    0|  145|  252|  104|    0|    0|    0|   46|  114|  184|  252|  149|   34|    0|    0|    0|    0|    0|    0|    0|    0|    0|    0|  253|  252|   82|    0|    0|   31|  239|  252|   66|   39|   89|  165|  243|  252|  233|  126|    5|    0|    0|    0|    0|    0|    0|    0|    0|    0|    0|    0|  249|  252|  244|  126|   98|  143|  252|  252|  237|  240|  253|  252|  243|  174|   17|    0|    0|    0|    0|    0|    0|    0|    0|    0|    0|    0|    0|    0|  119|  239|  252|  252|  252|  252|  252|  252|  252|  252|  228|  179|   17|    0|    0|    0|    0|    0|    0|    0|    0|    0|    0|    0|    0|    0|    0|    0|    0|   46|   66|   66|   66|   66|   66|   66|   66|   66|   29|    0|    0|    0|    0|    0|    0|    0|    0|    0|    0|    0|    0|    0|    0|    0|    0|    0|    0|    0|    0|    0|    0|    0|    0|    0|    0|    0|    0|    0|    0|    0|    0|    0|    0|    0|    0|    0|    0|    0|    0|    0|    0|    0|    0|    0|    0|    0|    0|    0|    0|    0|    0|    0|    0|    0|    0|    0|    0|    0|    0|    0|    0|    0|    0|    0|    0|    0|    0|    0|    0|    0|    0|    0|    0|    0|    0|    0|    0|    0|    0|    0|    0|    0|    0|    0|    0|    0|    0|    0|    0|    0|    0|    0|    0|    0|    0|    0|    0|    0|    0|    0|    0|    0|    0|    0|    0|    0|    0|    0|    0|    0|    0|    0|    0|    0|    0|    0|    0|    0|    0|    0|    0|    0|    0|    0|    0|    0|    0|    0|    0|    0|    0|    0|    0|    0|    0|    0|    0|    0|    0|    0|    0|    0|    0|    0|    0|    0|    0|    0|    0|    0|    0|    0|    0|    0|    0|    0|    0|    0|    0|    0|    0|    0|    0|    0|    0|    0|    0|    0|    0|    0|    0|    0|    0|    0|    0|    0|    0|    0|    0|\n",
            "|  5|  0|  0|  0|  0|  0|  0|  0|  0|  0|   0|   0|   0|   0|   0|   0|   0|   0|   0|   0|   0|   0|   0|   0|   0|   0|   0|   0|   0|   0|   0|   0|   0|   0|   0|   0|   0|   0|   0|   0|   0|   0|   0|   0|   0|   0|   0|   0|   0|   0|   0|   0|   0|   0|   0|   0|   0|   0|   0|   0|   0|   0|   0|   0|   0|   0|   0|   0|   0|   0|   0|   0|   0|   0|   0|   0|   0|   0|   0|   0|   0|   0|   0|   0|   0|   0|   0|   0|   0|   0|   0|   0|   0|   0|   0|   0|   0|   0|   0|   0|    0|    0|    0|    0|    0|    0|    0|    0|    0|    0|    0|    0|    0|    0|    0|    0|    0|    0|    0|    0|    0|    0|    0|    0|    0|    0|    0|    0|    0|    0|    0|    0|    0|    0|    0|    0|    0|    0|    0|    0|    0|    0|    0|    0|    0|    0|    0|    0|    0|    0|    0|    0|   28|   59|   50|    0|   23|    0|    0|   32|  134|  180|  254|  206|    8|    0|    0|    0|    0|    0|    0|    0|    0|    0|    0|    0|    0|    4|   96|  216|  233|  254|  248|  215|  231|  215|  215|  236|  254|  250|  181|   27|    0|    0|    0|    0|    0|    0|    0|    0|    0|    0|    0|    0|    0|  108|  254|  254|  247|  175|  175|  175|  176|  175|  175|  205|  175|   60|    0|    0|    0|    0|    0|    0|    0|    0|    0|    0|    0|    0|    0|    0|    0|   47|  254|  245|   85|    0|    0|    0|    0|    0|    0|    8|    0|    0|    0|    0|    0|    0|    0|    0|    0|    0|    0|    0|    0|    0|    0|    0|    0|  152|  254|  158|    0|    0|    0|    0|    0|    0|    0|    0|    0|    0|    0|    0|    0|    0|    0|    0|    0|    0|    0|    0|    0|    0|    0|    0|   19|  240|  255|   38|    0|   41|   50|    0|    0|    0|    0|    0|    0|    0|    0|    0|    0|    0|    0|    0|    0|    0|    0|    0|    0|    0|    0|    0|   87|  254|  254|  178|  215|  242|  248|  215|   96|   19|    0|    0|    0|    0|    0|    0|    0|    0|    0|    0|    0|    0|    0|    0|    0|    0|    0|    0|  176|  254|  254|  254|  217|  175|  187|  254|  254|  248|   85|    0|    0|    0|    0|    0|    0|    0|    0|    0|    0|    0|    0|    0|    0|    0|    0|    0|  161|  247|  214|   57|   11|    0|    3|   19|  177|  248|  248|  129|    9|    0|    0|    0|    0|    0|    0|    0|    0|    0|    0|    0|    0|    0|    0|    0|   18|   49|    0|    0|    0|    0|    0|    0|    0|   57|  224|  254|  171|    0|    0|    0|    0|    0|    0|    0|    0|    0|    0|    0|    0|    0|    0|    0|    0|    0|    0|    0|    0|    0|    0|    0|    0|    0|    0|  213|  255|  122|    0|    0|    0|    0|    0|    0|    0|    0|    0|    0|    0|    0|    0|    0|    0|    0|    0|    0|    0|    0|    0|    0|    0|    0|    0|   92|  254|  196|    0|    0|    0|    0|    0|    0|    0|    0|    0|    0|    0|    0|    0|    0|    0|    0|    0|    0|    0|    0|    0|    0|    0|    0|    0|   40|  254|  196|    0|    0|    0|    0|    0|    0|    0|    0|    0|    0|    0|    0|    0|    0|    0|    0|    0|    0|    0|    0|    0|    0|    0|    0|    0|  145|  254|  196|    0|    0|    0|    0|    0|    0|    0|    0|    0|    0|    0|    0|    0|    0|   31|  188|   45|    0|    0|    0|    0|    0|    0|    0|   99|  249|  254|  121|    0|    0|    0|    0|    0|    0|    0|    0|    0|    0|    0|    0|    0|    0|  139|  245|   45|    0|    0|    0|    0|    0|    0|  140|  254|  254|  133|    0|    0|    0|    0|    0|    0|    0|    0|    0|    0|    0|    0|    0|    0|   17|  242|  169|    0|    0|    0|    0|    4|   58|  216|  248|  254|  167|    9|    0|    0|    0|    0|    0|    0|    0|    0|    0|    0|    0|    0|    0|    0|   14|  230|  196|   79|   49|   79|   79|  181|  254|  254|  247|  108|    6|    0|    0|    0|    0|    0|    0|    0|    0|    0|    0|    0|    0|    0|    0|    0|    0|   44|  213|  254|  247|  254|  254|  254|  254|  192|   32|    0|    0|    0|    0|    0|    0|    0|    0|    0|    0|    0|    0|    0|    0|    0|    0|    0|    0|    0|    9|  133|  156|  193|  155|  140|   58|    0|    0|    0|    0|    0|    0|    0|    0|    0|    0|    0|    0|    0|    0|    0|    0|    0|    0|    0|    0|    0|    0|    0|    0|    0|    0|    0|    0|    0|    0|    0|    0|    0|    0|    0|    0|    0|    0|    0|    0|    0|    0|    0|    0|    0|    0|    0|    0|    0|    0|    0|    0|    0|    0|    0|    0|    0|    0|    0|    0|    0|    0|    0|    0|    0|    0|    0|    0|    0|    0|    0|    0|    0|    0|    0|    0|    0|    0|    0|    0|    0|    0|    0|    0|    0|    0|    0|    0|    0|    0|    0|    0|    0|    0|    0|    0|    0|\n",
            "+---+---+---+---+---+---+---+---+---+---+----+----+----+----+----+----+----+----+----+----+----+----+----+----+----+----+----+----+----+----+----+----+----+----+----+----+----+----+----+----+----+----+----+----+----+----+----+----+----+----+----+----+----+----+----+----+----+----+----+----+----+----+----+----+----+----+----+----+----+----+----+----+----+----+----+----+----+----+----+----+----+----+----+----+----+----+----+----+----+----+----+----+----+----+----+----+----+----+----+----+-----+-----+-----+-----+-----+-----+-----+-----+-----+-----+-----+-----+-----+-----+-----+-----+-----+-----+-----+-----+-----+-----+-----+-----+-----+-----+-----+-----+-----+-----+-----+-----+-----+-----+-----+-----+-----+-----+-----+-----+-----+-----+-----+-----+-----+-----+-----+-----+-----+-----+-----+-----+-----+-----+-----+-----+-----+-----+-----+-----+-----+-----+-----+-----+-----+-----+-----+-----+-----+-----+-----+-----+-----+-----+-----+-----+-----+-----+-----+-----+-----+-----+-----+-----+-----+-----+-----+-----+-----+-----+-----+-----+-----+-----+-----+-----+-----+-----+-----+-----+-----+-----+-----+-----+-----+-----+-----+-----+-----+-----+-----+-----+-----+-----+-----+-----+-----+-----+-----+-----+-----+-----+-----+-----+-----+-----+-----+-----+-----+-----+-----+-----+-----+-----+-----+-----+-----+-----+-----+-----+-----+-----+-----+-----+-----+-----+-----+-----+-----+-----+-----+-----+-----+-----+-----+-----+-----+-----+-----+-----+-----+-----+-----+-----+-----+-----+-----+-----+-----+-----+-----+-----+-----+-----+-----+-----+-----+-----+-----+-----+-----+-----+-----+-----+-----+-----+-----+-----+-----+-----+-----+-----+-----+-----+-----+-----+-----+-----+-----+-----+-----+-----+-----+-----+-----+-----+-----+-----+-----+-----+-----+-----+-----+-----+-----+-----+-----+-----+-----+-----+-----+-----+-----+-----+-----+-----+-----+-----+-----+-----+-----+-----+-----+-----+-----+-----+-----+-----+-----+-----+-----+-----+-----+-----+-----+-----+-----+-----+-----+-----+-----+-----+-----+-----+-----+-----+-----+-----+-----+-----+-----+-----+-----+-----+-----+-----+-----+-----+-----+-----+-----+-----+-----+-----+-----+-----+-----+-----+-----+-----+-----+-----+-----+-----+-----+-----+-----+-----+-----+-----+-----+-----+-----+-----+-----+-----+-----+-----+-----+-----+-----+-----+-----+-----+-----+-----+-----+-----+-----+-----+-----+-----+-----+-----+-----+-----+-----+-----+-----+-----+-----+-----+-----+-----+-----+-----+-----+-----+-----+-----+-----+-----+-----+-----+-----+-----+-----+-----+-----+-----+-----+-----+-----+-----+-----+-----+-----+-----+-----+-----+-----+-----+-----+-----+-----+-----+-----+-----+-----+-----+-----+-----+-----+-----+-----+-----+-----+-----+-----+-----+-----+-----+-----+-----+-----+-----+-----+-----+-----+-----+-----+-----+-----+-----+-----+-----+-----+-----+-----+-----+-----+-----+-----+-----+-----+-----+-----+-----+-----+-----+-----+-----+-----+-----+-----+-----+-----+-----+-----+-----+-----+-----+-----+-----+-----+-----+-----+-----+-----+-----+-----+-----+-----+-----+-----+-----+-----+-----+-----+-----+-----+-----+-----+-----+-----+-----+-----+-----+-----+-----+-----+-----+-----+-----+-----+-----+-----+-----+-----+-----+-----+-----+-----+-----+-----+-----+-----+-----+-----+-----+-----+-----+-----+-----+-----+-----+-----+-----+-----+-----+-----+-----+-----+-----+-----+-----+-----+-----+-----+-----+-----+-----+-----+-----+-----+-----+-----+-----+-----+-----+-----+-----+-----+-----+-----+-----+-----+-----+-----+-----+-----+-----+-----+-----+-----+-----+-----+-----+-----+-----+-----+-----+-----+-----+-----+-----+-----+-----+-----+-----+-----+-----+-----+-----+-----+-----+-----+-----+-----+-----+-----+-----+-----+-----+-----+-----+-----+-----+-----+-----+-----+-----+-----+-----+-----+-----+-----+-----+-----+-----+-----+-----+-----+-----+-----+-----+-----+-----+-----+-----+-----+-----+-----+-----+-----+-----+-----+-----+-----+-----+-----+-----+-----+-----+-----+-----+-----+-----+-----+-----+-----+-----+-----+-----+-----+-----+-----+-----+-----+-----+-----+-----+-----+-----+-----+-----+-----+-----+-----+-----+-----+-----+-----+-----+-----+-----+-----+-----+-----+-----+-----+-----+-----+-----+-----+-----+-----+-----+-----+-----+-----+-----+-----+-----+-----+-----+-----+-----+-----+-----+-----+-----+-----+-----+-----+-----+-----+-----+-----+-----+-----+-----+-----+-----+-----+-----+-----+-----+-----+-----+-----+-----+-----+-----+-----+-----+-----+-----+-----+-----+-----+-----+-----+-----+-----+-----+-----+-----+-----+-----+-----+-----+-----+-----+-----+-----+-----+-----+-----+-----+-----+-----+-----+-----+-----+\n",
            "only showing top 2 rows\n",
            "\n"
          ]
        }
      ]
    },
    {
      "cell_type": "code",
      "source": [
        "# Options While Reading CSV File\n",
        "path = './sample_data/california_housing_train.csv'\n",
        "\n",
        "# delimiter\n",
        "spark.read.options(delimiter = ',').csv(path)\n",
        "\n",
        "# header\n",
        "spark.read.options(header=True).csv(path)\n",
        "\n",
        "# inferSchema (by def, all cols are infered as str types. Set this to True and you get )\n",
        "df = spark.read.options(inferSchema=True, delimiter=',', header=True).csv(path)\n",
        "df.show(2)"
      ],
      "metadata": {
        "colab": {
          "base_uri": "https://localhost:8080/"
        },
        "id": "Mp-NB7W86ZUo",
        "outputId": "019f83da-c9cd-420d-d5e2-f7a390f8e608"
      },
      "execution_count": null,
      "outputs": [
        {
          "output_type": "stream",
          "name": "stdout",
          "text": [
            "+---------+--------+------------------+-----------+--------------+----------+----------+-------------+------------------+\n",
            "|longitude|latitude|housing_median_age|total_rooms|total_bedrooms|population|households|median_income|median_house_value|\n",
            "+---------+--------+------------------+-----------+--------------+----------+----------+-------------+------------------+\n",
            "|  -114.31|   34.19|              15.0|     5612.0|        1283.0|    1015.0|     472.0|       1.4936|           66900.0|\n",
            "|  -114.47|    34.4|              19.0|     7650.0|        1901.0|    1129.0|     463.0|         1.82|           80100.0|\n",
            "+---------+--------+------------------+-----------+--------------+----------+----------+-------------+------------------+\n",
            "only showing top 2 rows\n",
            "\n"
          ]
        }
      ]
    },
    {
      "cell_type": "markdown",
      "source": [
        "# Read csv files using user defined custom schema \n",
        "spark.read.format(\"csv\").options(header=True).schema(schema).load(path)\n",
        "\n",
        "where schema is a userdefined schema with types of columns mentioned."
      ],
      "metadata": {
        "id": "auLcufOMMlFI"
      }
    },
    {
      "cell_type": "code",
      "source": [
        "# Write\n",
        "df.write.options(header=True, delimiter=',').csv('dummy_write_file.csv')"
      ],
      "metadata": {
        "id": "mkkGcqIO9Rxg"
      },
      "execution_count": null,
      "outputs": []
    },
    {
      "cell_type": "markdown",
      "source": [
        "#### 2.1 **Saving modes**"
      ],
      "metadata": {
        "id": "bcH1df7WNwUZ"
      }
    },
    {
      "cell_type": "markdown",
      "source": [
        "PySpark DataFrameWriter also has a method mode() to specify saving mode.\n",
        "\n",
        "**overwrite** – mode is used to overwrite the existing file.\n",
        "\n",
        "**append** – To add the data to the existing file.\n",
        "\n",
        "**ignore** – Ignores write operation when the file already exists.\n",
        "\n",
        "**error** – This is a default option when the file already exists, it returns an error"
      ],
      "metadata": {
        "id": "w26PeOBfN7nt"
      }
    },
    {
      "cell_type": "code",
      "source": [
        "df.write.mode('overwrite').csv('dummy_write_file.csv')\n",
        "# OR\n",
        "df.write.format(\"csv\").mode('overwrite').save(path)"
      ],
      "metadata": {
        "id": "Hi9AFNqFL6tK"
      },
      "execution_count": null,
      "outputs": []
    },
    {
      "cell_type": "code",
      "source": [
        "# Apache Parquet file is a columnar storage format available to any project in the Hadoop ecosystem, \n",
        "# regardless of the choice of data processing framework, data model, or programming language.\n",
        "\n",
        "# While querying columnar storage, it skips the nonrelevant data very quickly, making faster query execution. \n",
        "# As a result aggregation queries consume less time compared to row-oriented databases.\n",
        "\n",
        "# Efficient compression of data by 75% on average"
      ],
      "metadata": {
        "id": "JvbgUVupOcoE"
      },
      "execution_count": null,
      "outputs": []
    },
    {
      "cell_type": "code",
      "source": [
        "# FOR JSON, read.json(\"path\") or read.format(\"json\").load(\"path\")"
      ],
      "metadata": {
        "id": "ZA2LAcY7P8Z4"
      },
      "execution_count": null,
      "outputs": []
    },
    {
      "cell_type": "code",
      "source": [
        "path = 'multiline-zipcode.json'\n",
        "spark.read.options(multiline=True).json(path).show()"
      ],
      "metadata": {
        "colab": {
          "base_uri": "https://localhost:8080/"
        },
        "id": "6RlOiQYiP_rA",
        "outputId": "0e1fb3ab-bb34-48ac-8939-b924cdf89de5"
      },
      "execution_count": null,
      "outputs": [
        {
          "output_type": "stream",
          "name": "stdout",
          "text": [
            "+-------------------+------------+-----+-----------+-------+\n",
            "|               City|RecordNumber|State|ZipCodeType|Zipcode|\n",
            "+-------------------+------------+-----+-----------+-------+\n",
            "|PASEO COSTA DEL SUR|           2|   PR|   STANDARD|    704|\n",
            "|       BDA SAN LUIS|          10|   PR|   STANDARD|    709|\n",
            "+-------------------+------------+-----+-----------+-------+\n",
            "\n"
          ]
        }
      ]
    },
    {
      "cell_type": "markdown",
      "source": [
        "## Reading multiple json files at a time\n",
        "spark.read.json( [path_file1, path_file2] )\n",
        "\n",
        "df3 = spark.read.json(\"/*.json\") # All json files in directory"
      ],
      "metadata": {
        "id": "eJsOgJ2fRvZ9"
      }
    },
    {
      "cell_type": "markdown",
      "source": [
        "### **Distinct to Drop duplicate functions**"
      ],
      "metadata": {
        "id": "ayQtkyf5SN4f"
      }
    },
    {
      "cell_type": "code",
      "source": [
        "data = [(\"James\", \"Sales\", 3000), \\\n",
        "    (\"Michael\", \"Sales\", 4600), \\\n",
        "    (\"Robert\", \"Sales\", 4100), \\\n",
        "    (\"Maria\", \"Finance\", 3000), \\\n",
        "    (\"James\", \"Sales\", 3000), \\\n",
        "    (\"Scott\", \"Finance\", 3300), \\\n",
        "    (\"Jen\", \"Finance\", 3900), \\\n",
        "    (\"Jeff\", \"Marketing\", 3000), \\\n",
        "    (\"Kumar\", \"Marketing\", 2000), \\\n",
        "    (\"Saif\", \"Sales\", 4100) \\\n",
        "  ]\n",
        "columns= [\"employee_name\", \"department\", \"salary\"]\n",
        "df = spark.createDataFrame(data = data, schema = columns)\n",
        "df.printSchema()\n",
        "df.show(truncate=False)"
      ],
      "metadata": {
        "colab": {
          "base_uri": "https://localhost:8080/"
        },
        "id": "Nk9-lU0-Q4G-",
        "outputId": "d91f7a32-1895-4a71-d1f3-8f36448c24f3"
      },
      "execution_count": null,
      "outputs": [
        {
          "output_type": "stream",
          "name": "stdout",
          "text": [
            "root\n",
            " |-- employee_name: string (nullable = true)\n",
            " |-- department: string (nullable = true)\n",
            " |-- salary: long (nullable = true)\n",
            "\n",
            "+-------------+----------+------+\n",
            "|employee_name|department|salary|\n",
            "+-------------+----------+------+\n",
            "|James        |Sales     |3000  |\n",
            "|Michael      |Sales     |4600  |\n",
            "|Robert       |Sales     |4100  |\n",
            "|Maria        |Finance   |3000  |\n",
            "|James        |Sales     |3000  |\n",
            "|Scott        |Finance   |3300  |\n",
            "|Jen          |Finance   |3900  |\n",
            "|Jeff         |Marketing |3000  |\n",
            "|Kumar        |Marketing |2000  |\n",
            "|Saif         |Sales     |4100  |\n",
            "+-------------+----------+------+\n",
            "\n"
          ]
        }
      ]
    },
    {
      "cell_type": "code",
      "source": [
        "# 1. Get distinct rows\n",
        "df.distinct().show()\n",
        "# OR\n",
        "df.drop_duplicates().show() # Returns a new dataframe"
      ],
      "metadata": {
        "colab": {
          "base_uri": "https://localhost:8080/"
        },
        "id": "B62Mxv2vVHKe",
        "outputId": "416be0cc-b4c2-41b4-8803-3f6943139572"
      },
      "execution_count": null,
      "outputs": [
        {
          "output_type": "stream",
          "name": "stdout",
          "text": [
            "+-------------+----------+------+\n",
            "|employee_name|department|salary|\n",
            "+-------------+----------+------+\n",
            "|          Jen|   Finance|  3900|\n",
            "|      Michael|     Sales|  4600|\n",
            "|        Scott|   Finance|  3300|\n",
            "|        Kumar| Marketing|  2000|\n",
            "|        James|     Sales|  3000|\n",
            "|       Robert|     Sales|  4100|\n",
            "|         Jeff| Marketing|  3000|\n",
            "|         Saif|     Sales|  4100|\n",
            "|        Maria|   Finance|  3000|\n",
            "+-------------+----------+------+\n",
            "\n",
            "+-------------+----------+------+\n",
            "|employee_name|department|salary|\n",
            "+-------------+----------+------+\n",
            "|          Jen|   Finance|  3900|\n",
            "|      Michael|     Sales|  4600|\n",
            "|        Scott|   Finance|  3300|\n",
            "|        Kumar| Marketing|  2000|\n",
            "|        James|     Sales|  3000|\n",
            "|       Robert|     Sales|  4100|\n",
            "|         Jeff| Marketing|  3000|\n",
            "|         Saif|     Sales|  4100|\n",
            "|        Maria|   Finance|  3000|\n",
            "+-------------+----------+------+\n",
            "\n"
          ]
        }
      ]
    },
    {
      "cell_type": "code",
      "source": [
        "df.drop_duplicates(['department','salary']).show() # same as df.drop_duplicates(subset = ['col1', 'col2'])"
      ],
      "metadata": {
        "colab": {
          "base_uri": "https://localhost:8080/"
        },
        "id": "KwoK2eQmVJqs",
        "outputId": "6e53109f-e4f3-4e96-9d50-208c6410e8e3"
      },
      "execution_count": null,
      "outputs": [
        {
          "output_type": "stream",
          "name": "stdout",
          "text": [
            "+-------------+----------+------+\n",
            "|employee_name|department|salary|\n",
            "+-------------+----------+------+\n",
            "|        Maria|   Finance|  3000|\n",
            "|        Scott|   Finance|  3300|\n",
            "|          Jen|   Finance|  3900|\n",
            "|        Kumar| Marketing|  2000|\n",
            "|         Jeff| Marketing|  3000|\n",
            "|        James|     Sales|  3000|\n",
            "|       Robert|     Sales|  4100|\n",
            "|      Michael|     Sales|  4600|\n",
            "+-------------+----------+------+\n",
            "\n"
          ]
        }
      ]
    },
    {
      "cell_type": "markdown",
      "source": [
        "### **OrderBy and Sort**"
      ],
      "metadata": {
        "id": "0I-tGDsMWUSn"
      }
    },
    {
      "cell_type": "code",
      "source": [
        "simpleData = [(\"James\",\"Sales\",\"NY\",90000,34,10000), \\\n",
        "    (\"Michael\",\"Sales\",\"NY\",86000,56,20000), \\\n",
        "    (\"Robert\",\"Sales\",\"CA\",81000,30,23000), \\\n",
        "    (\"Maria\",\"Finance\",\"CA\",90000,24,23000), \\\n",
        "    (\"Raman\",\"Finance\",\"CA\",99000,40,24000), \\\n",
        "    (\"Scott\",\"Finance\",\"NY\",83000,36,19000), \\\n",
        "    (\"Jen\",\"Finance\",\"NY\",79000,53,15000), \\\n",
        "    (\"Jeff\",\"Marketing\",\"CA\",80000,25,18000), \\\n",
        "    (\"Kumar\",\"Marketing\",\"NY\",91000,50,21000) \\\n",
        "  ]\n",
        "columns= [\"employee_name\",\"department\",\"state\",\"salary\",\"age\",\"bonus\"]\n",
        "df = spark.createDataFrame(data = simpleData, schema = columns)\n",
        "df.printSchema()\n",
        "df.show(truncate=False)"
      ],
      "metadata": {
        "colab": {
          "base_uri": "https://localhost:8080/"
        },
        "id": "D2R-sh0vWB2v",
        "outputId": "255bcb50-0b5c-44f9-eb33-2b1dd833ffb6"
      },
      "execution_count": null,
      "outputs": [
        {
          "output_type": "stream",
          "name": "stdout",
          "text": [
            "root\n",
            " |-- employee_name: string (nullable = true)\n",
            " |-- department: string (nullable = true)\n",
            " |-- state: string (nullable = true)\n",
            " |-- salary: long (nullable = true)\n",
            " |-- age: long (nullable = true)\n",
            " |-- bonus: long (nullable = true)\n",
            "\n",
            "+-------------+----------+-----+------+---+-----+\n",
            "|employee_name|department|state|salary|age|bonus|\n",
            "+-------------+----------+-----+------+---+-----+\n",
            "|James        |Sales     |NY   |90000 |34 |10000|\n",
            "|Michael      |Sales     |NY   |86000 |56 |20000|\n",
            "|Robert       |Sales     |CA   |81000 |30 |23000|\n",
            "|Maria        |Finance   |CA   |90000 |24 |23000|\n",
            "|Raman        |Finance   |CA   |99000 |40 |24000|\n",
            "|Scott        |Finance   |NY   |83000 |36 |19000|\n",
            "|Jen          |Finance   |NY   |79000 |53 |15000|\n",
            "|Jeff         |Marketing |CA   |80000 |25 |18000|\n",
            "|Kumar        |Marketing |NY   |91000 |50 |21000|\n",
            "+-------------+----------+-----+------+---+-----+\n",
            "\n"
          ]
        }
      ]
    },
    {
      "cell_type": "code",
      "source": [
        "df.sort('department', 'salary').show() # By default, ascending order sort"
      ],
      "metadata": {
        "colab": {
          "base_uri": "https://localhost:8080/"
        },
        "id": "0kEKMmNwW8VF",
        "outputId": "4c52e191-c43a-49e9-a642-3e4878432975"
      },
      "execution_count": null,
      "outputs": [
        {
          "output_type": "stream",
          "name": "stdout",
          "text": [
            "+-------------+----------+-----+------+---+-----+\n",
            "|employee_name|department|state|salary|age|bonus|\n",
            "+-------------+----------+-----+------+---+-----+\n",
            "|          Jen|   Finance|   NY| 79000| 53|15000|\n",
            "|        Scott|   Finance|   NY| 83000| 36|19000|\n",
            "|        Maria|   Finance|   CA| 90000| 24|23000|\n",
            "|        Raman|   Finance|   CA| 99000| 40|24000|\n",
            "|         Jeff| Marketing|   CA| 80000| 25|18000|\n",
            "|        Kumar| Marketing|   NY| 91000| 50|21000|\n",
            "|       Robert|     Sales|   CA| 81000| 30|23000|\n",
            "|      Michael|     Sales|   NY| 86000| 56|20000|\n",
            "|        James|     Sales|   NY| 90000| 34|10000|\n",
            "+-------------+----------+-----+------+---+-----+\n",
            "\n"
          ]
        }
      ]
    },
    {
      "cell_type": "code",
      "source": [
        "df.orderBy('department', 'salary').show() # By def, asc"
      ],
      "metadata": {
        "colab": {
          "base_uri": "https://localhost:8080/"
        },
        "id": "6RIdgpEUXBz7",
        "outputId": "87a95980-373b-4db6-ece8-d5075aae352d"
      },
      "execution_count": null,
      "outputs": [
        {
          "output_type": "stream",
          "name": "stdout",
          "text": [
            "+-------------+----------+-----+------+---+-----+\n",
            "|employee_name|department|state|salary|age|bonus|\n",
            "+-------------+----------+-----+------+---+-----+\n",
            "|          Jen|   Finance|   NY| 79000| 53|15000|\n",
            "|        Scott|   Finance|   NY| 83000| 36|19000|\n",
            "|        Maria|   Finance|   CA| 90000| 24|23000|\n",
            "|        Raman|   Finance|   CA| 99000| 40|24000|\n",
            "|         Jeff| Marketing|   CA| 80000| 25|18000|\n",
            "|        Kumar| Marketing|   NY| 91000| 50|21000|\n",
            "|       Robert|     Sales|   CA| 81000| 30|23000|\n",
            "|      Michael|     Sales|   NY| 86000| 56|20000|\n",
            "|        James|     Sales|   NY| 90000| 34|10000|\n",
            "+-------------+----------+-----+------+---+-----+\n",
            "\n"
          ]
        }
      ]
    },
    {
      "cell_type": "code",
      "source": [
        "# Sort in desc order\n",
        "df.sort(df.department.desc(), df.salary.desc())\n",
        "# OR\n",
        "df.sort(col('department').desc(), col('salary').desc()).show()\n",
        "df.orderBy(col('department').desc(), col('salary').desc()).show()"
      ],
      "metadata": {
        "colab": {
          "base_uri": "https://localhost:8080/",
          "height": 218
        },
        "id": "vvyowh_HXRam",
        "outputId": "596b12d0-6374-456a-cd2f-a2ebca5420f0"
      },
      "execution_count": null,
      "outputs": [
        {
          "output_type": "error",
          "ename": "NameError",
          "evalue": "ignored",
          "traceback": [
            "\u001b[0;31m---------------------------------------------------------------------------\u001b[0m",
            "\u001b[0;31mNameError\u001b[0m                                 Traceback (most recent call last)",
            "\u001b[0;32m<ipython-input-8-3669a36f8641>\u001b[0m in \u001b[0;36m<module>\u001b[0;34m()\u001b[0m\n\u001b[1;32m      2\u001b[0m \u001b[0mdf\u001b[0m\u001b[0;34m.\u001b[0m\u001b[0msort\u001b[0m\u001b[0;34m(\u001b[0m\u001b[0mdf\u001b[0m\u001b[0;34m.\u001b[0m\u001b[0mdepartment\u001b[0m\u001b[0;34m.\u001b[0m\u001b[0mdesc\u001b[0m\u001b[0;34m(\u001b[0m\u001b[0;34m)\u001b[0m\u001b[0;34m,\u001b[0m \u001b[0mdf\u001b[0m\u001b[0;34m.\u001b[0m\u001b[0msalary\u001b[0m\u001b[0;34m.\u001b[0m\u001b[0mdesc\u001b[0m\u001b[0;34m(\u001b[0m\u001b[0;34m)\u001b[0m\u001b[0;34m)\u001b[0m\u001b[0;34m\u001b[0m\u001b[0;34m\u001b[0m\u001b[0m\n\u001b[1;32m      3\u001b[0m \u001b[0;31m# OR\u001b[0m\u001b[0;34m\u001b[0m\u001b[0;34m\u001b[0m\u001b[0;34m\u001b[0m\u001b[0m\n\u001b[0;32m----> 4\u001b[0;31m \u001b[0mdf\u001b[0m\u001b[0;34m.\u001b[0m\u001b[0msort\u001b[0m\u001b[0;34m(\u001b[0m\u001b[0mcol\u001b[0m\u001b[0;34m(\u001b[0m\u001b[0;34m'department'\u001b[0m\u001b[0;34m)\u001b[0m\u001b[0;34m.\u001b[0m\u001b[0mdesc\u001b[0m\u001b[0;34m(\u001b[0m\u001b[0;34m)\u001b[0m\u001b[0;34m,\u001b[0m \u001b[0mcol\u001b[0m\u001b[0;34m(\u001b[0m\u001b[0;34m'salary'\u001b[0m\u001b[0;34m)\u001b[0m\u001b[0;34m.\u001b[0m\u001b[0mdesc\u001b[0m\u001b[0;34m(\u001b[0m\u001b[0;34m)\u001b[0m\u001b[0;34m)\u001b[0m\u001b[0;34m.\u001b[0m\u001b[0mshow\u001b[0m\u001b[0;34m(\u001b[0m\u001b[0;34m)\u001b[0m\u001b[0;34m\u001b[0m\u001b[0;34m\u001b[0m\u001b[0m\n\u001b[0m\u001b[1;32m      5\u001b[0m \u001b[0mdf\u001b[0m\u001b[0;34m.\u001b[0m\u001b[0morderBy\u001b[0m\u001b[0;34m(\u001b[0m\u001b[0mcol\u001b[0m\u001b[0;34m(\u001b[0m\u001b[0;34m'department'\u001b[0m\u001b[0;34m)\u001b[0m\u001b[0;34m.\u001b[0m\u001b[0mdesc\u001b[0m\u001b[0;34m(\u001b[0m\u001b[0;34m)\u001b[0m\u001b[0;34m,\u001b[0m \u001b[0mcol\u001b[0m\u001b[0;34m(\u001b[0m\u001b[0;34m'salary'\u001b[0m\u001b[0;34m)\u001b[0m\u001b[0;34m.\u001b[0m\u001b[0mdesc\u001b[0m\u001b[0;34m(\u001b[0m\u001b[0;34m)\u001b[0m\u001b[0;34m)\u001b[0m\u001b[0;34m.\u001b[0m\u001b[0mshow\u001b[0m\u001b[0;34m(\u001b[0m\u001b[0;34m)\u001b[0m\u001b[0;34m\u001b[0m\u001b[0;34m\u001b[0m\u001b[0m\n",
            "\u001b[0;31mNameError\u001b[0m: name 'col' is not defined"
          ]
        }
      ]
    },
    {
      "cell_type": "markdown",
      "source": [
        "###### **BY SQL VIEWS**"
      ],
      "metadata": {
        "id": "VHD4fI2hX2nn"
      }
    },
    {
      "cell_type": "code",
      "source": [
        "df.createOrReplaceTempView('view')\n",
        "\n",
        "query = \"\"\"\n",
        "        SELECT \n",
        "            employee_name, state, age, salary \n",
        "        FROM view\n",
        "        ORDER BY department ASC\n",
        "        \"\"\"\n",
        "spark.sql(query).show()"
      ],
      "metadata": {
        "colab": {
          "base_uri": "https://localhost:8080/"
        },
        "id": "RET_C1iMXogW",
        "outputId": "82891f3d-67ed-4a6d-d402-e1bcb5051de2"
      },
      "execution_count": null,
      "outputs": [
        {
          "output_type": "stream",
          "name": "stdout",
          "text": [
            "+-------------+-----+---+------+\n",
            "|employee_name|state|age|salary|\n",
            "+-------------+-----+---+------+\n",
            "|        Raman|   CA| 40| 99000|\n",
            "|        Scott|   NY| 36| 83000|\n",
            "|          Jen|   NY| 53| 79000|\n",
            "|        Maria|   CA| 24| 90000|\n",
            "|         Jeff|   CA| 25| 80000|\n",
            "|        Kumar|   NY| 50| 91000|\n",
            "|        James|   NY| 34| 90000|\n",
            "|      Michael|   NY| 56| 86000|\n",
            "|       Robert|   CA| 30| 81000|\n",
            "+-------------+-----+---+------+\n",
            "\n"
          ]
        }
      ]
    },
    {
      "cell_type": "markdown",
      "source": [
        "# **Group By**"
      ],
      "metadata": {
        "id": "15likFZKaBSJ"
      }
    },
    {
      "cell_type": "code",
      "source": [
        "df.groupBy('department').sum('salary').show()"
      ],
      "metadata": {
        "colab": {
          "base_uri": "https://localhost:8080/"
        },
        "id": "hwj85BbsYi9R",
        "outputId": "0021bcf1-eef6-450c-fb74-295de0197ec5"
      },
      "execution_count": null,
      "outputs": [
        {
          "output_type": "stream",
          "name": "stdout",
          "text": [
            "+----------+-----------+\n",
            "|department|sum(salary)|\n",
            "+----------+-----------+\n",
            "|     Sales|     257000|\n",
            "|   Finance|     351000|\n",
            "| Marketing|     171000|\n",
            "+----------+-----------+\n",
            "\n"
          ]
        }
      ]
    },
    {
      "cell_type": "code",
      "source": [
        "from pyspark.sql.functions import col\n",
        "df.groupBy('department').count().show() # Total num of employees in each department"
      ],
      "metadata": {
        "colab": {
          "base_uri": "https://localhost:8080/"
        },
        "id": "HX3T8djHaF_u",
        "outputId": "1ea3263b-e543-455f-8ac8-222cf51e4641"
      },
      "execution_count": null,
      "outputs": [
        {
          "output_type": "stream",
          "name": "stdout",
          "text": [
            "+----------+-----+\n",
            "|department|count|\n",
            "+----------+-----+\n",
            "|     Sales|    3|\n",
            "|   Finance|    4|\n",
            "| Marketing|    2|\n",
            "+----------+-----+\n",
            "\n"
          ]
        }
      ]
    },
    {
      "cell_type": "code",
      "source": [
        "df.groupBy('department').min('salary').show()"
      ],
      "metadata": {
        "colab": {
          "base_uri": "https://localhost:8080/"
        },
        "id": "6PXklvmFGJ20",
        "outputId": "5fffa538-56dc-4575-b6cd-2dacbd4c7b3f"
      },
      "execution_count": null,
      "outputs": [
        {
          "output_type": "stream",
          "name": "stdout",
          "text": [
            "+----------+-----------+\n",
            "|department|min(salary)|\n",
            "+----------+-----------+\n",
            "|     Sales|      81000|\n",
            "|   Finance|      79000|\n",
            "| Marketing|      80000|\n",
            "+----------+-----------+\n",
            "\n"
          ]
        }
      ]
    },
    {
      "cell_type": "code",
      "source": [
        "df.groupBy('department').avg('salary').show()  # or mean you can use any one"
      ],
      "metadata": {
        "colab": {
          "base_uri": "https://localhost:8080/"
        },
        "id": "sKxjdsJBHoZJ",
        "outputId": "f2c4dad2-68a1-4e4d-f038-7ec018c79e95"
      },
      "execution_count": null,
      "outputs": [
        {
          "output_type": "stream",
          "name": "stdout",
          "text": [
            "+----------+-----------------+\n",
            "|department|      avg(salary)|\n",
            "+----------+-----------------+\n",
            "|     Sales|85666.66666666667|\n",
            "|   Finance|          87750.0|\n",
            "| Marketing|          85500.0|\n",
            "+----------+-----------------+\n",
            "\n"
          ]
        }
      ]
    },
    {
      "cell_type": "markdown",
      "source": [
        "#### **3.1 PySpark groupBy and aggregate on multiple columns**"
      ],
      "metadata": {
        "id": "ngrauwlQIHFJ"
      }
    },
    {
      "cell_type": "code",
      "source": [
        "df.groupBy('department', 'state').max('salary', 'bonus').show()"
      ],
      "metadata": {
        "colab": {
          "base_uri": "https://localhost:8080/"
        },
        "id": "ZKA7k7Z9Hw4z",
        "outputId": "3d370ca2-12fa-4b08-98d6-d538e052e667"
      },
      "execution_count": null,
      "outputs": [
        {
          "output_type": "stream",
          "name": "stdout",
          "text": [
            "+----------+-----+-----------+----------+\n",
            "|department|state|max(salary)|max(bonus)|\n",
            "+----------+-----+-----------+----------+\n",
            "|   Finance|   NY|      83000|     19000|\n",
            "| Marketing|   NY|      91000|     21000|\n",
            "|     Sales|   CA|      81000|     23000|\n",
            "| Marketing|   CA|      80000|     18000|\n",
            "|   Finance|   CA|      99000|     24000|\n",
            "|     Sales|   NY|      90000|     20000|\n",
            "+----------+-----+-----------+----------+\n",
            "\n"
          ]
        }
      ]
    },
    {
      "cell_type": "markdown",
      "source": [
        "#### **3.2 Running more aggregates at a time**"
      ],
      "metadata": {
        "id": "CsUwUZzqIrWF"
      }
    },
    {
      "cell_type": "code",
      "source": [
        "from pyspark.sql.functions import sum, avg, max, min\n",
        "df.groupBy(\"department\") \\\n",
        "    .agg(sum(\"salary\").alias(\"sum_salary\"), \\\n",
        "         avg(\"salary\").alias(\"avg_salary\"), \\\n",
        "         sum(\"bonus\").alias(\"sum_bonus\"), \\\n",
        "         max(\"bonus\").alias(\"max_bonus\") \\\n",
        "     ) \\\n",
        "    .show(truncate=False)\n"
      ],
      "metadata": {
        "colab": {
          "base_uri": "https://localhost:8080/"
        },
        "id": "y-Ua8krNIY_V",
        "outputId": "5ef5a6c0-416e-437d-b3e1-adb42d3a5233"
      },
      "execution_count": null,
      "outputs": [
        {
          "output_type": "stream",
          "name": "stdout",
          "text": [
            "+----------+----------+-----------------+---------+---------+\n",
            "|department|sum_salary|avg_salary       |sum_bonus|max_bonus|\n",
            "+----------+----------+-----------------+---------+---------+\n",
            "|Sales     |257000    |85666.66666666667|53000    |23000    |\n",
            "|Finance   |351000    |87750.0          |81000    |24000    |\n",
            "|Marketing |171000    |85500.0          |39000    |21000    |\n",
            "+----------+----------+-----------------+---------+---------+\n",
            "\n"
          ]
        }
      ]
    },
    {
      "cell_type": "markdown",
      "source": [
        "#### **3.3 Using filter on aggregate data**"
      ],
      "metadata": {
        "id": "ddMg1Jp9U8el"
      }
    },
    {
      "cell_type": "code",
      "source": [
        "df.groupBy(\"department\") \\\n",
        "    .agg(sum(\"salary\").alias(\"sum_salary\"), \\\n",
        "         avg(\"salary\").alias(\"avg_salary\"), \\\n",
        "         sum(\"bonus\").alias(\"sum_bonus\"), \\\n",
        "         max(\"bonus\").alias(\"max_bonus\") \\\n",
        "     ).where(col('avg_salary')>85500.0).show(truncate=False)"
      ],
      "metadata": {
        "colab": {
          "base_uri": "https://localhost:8080/"
        },
        "id": "eXa6ZCZ_Jo0b",
        "outputId": "995a6f24-6931-4a50-d7fc-b8b7c4b83a4c"
      },
      "execution_count": null,
      "outputs": [
        {
          "output_type": "stream",
          "name": "stdout",
          "text": [
            "+----------+----------+-----------------+---------+---------+\n",
            "|department|sum_salary|avg_salary       |sum_bonus|max_bonus|\n",
            "+----------+----------+-----------------+---------+---------+\n",
            "|Sales     |257000    |85666.66666666667|53000    |23000    |\n",
            "|Finance   |351000    |87750.0          |81000    |24000    |\n",
            "+----------+----------+-----------------+---------+---------+\n",
            "\n"
          ]
        }
      ]
    },
    {
      "cell_type": "markdown",
      "source": [
        "# **JOIN Operations**"
      ],
      "metadata": {
        "id": "X_nWoj28XgXD"
      }
    },
    {
      "cell_type": "code",
      "source": [
        "\n",
        "emp = [(1,\"Smith\",-1,\"2018\",\"10\",\"M\",3000), \\\n",
        "    (2,\"Rose\",1,\"2010\",\"20\",\"M\",4000), \\\n",
        "    (3,\"Williams\",1,\"2010\",\"10\",\"M\",1000), \\\n",
        "    (4,\"Jones\",2,\"2005\",\"10\",\"F\",2000), \\\n",
        "    (5,\"Brown\",2,\"2010\",\"40\",\"\",-1), \\\n",
        "      (6,\"Brown\",2,\"2010\",\"50\",\"\",-1) \\\n",
        "  ]\n",
        "empColumns = [\"emp_id\",\"name\",\"superior_emp_id\",\"year_joined\", \\\n",
        "       \"emp_dept_id\",\"gender\",\"salary\"]\n",
        "\n",
        "empDF = spark.createDataFrame(data=emp, schema = empColumns)\n",
        "empDF.printSchema()\n",
        "empDF.show(truncate=False)\n",
        "\n",
        "dept = [(\"Finance\",10), \\\n",
        "    (\"Marketing\",20), \\\n",
        "    (\"Sales\",30), \\\n",
        "    (\"IT\",40) \\\n",
        "  ]\n",
        "deptColumns = [\"dept_name\",\"dept_id\"]\n",
        "deptDF = spark.createDataFrame(data=dept, schema = deptColumns)\n",
        "deptDF.printSchema()\n",
        "deptDF.show(truncate=False)\n"
      ],
      "metadata": {
        "colab": {
          "base_uri": "https://localhost:8080/"
        },
        "id": "Ybf0ZXdUVhEL",
        "outputId": "6eb89453-aac1-48c1-c387-0f429ee8b168"
      },
      "execution_count": null,
      "outputs": [
        {
          "output_type": "stream",
          "name": "stdout",
          "text": [
            "root\n",
            " |-- emp_id: long (nullable = true)\n",
            " |-- name: string (nullable = true)\n",
            " |-- superior_emp_id: long (nullable = true)\n",
            " |-- year_joined: string (nullable = true)\n",
            " |-- emp_dept_id: string (nullable = true)\n",
            " |-- gender: string (nullable = true)\n",
            " |-- salary: long (nullable = true)\n",
            "\n",
            "+------+--------+---------------+-----------+-----------+------+------+\n",
            "|emp_id|name    |superior_emp_id|year_joined|emp_dept_id|gender|salary|\n",
            "+------+--------+---------------+-----------+-----------+------+------+\n",
            "|1     |Smith   |-1             |2018       |10         |M     |3000  |\n",
            "|2     |Rose    |1              |2010       |20         |M     |4000  |\n",
            "|3     |Williams|1              |2010       |10         |M     |1000  |\n",
            "|4     |Jones   |2              |2005       |10         |F     |2000  |\n",
            "|5     |Brown   |2              |2010       |40         |      |-1    |\n",
            "|6     |Brown   |2              |2010       |50         |      |-1    |\n",
            "+------+--------+---------------+-----------+-----------+------+------+\n",
            "\n",
            "root\n",
            " |-- dept_name: string (nullable = true)\n",
            " |-- dept_id: long (nullable = true)\n",
            "\n",
            "+---------+-------+\n",
            "|dept_name|dept_id|\n",
            "+---------+-------+\n",
            "|Finance  |10     |\n",
            "|Marketing|20     |\n",
            "|Sales    |30     |\n",
            "|IT       |40     |\n",
            "+---------+-------+\n",
            "\n"
          ]
        }
      ]
    },
    {
      "cell_type": "markdown",
      "source": [
        "#### **4.1 Inner Join**"
      ],
      "metadata": {
        "id": "ZsqABqE2Xoy4"
      }
    },
    {
      "cell_type": "code",
      "source": [
        "empDF.join(deptDF, empDF.emp_dept_id == deptDF.dept_id, how='inner').show()"
      ],
      "metadata": {
        "colab": {
          "base_uri": "https://localhost:8080/"
        },
        "id": "96cW_09QXkaP",
        "outputId": "df187fe3-0a88-4ba2-8a27-05e082d25727"
      },
      "execution_count": null,
      "outputs": [
        {
          "output_type": "stream",
          "name": "stdout",
          "text": [
            "+------+--------+---------------+-----------+-----------+------+------+---------+-------+\n",
            "|emp_id|    name|superior_emp_id|year_joined|emp_dept_id|gender|salary|dept_name|dept_id|\n",
            "+------+--------+---------------+-----------+-----------+------+------+---------+-------+\n",
            "|     1|   Smith|             -1|       2018|         10|     M|  3000|  Finance|     10|\n",
            "|     3|Williams|              1|       2010|         10|     M|  1000|  Finance|     10|\n",
            "|     4|   Jones|              2|       2005|         10|     F|  2000|  Finance|     10|\n",
            "|     2|    Rose|              1|       2010|         20|     M|  4000|Marketing|     20|\n",
            "|     5|   Brown|              2|       2010|         40|      |    -1|       IT|     40|\n",
            "+------+--------+---------------+-----------+-----------+------+------+---------+-------+\n",
            "\n"
          ]
        }
      ]
    },
    {
      "cell_type": "markdown",
      "source": [
        "#### **4.2 Outer Join**"
      ],
      "metadata": {
        "id": "fCjwI8o1YcAa"
      }
    },
    {
      "cell_type": "code",
      "source": [
        "empDF.join(deptDF, empDF.emp_dept_id == deptDF.dept_id, how='outer').show() # or 'full', 'fullouter'"
      ],
      "metadata": {
        "colab": {
          "base_uri": "https://localhost:8080/"
        },
        "id": "rfnpeouRYUJa",
        "outputId": "edc348b7-dc3e-41df-c98b-7b4c68939963"
      },
      "execution_count": null,
      "outputs": [
        {
          "output_type": "stream",
          "name": "stdout",
          "text": [
            "+------+--------+---------------+-----------+-----------+------+------+---------+-------+\n",
            "|emp_id|    name|superior_emp_id|year_joined|emp_dept_id|gender|salary|dept_name|dept_id|\n",
            "+------+--------+---------------+-----------+-----------+------+------+---------+-------+\n",
            "|     1|   Smith|             -1|       2018|         10|     M|  3000|  Finance|     10|\n",
            "|     3|Williams|              1|       2010|         10|     M|  1000|  Finance|     10|\n",
            "|     4|   Jones|              2|       2005|         10|     F|  2000|  Finance|     10|\n",
            "|     2|    Rose|              1|       2010|         20|     M|  4000|Marketing|     20|\n",
            "|  null|    null|           null|       null|       null|  null|  null|    Sales|     30|\n",
            "|     5|   Brown|              2|       2010|         40|      |    -1|       IT|     40|\n",
            "|     6|   Brown|              2|       2010|         50|      |    -1|     null|   null|\n",
            "+------+--------+---------------+-----------+-----------+------+------+---------+-------+\n",
            "\n"
          ]
        }
      ]
    },
    {
      "cell_type": "markdown",
      "source": [
        "#### **4.3 Left Join**"
      ],
      "metadata": {
        "id": "F0fxW0MjZWgu"
      }
    },
    {
      "cell_type": "code",
      "source": [
        "empDF.join(deptDF, empDF.emp_dept_id==deptDF.dept_id, how='left').show()"
      ],
      "metadata": {
        "colab": {
          "base_uri": "https://localhost:8080/"
        },
        "id": "gp5MdxyTYu1E",
        "outputId": "8bfb23f6-6773-4325-d3f4-5ea190ed1a17"
      },
      "execution_count": null,
      "outputs": [
        {
          "output_type": "stream",
          "name": "stdout",
          "text": [
            "+------+--------+---------------+-----------+-----------+------+------+---------+-------+\n",
            "|emp_id|    name|superior_emp_id|year_joined|emp_dept_id|gender|salary|dept_name|dept_id|\n",
            "+------+--------+---------------+-----------+-----------+------+------+---------+-------+\n",
            "|     1|   Smith|             -1|       2018|         10|     M|  3000|  Finance|     10|\n",
            "|     3|Williams|              1|       2010|         10|     M|  1000|  Finance|     10|\n",
            "|     4|   Jones|              2|       2005|         10|     F|  2000|  Finance|     10|\n",
            "|     2|    Rose|              1|       2010|         20|     M|  4000|Marketing|     20|\n",
            "|     5|   Brown|              2|       2010|         40|      |    -1|       IT|     40|\n",
            "|     6|   Brown|              2|       2010|         50|      |    -1|     null|   null|\n",
            "+------+--------+---------------+-----------+-----------+------+------+---------+-------+\n",
            "\n"
          ]
        }
      ]
    },
    {
      "cell_type": "markdown",
      "source": [
        "#### **4.4 Right Join**"
      ],
      "metadata": {
        "id": "Rp5ge2iLZXWF"
      }
    },
    {
      "cell_type": "code",
      "source": [
        "empDF.join(deptDF, empDF.emp_dept_id==deptDF.dept_id, how='right').show()"
      ],
      "metadata": {
        "colab": {
          "base_uri": "https://localhost:8080/"
        },
        "id": "v6uoLoRrZ7Ha",
        "outputId": "ae442560-440a-4153-ded5-f21e78806eb7"
      },
      "execution_count": null,
      "outputs": [
        {
          "output_type": "stream",
          "name": "stdout",
          "text": [
            "+------+--------+---------------+-----------+-----------+------+------+---------+-------+\n",
            "|emp_id|    name|superior_emp_id|year_joined|emp_dept_id|gender|salary|dept_name|dept_id|\n",
            "+------+--------+---------------+-----------+-----------+------+------+---------+-------+\n",
            "|     1|   Smith|             -1|       2018|         10|     M|  3000|  Finance|     10|\n",
            "|     3|Williams|              1|       2010|         10|     M|  1000|  Finance|     10|\n",
            "|     4|   Jones|              2|       2005|         10|     F|  2000|  Finance|     10|\n",
            "|     2|    Rose|              1|       2010|         20|     M|  4000|Marketing|     20|\n",
            "|  null|    null|           null|       null|       null|  null|  null|    Sales|     30|\n",
            "|     5|   Brown|              2|       2010|         40|      |    -1|       IT|     40|\n",
            "+------+--------+---------------+-----------+-----------+------+------+---------+-------+\n",
            "\n"
          ]
        }
      ]
    },
    {
      "cell_type": "markdown",
      "source": [
        "#### **4.5 Left-Semi Join**"
      ],
      "metadata": {
        "id": "qPwMqoRDaU0E"
      }
    },
    {
      "cell_type": "code",
      "source": [
        "# leftsemi join is similar to inner join \n",
        "# difference being leftsemi join returns all columns from the left dataset and\n",
        "# ignores all columns from the right dataset."
      ],
      "metadata": {
        "id": "TGkwH1nrZ9ht"
      },
      "execution_count": null,
      "outputs": []
    },
    {
      "cell_type": "code",
      "source": [
        "empDF.join(deptDF, empDF.emp_dept_id==deptDF.dept_id, how='leftsemi').show()"
      ],
      "metadata": {
        "colab": {
          "base_uri": "https://localhost:8080/"
        },
        "id": "8ZCBKvYuahOO",
        "outputId": "08984de9-af09-42d1-a9e9-8f78f2faddc6"
      },
      "execution_count": null,
      "outputs": [
        {
          "output_type": "stream",
          "name": "stdout",
          "text": [
            "+------+--------+---------------+-----------+-----------+------+------+\n",
            "|emp_id|    name|superior_emp_id|year_joined|emp_dept_id|gender|salary|\n",
            "+------+--------+---------------+-----------+-----------+------+------+\n",
            "|     1|   Smith|             -1|       2018|         10|     M|  3000|\n",
            "|     3|Williams|              1|       2010|         10|     M|  1000|\n",
            "|     4|   Jones|              2|       2005|         10|     F|  2000|\n",
            "|     2|    Rose|              1|       2010|         20|     M|  4000|\n",
            "|     5|   Brown|              2|       2010|         40|      |    -1|\n",
            "+------+--------+---------------+-----------+-----------+------+------+\n",
            "\n"
          ]
        }
      ]
    },
    {
      "cell_type": "markdown",
      "source": [
        "#### **4.6 Left-Anti Join**"
      ],
      "metadata": {
        "id": "kpfwfOMFaoVo"
      }
    },
    {
      "cell_type": "code",
      "source": [
        "# leftanti join does the exact opposite of the leftsemi (whichever cant be joined with inner)\n",
        "empDF.join(deptDF, empDF.emp_dept_id==deptDF.dept_id, how='leftanti').show()"
      ],
      "metadata": {
        "colab": {
          "base_uri": "https://localhost:8080/"
        },
        "id": "j80pA9DMakck",
        "outputId": "ae75ea52-2f24-4d56-c301-a43463821471"
      },
      "execution_count": null,
      "outputs": [
        {
          "output_type": "stream",
          "name": "stdout",
          "text": [
            "+------+-----+---------------+-----------+-----------+------+------+\n",
            "|emp_id| name|superior_emp_id|year_joined|emp_dept_id|gender|salary|\n",
            "+------+-----+---------------+-----------+-----------+------+------+\n",
            "|     6|Brown|              2|       2010|         50|      |    -1|\n",
            "+------+-----+---------------+-----------+-----------+------+------+\n",
            "\n"
          ]
        }
      ]
    },
    {
      "cell_type": "markdown",
      "source": [
        "#### **4.7 Self Join**"
      ],
      "metadata": {
        "id": "Q4t9hC-fbrDo"
      }
    },
    {
      "cell_type": "code",
      "source": [
        "empDF.alias(\"emp1\").join(empDF.alias(\"emp2\"), \\\n",
        "    col(\"emp1.superior_emp_id\") == col(\"emp2.emp_id\"),\"inner\") \\\n",
        "    .select(col(\"emp1.emp_id\"),col(\"emp1.name\"), \\\n",
        "      col(\"emp2.emp_id\").alias(\"superior_emp_id\"), \\\n",
        "      col(\"emp2.name\").alias(\"superior_emp_name\")) \\\n",
        "   .show(truncate=False)\n"
      ],
      "metadata": {
        "colab": {
          "base_uri": "https://localhost:8080/"
        },
        "id": "OtZsU4E3awM5",
        "outputId": "edbf3225-a292-46d5-ee17-73ba83d87444"
      },
      "execution_count": null,
      "outputs": [
        {
          "output_type": "stream",
          "name": "stdout",
          "text": [
            "+------+--------+---------------+-----------------+\n",
            "|emp_id|name    |superior_emp_id|superior_emp_name|\n",
            "+------+--------+---------------+-----------------+\n",
            "|2     |Rose    |1              |Smith            |\n",
            "|3     |Williams|1              |Smith            |\n",
            "|4     |Jones   |2              |Rose             |\n",
            "|5     |Brown   |2              |Rose             |\n",
            "|6     |Brown   |2              |Rose             |\n",
            "+------+--------+---------------+-----------------+\n",
            "\n"
          ]
        }
      ]
    },
    {
      "cell_type": "markdown",
      "source": [
        "#### **4.8 Using SQL Expressions Join**"
      ],
      "metadata": {
        "id": "3R5s0_jXbvU5"
      }
    },
    {
      "cell_type": "code",
      "source": [
        "empDF.createOrReplaceTempView('EMP')\n",
        "deptDF.createOrReplaceTempView('DEPT')\n",
        "\n",
        "query1 = \"SELECT * FROM EMP e, DEPT d WHERE e.emp_dept_id == d.dept_id\"\n",
        "spark.sql(query1).show()"
      ],
      "metadata": {
        "colab": {
          "base_uri": "https://localhost:8080/"
        },
        "id": "cB4Dc-T1blcy",
        "outputId": "fe961c1e-8b81-4250-9a79-f9bcb9a5881f"
      },
      "execution_count": null,
      "outputs": [
        {
          "output_type": "stream",
          "name": "stdout",
          "text": [
            "+------+--------+---------------+-----------+-----------+------+------+---------+-------+\n",
            "|emp_id|    name|superior_emp_id|year_joined|emp_dept_id|gender|salary|dept_name|dept_id|\n",
            "+------+--------+---------------+-----------+-----------+------+------+---------+-------+\n",
            "|     1|   Smith|             -1|       2018|         10|     M|  3000|  Finance|     10|\n",
            "|     3|Williams|              1|       2010|         10|     M|  1000|  Finance|     10|\n",
            "|     4|   Jones|              2|       2005|         10|     F|  2000|  Finance|     10|\n",
            "|     2|    Rose|              1|       2010|         20|     M|  4000|Marketing|     20|\n",
            "|     5|   Brown|              2|       2010|         40|      |    -1|       IT|     40|\n",
            "+------+--------+---------------+-----------+-----------+------+------+---------+-------+\n",
            "\n"
          ]
        }
      ]
    },
    {
      "cell_type": "code",
      "source": [
        "query2 = \"SELECT * FROM EMP e INNER JOIN DEPT d ON e.emp_dept_id == d.dept_id\"\n",
        "spark.sql(query2).show()"
      ],
      "metadata": {
        "colab": {
          "base_uri": "https://localhost:8080/"
        },
        "id": "YF8Nv5VccSf9",
        "outputId": "5ee9d00c-1e6b-494c-8329-7ccaa4760be6"
      },
      "execution_count": null,
      "outputs": [
        {
          "output_type": "stream",
          "name": "stdout",
          "text": [
            "+------+--------+---------------+-----------+-----------+------+------+---------+-------+\n",
            "|emp_id|    name|superior_emp_id|year_joined|emp_dept_id|gender|salary|dept_name|dept_id|\n",
            "+------+--------+---------------+-----------+-----------+------+------+---------+-------+\n",
            "|     1|   Smith|             -1|       2018|         10|     M|  3000|  Finance|     10|\n",
            "|     3|Williams|              1|       2010|         10|     M|  1000|  Finance|     10|\n",
            "|     4|   Jones|              2|       2005|         10|     F|  2000|  Finance|     10|\n",
            "|     2|    Rose|              1|       2010|         20|     M|  4000|Marketing|     20|\n",
            "|     5|   Brown|              2|       2010|         40|      |    -1|       IT|     40|\n",
            "+------+--------+---------------+-----------+-----------+------+------+---------+-------+\n",
            "\n"
          ]
        }
      ]
    },
    {
      "cell_type": "markdown",
      "source": [
        "#### **4.9 PySpark SQL Join on multiple DataFrames**"
      ],
      "metadata": {
        "id": "Cy2jqFHDcxwt"
      }
    },
    {
      "cell_type": "code",
      "source": [
        "# df1.join(df2, df1.id==df2.id, how='inner').join(df3, df1.id==df3.id, how='inner')"
      ],
      "metadata": {
        "id": "uS1VZx2Icmf1"
      },
      "execution_count": null,
      "outputs": []
    },
    {
      "cell_type": "markdown",
      "source": [
        "# **UNION VS UNION ALL**"
      ],
      "metadata": {
        "id": "LCvi-Nh5divm"
      }
    },
    {
      "cell_type": "code",
      "source": [
        "simpleData = [(\"James\",\"Sales\",\"NY\",90000,34,10000), \\\n",
        "    (\"Michael\",\"Sales\",\"NY\",86000,56,20000), \\\n",
        "    (\"Robert\",\"Sales\",\"CA\",81000,30,23000), \\\n",
        "    (\"Maria\",\"Finance\",\"CA\",90000,24,23000)]\n",
        "columns= [\"employee_name\",\"department\",\"state\",\"salary\",\"age\",\"bonus\"]\n",
        "df1 = spark.createDataFrame(data = simpleData, schema = columns)\n",
        "simpleData2 = [(\"James\",\"Sales\",\"NY\",90000,34,10000), \\\n",
        "    (\"Maria\",\"Finance\",\"CA\",90000,24,23000), \\\n",
        "    (\"Jen\",\"Finance\",\"NY\",79000,53,15000), \\\n",
        "    (\"Jeff\",\"Marketing\",\"CA\",80000,25,18000), \\\n",
        "    (\"Kumar\",\"Marketing\",\"NY\",91000,50,21000)]\n",
        "columns2= [\"employee_name\",\"department\",\"state\",\"salary\",\"age\",\"bonus\"]\n",
        "df2 = spark.createDataFrame(data = simpleData2, schema = columns2)"
      ],
      "metadata": {
        "id": "9atnE2oMdOOI"
      },
      "execution_count": null,
      "outputs": []
    },
    {
      "cell_type": "code",
      "source": [
        "unionDF = df1.union(df2)  # df1.unionAll(df2) returns the same O/P\n",
        "unionDF.show()"
      ],
      "metadata": {
        "colab": {
          "base_uri": "https://localhost:8080/"
        },
        "id": "9U9wfvcydyHI",
        "outputId": "64bd2077-d8c8-4186-ac4a-0f081164e066"
      },
      "execution_count": null,
      "outputs": [
        {
          "output_type": "stream",
          "name": "stdout",
          "text": [
            "+-------------+----------+-----+------+---+-----+\n",
            "|employee_name|department|state|salary|age|bonus|\n",
            "+-------------+----------+-----+------+---+-----+\n",
            "|        James|     Sales|   NY| 90000| 34|10000|\n",
            "|      Michael|     Sales|   NY| 86000| 56|20000|\n",
            "|       Robert|     Sales|   CA| 81000| 30|23000|\n",
            "|        Maria|   Finance|   CA| 90000| 24|23000|\n",
            "|        James|     Sales|   NY| 90000| 34|10000|\n",
            "|        Maria|   Finance|   CA| 90000| 24|23000|\n",
            "|          Jen|   Finance|   NY| 79000| 53|15000|\n",
            "|         Jeff| Marketing|   CA| 80000| 25|18000|\n",
            "|        Kumar| Marketing|   NY| 91000| 50|21000|\n",
            "+-------------+----------+-----+------+---+-----+\n",
            "\n"
          ]
        }
      ]
    },
    {
      "cell_type": "code",
      "source": [
        "# Merge without Duplicates\n",
        "df1.union(df2).distinct().show()"
      ],
      "metadata": {
        "colab": {
          "base_uri": "https://localhost:8080/"
        },
        "id": "Fc-gYH1fd3ap",
        "outputId": "2a3ff952-03b5-476e-88a9-5c0cb1502cf7"
      },
      "execution_count": null,
      "outputs": [
        {
          "output_type": "stream",
          "name": "stdout",
          "text": [
            "+-------------+----------+-----+------+---+-----+\n",
            "|employee_name|department|state|salary|age|bonus|\n",
            "+-------------+----------+-----+------+---+-----+\n",
            "|        James|     Sales|   NY| 90000| 34|10000|\n",
            "|        Maria|   Finance|   CA| 90000| 24|23000|\n",
            "|      Michael|     Sales|   NY| 86000| 56|20000|\n",
            "|       Robert|     Sales|   CA| 81000| 30|23000|\n",
            "|        Kumar| Marketing|   NY| 91000| 50|21000|\n",
            "|          Jen|   Finance|   NY| 79000| 53|15000|\n",
            "|         Jeff| Marketing|   CA| 80000| 25|18000|\n",
            "+-------------+----------+-----+------+---+-----+\n",
            "\n"
          ]
        }
      ]
    },
    {
      "cell_type": "code",
      "source": [
        "# Merge Two DataFrames with Different Columns or Schema\n",
        "\n",
        "df1.unionByName(df2, allowMissingColumns=True).show()"
      ],
      "metadata": {
        "colab": {
          "base_uri": "https://localhost:8080/"
        },
        "id": "UeDCgFxweGy2",
        "outputId": "10fd9cdd-be18-4d3a-e8bb-6a9de28f78db"
      },
      "execution_count": null,
      "outputs": [
        {
          "output_type": "stream",
          "name": "stdout",
          "text": [
            "+-------------+----------+-----+------+---+-----+\n",
            "|employee_name|department|state|salary|age|bonus|\n",
            "+-------------+----------+-----+------+---+-----+\n",
            "|        James|     Sales|   NY| 90000| 34|10000|\n",
            "|      Michael|     Sales|   NY| 86000| 56|20000|\n",
            "|       Robert|     Sales|   CA| 81000| 30|23000|\n",
            "|        Maria|   Finance|   CA| 90000| 24|23000|\n",
            "|        James|     Sales|   NY| 90000| 34|10000|\n",
            "|        Maria|   Finance|   CA| 90000| 24|23000|\n",
            "|          Jen|   Finance|   NY| 79000| 53|15000|\n",
            "|         Jeff| Marketing|   CA| 80000| 25|18000|\n",
            "|        Kumar| Marketing|   NY| 91000| 50|21000|\n",
            "+-------------+----------+-----+------+---+-----+\n",
            "\n"
          ]
        }
      ]
    },
    {
      "cell_type": "code",
      "source": [
        "#Create DataFrame df1 with columns --- name, dept & age\n",
        "data = [(\"James\",\"Sales\",34), (\"Michael\",\"Sales\",56),(\"Robert\",\"Sales\",30), (\"Maria\",\"Finance\",24) ]\n",
        "columns= [\"name\",\"dept\",\"age\"]\n",
        "df1 = spark.createDataFrame(data = data, schema = columns)\n",
        "\n",
        "#Create DataFrame df1 with columns --- name, dept, state & salary\n",
        "data2=[(\"James\",\"Sales\",\"NY\",9000),(\"Maria\",\"Finance\",\"CA\",9000),(\"Jen\",\"Finance\",\"NY\",7900),(\"Jeff\",\"Marketing\",\"CA\",8000)]\n",
        "columns2= [\"name\",\"dept\",\"state\",\"salary\"]\n",
        "df2 = spark.createDataFrame(data = data2, schema = columns2)"
      ],
      "metadata": {
        "id": "gnPe0c2FgZ7w"
      },
      "execution_count": null,
      "outputs": []
    },
    {
      "cell_type": "code",
      "source": [
        "# Create new columns state and salary in df1 (as they are missing in df2) and fill with NULL\n",
        "# DO THE SAME FOR df2 too!\n",
        "from pyspark.sql.functions import lit\n",
        "for column in [column for column in df2.columns if column not in df1.columns]:\n",
        "  df1 = df1.withColumn(column, lit(None))\n",
        "for column in [column for column in df1.columns if column not in df2.columns]:\n",
        "  df2 = df2.withColumn(column, lit(None))"
      ],
      "metadata": {
        "id": "yLQ1_ia2hTTw"
      },
      "execution_count": null,
      "outputs": []
    },
    {
      "cell_type": "code",
      "source": [
        "df1.unionByName(df2).show()"
      ],
      "metadata": {
        "colab": {
          "base_uri": "https://localhost:8080/"
        },
        "id": "nRwOXv77icEB",
        "outputId": "31a7dab6-0704-419c-d302-7e2a7a0be6f3"
      },
      "execution_count": null,
      "outputs": [
        {
          "output_type": "stream",
          "name": "stdout",
          "text": [
            "+-------+---------+----+-----+------+\n",
            "|   name|     dept| age|state|salary|\n",
            "+-------+---------+----+-----+------+\n",
            "|  James|    Sales|  34| null|  null|\n",
            "|Michael|    Sales|  56| null|  null|\n",
            "| Robert|    Sales|  30| null|  null|\n",
            "|  Maria|  Finance|  24| null|  null|\n",
            "|  James|    Sales|null|   NY|  9000|\n",
            "|  Maria|  Finance|null|   CA|  9000|\n",
            "|    Jen|  Finance|null|   NY|  7900|\n",
            "|   Jeff|Marketing|null|   CA|  8000|\n",
            "+-------+---------+----+-----+------+\n",
            "\n"
          ]
        }
      ]
    },
    {
      "cell_type": "markdown",
      "source": [
        "# **Fillna and Fill**"
      ],
      "metadata": {
        "id": "XAF0wvUEjAoq"
      }
    },
    {
      "cell_type": "code",
      "source": [
        "df1.fillna(value=0, subset=None).show()"
      ],
      "metadata": {
        "colab": {
          "base_uri": "https://localhost:8080/"
        },
        "id": "hd3a1JHCisx1",
        "outputId": "9732c0fb-548a-49c8-c4a4-c6beeac69dc4"
      },
      "execution_count": null,
      "outputs": [
        {
          "output_type": "stream",
          "name": "stdout",
          "text": [
            "+-------+-------+---+-----+------+\n",
            "|   name|   dept|age|state|salary|\n",
            "+-------+-------+---+-----+------+\n",
            "|  James|  Sales| 34| null|  null|\n",
            "|Michael|  Sales| 56| null|  null|\n",
            "| Robert|  Sales| 30| null|  null|\n",
            "|  Maria|Finance| 24| null|  null|\n",
            "+-------+-------+---+-----+------+\n",
            "\n"
          ]
        }
      ]
    },
    {
      "cell_type": "code",
      "source": [
        "df1.na.fill(value=0, subset=['state']).show()"
      ],
      "metadata": {
        "colab": {
          "base_uri": "https://localhost:8080/"
        },
        "id": "N8u5GtcUjnJQ",
        "outputId": "6ce3d46b-4de1-4623-88f9-52f3666f3b00"
      },
      "execution_count": null,
      "outputs": [
        {
          "output_type": "stream",
          "name": "stdout",
          "text": [
            "+-------+-------+---+-----+------+\n",
            "|   name|   dept|age|state|salary|\n",
            "+-------+-------+---+-----+------+\n",
            "|  James|  Sales| 34| null|  null|\n",
            "|Michael|  Sales| 56| null|  null|\n",
            "| Robert|  Sales| 30| null|  null|\n",
            "|  Maria|Finance| 24| null|  null|\n",
            "+-------+-------+---+-----+------+\n",
            "\n"
          ]
        }
      ]
    },
    {
      "cell_type": "code",
      "source": [
        "# df1.na.fill({'state' : 'IL', 'salary':0}).show()"
      ],
      "metadata": {
        "id": "1gbxuSlTkkoU"
      },
      "execution_count": null,
      "outputs": []
    },
    {
      "cell_type": "markdown",
      "source": [
        "# **Map** **Transformations**"
      ],
      "metadata": {
        "id": "Y_V7c8CAm3pb"
      }
    },
    {
      "cell_type": "code",
      "source": [
        "# DataFrame doesn’t have map() transformation to use with DataFrame \n",
        "# hence you need to transform DataFrame to RDD first.\n",
        "\n",
        "data = [\"Project\",\"Gutenberg’s\",\"Alice’s\",\"Adventures\",\n",
        "\"in\",\"Wonderland\",\"Project\",\"Gutenberg’s\",\"Adventures\",\n",
        "\"in\",\"Wonderland\",\"Project\",\"Gutenberg’s\"]\n",
        "\n",
        "rdd = spark.sparkContext.parallelize(data)\n",
        "rdd2 = rdd.map(lambda x: (x,1))\n",
        "for element in rdd2.collect():\n",
        "  print(element)"
      ],
      "metadata": {
        "colab": {
          "base_uri": "https://localhost:8080/"
        },
        "id": "DdXW5rRkjwlH",
        "outputId": "f51f9b4c-1b7b-4f69-dc2f-d8f8e4d0240b"
      },
      "execution_count": null,
      "outputs": [
        {
          "output_type": "stream",
          "name": "stdout",
          "text": [
            "('Project', 1)\n",
            "('Gutenberg’s', 1)\n",
            "('Alice’s', 1)\n",
            "('Adventures', 1)\n",
            "('in', 1)\n",
            "('Wonderland', 1)\n",
            "('Project', 1)\n",
            "('Gutenberg’s', 1)\n",
            "('Adventures', 1)\n",
            "('in', 1)\n",
            "('Wonderland', 1)\n",
            "('Project', 1)\n",
            "('Gutenberg’s', 1)\n"
          ]
        }
      ]
    },
    {
      "cell_type": "code",
      "source": [
        "data = [('James','Smith','M',30),\n",
        "  ('Anna','Rose','F',41),\n",
        "  ('Robert','Williams','M',62), \n",
        "]\n",
        "\n",
        "columns = [\"firstname\",\"lastname\",\"gender\",\"salary\"]\n",
        "df = spark.createDataFrame(data=data, schema = columns)\n",
        "df.show()"
      ],
      "metadata": {
        "colab": {
          "base_uri": "https://localhost:8080/"
        },
        "id": "boWkSB59ncaq",
        "outputId": "6a7f06a2-619b-4136-bcf1-26e1d8a9deaf"
      },
      "execution_count": null,
      "outputs": [
        {
          "output_type": "stream",
          "name": "stdout",
          "text": [
            "+---------+--------+------+------+\n",
            "|firstname|lastname|gender|salary|\n",
            "+---------+--------+------+------+\n",
            "|    James|   Smith|     M|    30|\n",
            "|     Anna|    Rose|     F|    41|\n",
            "|   Robert|Williams|     M|    62|\n",
            "+---------+--------+------+------+\n",
            "\n"
          ]
        }
      ]
    },
    {
      "cell_type": "code",
      "source": [
        "rdd2 = df.rdd.map(lambda x: (x[0] + ' ' + x[1], x[2], x[3]*2))\n",
        "rdd2.toDF(schema = ['name','sex','new_sal']).show()"
      ],
      "metadata": {
        "colab": {
          "base_uri": "https://localhost:8080/"
        },
        "id": "mGqj2ib3nwgP",
        "outputId": "4b42bd1b-b836-4116-c1a5-838c6b05e8e7"
      },
      "execution_count": null,
      "outputs": [
        {
          "output_type": "stream",
          "name": "stdout",
          "text": [
            "+---------------+---+-------+\n",
            "|           name|sex|new_sal|\n",
            "+---------------+---+-------+\n",
            "|    James Smith|  M|     60|\n",
            "|      Anna Rose|  F|     82|\n",
            "|Robert Williams|  M|    124|\n",
            "+---------------+---+-------+\n",
            "\n"
          ]
        }
      ]
    },
    {
      "cell_type": "code",
      "source": [
        "# By Calling function\n",
        "def func1(x):\n",
        "    firstName=x.firstname\n",
        "    lastName=x.lastname\n",
        "    name=firstName+\", \"+lastName\n",
        "    gender=x.gender.lower()\n",
        "    salary=x.salary*2\n",
        "    return (name,gender,salary)\n",
        "\n",
        "rdd2=df.rdd.map(lambda x: func1(x))\n",
        "rdd2.toDF().show()"
      ],
      "metadata": {
        "colab": {
          "base_uri": "https://localhost:8080/"
        },
        "id": "sCsg2NDjoEsc",
        "outputId": "7b78fd9f-15bc-4aa8-877c-db135c83bd79"
      },
      "execution_count": null,
      "outputs": [
        {
          "output_type": "stream",
          "name": "stdout",
          "text": [
            "+----------------+---+---+\n",
            "|              _1| _2| _3|\n",
            "+----------------+---+---+\n",
            "|    James, Smith|  m| 60|\n",
            "|      Anna, Rose|  f| 82|\n",
            "|Robert, Williams|  m|124|\n",
            "+----------------+---+---+\n",
            "\n"
          ]
        }
      ]
    },
    {
      "cell_type": "markdown",
      "source": [
        "# **5. Date & Time Functions**"
      ],
      "metadata": {
        "id": "Nl61p1vx_XPM"
      }
    },
    {
      "cell_type": "markdown",
      "source": [
        "https://sparkbyexamples.com/pyspark/pyspark-sql-date-and-timestamp-functions/"
      ],
      "metadata": {
        "id": "nHowmzNe_3SH"
      }
    },
    {
      "cell_type": "code",
      "source": [
        "# 1. DateType default format is yyyy-MM-dd \n",
        "# 2. TimestampType default format is yyyy-MM-dd HH:mm:ss.SSSS\n",
        "# 3. Returns null if the input is a string that can not be cast to Date or Timestamp."
      ],
      "metadata": {
        "id": "UFAjYZv-o_Nc"
      },
      "execution_count": null,
      "outputs": []
    },
    {
      "cell_type": "code",
      "source": [
        "from pyspark.sql.functions import *"
      ],
      "metadata": {
        "id": "jn0lf0MG_qeW"
      },
      "execution_count": null,
      "outputs": []
    },
    {
      "cell_type": "code",
      "source": [
        "data=[[\"1\",\"2020-02-01\"],[\"2\",\"2019-03-01\"],[\"3\",\"2021-03-01\"]]\n",
        "df=spark.createDataFrame(data, schema = [\"id\",\"input\"])\n",
        "df.show()"
      ],
      "metadata": {
        "colab": {
          "base_uri": "https://localhost:8080/"
        },
        "id": "JK6Npgs7AAPD",
        "outputId": "a5514025-b18a-4581-f9e7-f2b522f2d4e8"
      },
      "execution_count": null,
      "outputs": [
        {
          "output_type": "stream",
          "name": "stdout",
          "text": [
            "+---+----------+\n",
            "| id|     input|\n",
            "+---+----------+\n",
            "|  1|2020-02-01|\n",
            "|  2|2019-03-01|\n",
            "|  3|2021-03-01|\n",
            "+---+----------+\n",
            "\n"
          ]
        }
      ]
    },
    {
      "cell_type": "markdown",
      "source": [
        "#### **5.1 current_date()**"
      ],
      "metadata": {
        "id": "XhfFH2WTAJin"
      }
    },
    {
      "cell_type": "code",
      "source": [
        "df.select(current_date()).show() # no of rows equal to that of df"
      ],
      "metadata": {
        "colab": {
          "base_uri": "https://localhost:8080/"
        },
        "id": "DnLWQlt5AUHv",
        "outputId": "8f387baf-8b22-41bf-fc35-f79e1321ff05"
      },
      "execution_count": null,
      "outputs": [
        {
          "output_type": "stream",
          "name": "stdout",
          "text": [
            "+--------------+\n",
            "|current_date()|\n",
            "+--------------+\n",
            "|    2022-05-26|\n",
            "|    2022-05-26|\n",
            "|    2022-05-26|\n",
            "+--------------+\n",
            "\n"
          ]
        }
      ]
    },
    {
      "cell_type": "markdown",
      "source": [
        "#### **5.2 date_format()**"
      ],
      "metadata": {
        "id": "5s-OQu1vEgB1"
      }
    },
    {
      "cell_type": "code",
      "source": [
        "# date_format() to parses the date and converts from yyyy-dd-mm to MM-dd-yyyy\n",
        "df.withColumn('input', date_format(col('input'),'MM-dd-yyyy')).show()"
      ],
      "metadata": {
        "colab": {
          "base_uri": "https://localhost:8080/"
        },
        "id": "UiGl87niAg_2",
        "outputId": "a74b1a39-c40f-4a94-b54e-b9e200e37620"
      },
      "execution_count": null,
      "outputs": [
        {
          "output_type": "stream",
          "name": "stdout",
          "text": [
            "+---+----------+\n",
            "| id|     input|\n",
            "+---+----------+\n",
            "|  1|02-01-2020|\n",
            "|  2|03-01-2019|\n",
            "|  3|03-01-2021|\n",
            "+---+----------+\n",
            "\n"
          ]
        }
      ]
    },
    {
      "cell_type": "markdown",
      "source": [
        "#### **5.3 to_date()**"
      ],
      "metadata": {
        "id": "Aq4YdD7VRI3g"
      }
    },
    {
      "cell_type": "code",
      "source": [
        "df.withColumn('input', to_date(col('input'))).show() # by default to 'yyyy-MM-dd'"
      ],
      "metadata": {
        "colab": {
          "base_uri": "https://localhost:8080/"
        },
        "id": "0rVt0nJWD-ER",
        "outputId": "18b3171c-d5d0-4dfa-e8bb-54009420e180"
      },
      "execution_count": null,
      "outputs": [
        {
          "output_type": "stream",
          "name": "stdout",
          "text": [
            "+---+----------+\n",
            "| id|     input|\n",
            "+---+----------+\n",
            "|  1|2020-02-01|\n",
            "|  2|2019-03-01|\n",
            "|  3|2021-03-01|\n",
            "+---+----------+\n",
            "\n"
          ]
        }
      ]
    },
    {
      "cell_type": "markdown",
      "source": [
        "#### **5.4 datediff()**"
      ],
      "metadata": {
        "id": "FnvKPXD-SQ15"
      }
    },
    {
      "cell_type": "code",
      "source": [
        "df.select('input', datediff(current_date(), col('input'))).show()"
      ],
      "metadata": {
        "colab": {
          "base_uri": "https://localhost:8080/"
        },
        "id": "TnmJL40hRoUW",
        "outputId": "4ffd1975-896d-4d21-bd92-0add8a143752"
      },
      "execution_count": null,
      "outputs": [
        {
          "output_type": "stream",
          "name": "stdout",
          "text": [
            "+----------+-------------------------------+\n",
            "|     input|datediff(current_date(), input)|\n",
            "+----------+-------------------------------+\n",
            "|2020-02-01|                            846|\n",
            "|2019-03-01|                           1183|\n",
            "|2021-03-01|                            452|\n",
            "+----------+-------------------------------+\n",
            "\n"
          ]
        }
      ]
    },
    {
      "cell_type": "markdown",
      "source": [
        "#### **5.5 months_between()**"
      ],
      "metadata": {
        "id": "NpAHMGqUSvzz"
      }
    },
    {
      "cell_type": "code",
      "source": [
        "df.select('input', months_between(current_date(), col('input'))).show()"
      ],
      "metadata": {
        "colab": {
          "base_uri": "https://localhost:8080/"
        },
        "id": "PN6INwqMSgY3",
        "outputId": "3b902bde-310b-4244-91ed-e21004a53238"
      },
      "execution_count": null,
      "outputs": [
        {
          "output_type": "stream",
          "name": "stdout",
          "text": [
            "+----------+-------------------------------------------+\n",
            "|     input|months_between(current_date(), input, true)|\n",
            "+----------+-------------------------------------------+\n",
            "|2020-02-01|                                27.83870968|\n",
            "|2019-03-01|                                38.83870968|\n",
            "|2021-03-01|                                14.83870968|\n",
            "+----------+-------------------------------------------+\n",
            "\n"
          ]
        }
      ]
    },
    {
      "cell_type": "markdown",
      "source": [
        "#### **5.6 trunc()**"
      ],
      "metadata": {
        "id": "9vWM1Cl_TRfc"
      }
    },
    {
      "cell_type": "code",
      "source": [
        "# Truncates the date at a specified unit using Trunc()\n",
        "df.select('input',\n",
        "          trunc(col('input'), 'Month').alias('Month_trunc'),\n",
        "          trunc(col('input'), 'Year').alias('Year_trunc'),\n",
        "          trunc(col('input'), 'Day').alias('Day_trunc')).show()"
      ],
      "metadata": {
        "colab": {
          "base_uri": "https://localhost:8080/"
        },
        "id": "PKqkkHmiS6AX",
        "outputId": "76bb995c-9228-4636-865f-2191ac5f4e3a"
      },
      "execution_count": null,
      "outputs": [
        {
          "output_type": "stream",
          "name": "stdout",
          "text": [
            "+----------+-----------+----------+---------+\n",
            "|     input|Month_trunc|Year_trunc|Day_trunc|\n",
            "+----------+-----------+----------+---------+\n",
            "|2020-02-01| 2020-02-01|2020-01-01|     null|\n",
            "|2019-03-01| 2019-03-01|2019-01-01|     null|\n",
            "|2021-03-01| 2021-03-01|2021-01-01|     null|\n",
            "+----------+-----------+----------+---------+\n",
            "\n"
          ]
        }
      ]
    },
    {
      "cell_type": "markdown",
      "source": [
        "#### **5.6 add_months() , date_add(), date_sub()**"
      ],
      "metadata": {
        "id": "vT61m6fPUA6M"
      }
    },
    {
      "cell_type": "code",
      "source": [
        "df.select('input', \n",
        "          add_months(col('input'), 2).alias('Add_months'),\n",
        "          date_add(col('input'), 3).alias('Date_add'),\n",
        "          date_sub(col('input'), 3).alias('Date_sub')\n",
        "          ).show()"
      ],
      "metadata": {
        "colab": {
          "base_uri": "https://localhost:8080/"
        },
        "id": "RoZt-s76T0xp",
        "outputId": "d7217e59-eefd-48e8-a822-35fff9a6e9d0"
      },
      "execution_count": null,
      "outputs": [
        {
          "output_type": "stream",
          "name": "stdout",
          "text": [
            "+----------+----------+----------+----------+\n",
            "|     input|Add_months|  Date_add|  Date_sub|\n",
            "+----------+----------+----------+----------+\n",
            "|2020-02-01|2020-04-01|2020-02-04|2020-01-29|\n",
            "|2019-03-01|2019-05-01|2019-03-04|2019-02-26|\n",
            "|2021-03-01|2021-05-01|2021-03-04|2021-02-26|\n",
            "+----------+----------+----------+----------+\n",
            "\n"
          ]
        }
      ]
    },
    {
      "cell_type": "markdown",
      "source": [
        "#### **5.7 year(), month(), month(),next_day(), weekofyear(), dayofweek(), dayofmonth(), dayofyear()**"
      ],
      "metadata": {
        "id": "2eP18WOWVI5u"
      }
    },
    {
      "cell_type": "code",
      "source": [
        "df.select('input',\n",
        "          year('input').alias('Year'),\n",
        "          month('input').alias('Month'),\n",
        "          next_day('input', 'Sunday'), # next sunday\n",
        "          weekofyear('input'),\n",
        "          dayofyear('input'),\n",
        "          dayofweek('input'),\n",
        "          dayofmonth('input')\n",
        "          ).show()"
      ],
      "metadata": {
        "colab": {
          "base_uri": "https://localhost:8080/"
        },
        "id": "UOtc4PQOUxe4",
        "outputId": "122db6fc-3120-4186-de8a-d493ba0997b1"
      },
      "execution_count": null,
      "outputs": [
        {
          "output_type": "stream",
          "name": "stdout",
          "text": [
            "+----------+----+-----+-----------------------+-----------------+----------------+----------------+-----------------+\n",
            "|     input|Year|Month|next_day(input, Sunday)|weekofyear(input)|dayofyear(input)|dayofweek(input)|dayofmonth(input)|\n",
            "+----------+----+-----+-----------------------+-----------------+----------------+----------------+-----------------+\n",
            "|2020-02-01|2020|    2|             2020-02-02|                5|              32|               7|                1|\n",
            "|2019-03-01|2019|    3|             2019-03-03|                9|              60|               6|                1|\n",
            "|2021-03-01|2021|    3|             2021-03-07|                9|              60|               2|                1|\n",
            "+----------+----+-----+-----------------------+-----------------+----------------+----------------+-----------------+\n",
            "\n"
          ]
        }
      ]
    },
    {
      "cell_type": "markdown",
      "source": [
        "#### **5.8 current_timestamp(), to_timestamp**"
      ],
      "metadata": {
        "id": "UyKT_v1Hdz3L"
      }
    },
    {
      "cell_type": "code",
      "source": [
        "data=[[\"1\",\"02-01-2020 11 01 19 06\"],[\"2\",\"03-01-2019 12 01 19 406\"],[\"3\",\"03-01-2021 12 01 19 406\"]]\n",
        "df2=spark.createDataFrame(data,[\"id\",\"input\"])\n",
        "df2.show(truncate=False)"
      ],
      "metadata": {
        "colab": {
          "base_uri": "https://localhost:8080/"
        },
        "id": "ItvcrhNUVS74",
        "outputId": "fa85e5da-480b-4686-a158-27a05c9a910d"
      },
      "execution_count": null,
      "outputs": [
        {
          "output_type": "stream",
          "name": "stdout",
          "text": [
            "+---+-----------------------+\n",
            "|id |input                  |\n",
            "+---+-----------------------+\n",
            "|1  |02-01-2020 11 01 19 06 |\n",
            "|2  |03-01-2019 12 01 19 406|\n",
            "|3  |03-01-2021 12 01 19 406|\n",
            "+---+-----------------------+\n",
            "\n"
          ]
        }
      ]
    },
    {
      "cell_type": "code",
      "source": [
        "df2.select(current_timestamp()).show(truncate=False)"
      ],
      "metadata": {
        "colab": {
          "base_uri": "https://localhost:8080/"
        },
        "id": "3nQLWUXCd8rv",
        "outputId": "06d374d4-4a65-4f7b-ce52-a846e0fda090"
      },
      "execution_count": null,
      "outputs": [
        {
          "output_type": "stream",
          "name": "stdout",
          "text": [
            "+--------------------------+\n",
            "|current_timestamp()       |\n",
            "+--------------------------+\n",
            "|2022-05-27 03:06:54.360562|\n",
            "|2022-05-27 03:06:54.360562|\n",
            "|2022-05-27 03:06:54.360562|\n",
            "+--------------------------+\n",
            "\n"
          ]
        }
      ]
    },
    {
      "cell_type": "code",
      "source": [
        "df2.select('input', to_timestamp(col('input'), \"MM-dd-yyyy HH:m:ss SSS\")).show()"
      ],
      "metadata": {
        "colab": {
          "base_uri": "https://localhost:8080/"
        },
        "id": "2cQ24weEeD0X",
        "outputId": "e5a93bf1-aa1b-4ff8-ef63-a729fbc3acbc"
      },
      "execution_count": null,
      "outputs": [
        {
          "output_type": "stream",
          "name": "stdout",
          "text": [
            "+--------------------+-------------------------------------------+\n",
            "|               input|to_timestamp(input, MM-dd-yyyy HH:m:ss SSS)|\n",
            "+--------------------+-------------------------------------------+\n",
            "|02-01-2020 11 01 ...|                                       null|\n",
            "|03-01-2019 12 01 ...|                                       null|\n",
            "|03-01-2021 12 01 ...|                                       null|\n",
            "+--------------------+-------------------------------------------+\n",
            "\n"
          ]
        }
      ]
    },
    {
      "cell_type": "code",
      "source": [
        "df2.select('input', \n",
        "          hour('input'),\n",
        "          minute('input'),\n",
        "          second('input')\n",
        "          ).show()"
      ],
      "metadata": {
        "colab": {
          "base_uri": "https://localhost:8080/"
        },
        "id": "D1hVijPUeVqN",
        "outputId": "a368b5c0-d6f4-4427-aeec-9d6e6385e94d"
      },
      "execution_count": null,
      "outputs": [
        {
          "output_type": "stream",
          "name": "stdout",
          "text": [
            "+--------------------+-----------+-------------+-------------+\n",
            "|               input|hour(input)|minute(input)|second(input)|\n",
            "+--------------------+-----------+-------------+-------------+\n",
            "|02-01-2020 11 01 ...|       null|         null|         null|\n",
            "|03-01-2019 12 01 ...|       null|         null|         null|\n",
            "|03-01-2021 12 01 ...|       null|         null|         null|\n",
            "+--------------------+-----------+-------------+-------------+\n",
            "\n"
          ]
        }
      ]
    },
    {
      "cell_type": "markdown",
      "source": [
        "# **6. Aggregate Functions**"
      ],
      "metadata": {
        "id": "Hmg891RFoeA8"
      }
    },
    {
      "cell_type": "code",
      "source": [
        "\n",
        "simpleData = [(\"James\", \"Sales\", 3000),\n",
        "    (\"Michael\", \"Sales\", 4600),\n",
        "    (\"Robert\", \"Sales\", 4100),\n",
        "    (\"Maria\", \"Finance\", 3000),\n",
        "    (\"James\", \"Sales\", 3000),\n",
        "    (\"Scott\", \"Finance\", 3300),\n",
        "    (\"Jen\", \"Finance\", 3900),\n",
        "    (\"Jeff\", \"Marketing\", 3000),\n",
        "    (\"Kumar\", \"Marketing\", 2000),\n",
        "    (\"Saif\", \"Sales\", 4100)\n",
        "  ]\n",
        "schema = [\"employee_name\", \"department\", \"salary\"]\n",
        "df = spark.createDataFrame(data=simpleData, schema = schema)\n",
        "df.show(2, truncate=False)"
      ],
      "metadata": {
        "colab": {
          "base_uri": "https://localhost:8080/"
        },
        "id": "IUPDLwOiewB8",
        "outputId": "d4eb1066-d9f7-4c27-f83f-25e8b1044455"
      },
      "execution_count": null,
      "outputs": [
        {
          "output_type": "stream",
          "name": "stdout",
          "text": [
            "+-------------+----------+------+\n",
            "|employee_name|department|salary|\n",
            "+-------------+----------+------+\n",
            "|James        |Sales     |3000  |\n",
            "|Michael      |Sales     |4600  |\n",
            "+-------------+----------+------+\n",
            "only showing top 2 rows\n",
            "\n"
          ]
        }
      ]
    },
    {
      "cell_type": "code",
      "source": [
        "print(\"approx_count_distinct: \" + \\\n",
        "      str(df.select(approx_count_distinct(\"salary\")).collect()[0][0]))"
      ],
      "metadata": {
        "colab": {
          "base_uri": "https://localhost:8080/"
        },
        "id": "cerNJ2uYorue",
        "outputId": "5ab87094-f76a-497c-fb31-414ca2259d25"
      },
      "execution_count": null,
      "outputs": [
        {
          "output_type": "stream",
          "name": "stdout",
          "text": [
            "approx_count_distinct: 6\n"
          ]
        }
      ]
    },
    {
      "cell_type": "code",
      "source": [
        "print(\"avg: \" + str(df.select(avg(\"salary\")).collect()[0][0]))"
      ],
      "metadata": {
        "colab": {
          "base_uri": "https://localhost:8080/"
        },
        "id": "CMqUTinvo0Us",
        "outputId": "d6183f71-6b6b-4ba3-beea-dbb19f7148e4"
      },
      "execution_count": null,
      "outputs": [
        {
          "output_type": "stream",
          "name": "stdout",
          "text": [
            "avg: 3400.0\n"
          ]
        }
      ]
    },
    {
      "cell_type": "code",
      "source": [
        "df.select(collect_list('salary')).show(truncate=False)"
      ],
      "metadata": {
        "colab": {
          "base_uri": "https://localhost:8080/"
        },
        "id": "SEKbGY8cpEK3",
        "outputId": "a84dda57-dbe9-40d9-e521-cfe425640b58"
      },
      "execution_count": null,
      "outputs": [
        {
          "output_type": "stream",
          "name": "stdout",
          "text": [
            "+------------------------------------------------------------+\n",
            "|collect_list(salary)                                        |\n",
            "+------------------------------------------------------------+\n",
            "|[3000, 4600, 4100, 3000, 3000, 3300, 3900, 3000, 2000, 4100]|\n",
            "+------------------------------------------------------------+\n",
            "\n"
          ]
        }
      ]
    },
    {
      "cell_type": "code",
      "source": [
        "df.select(collect_set('salary')).show(truncate=False)"
      ],
      "metadata": {
        "colab": {
          "base_uri": "https://localhost:8080/"
        },
        "id": "BwbZUu5opanv",
        "outputId": "f6a99f52-152f-4113-a1d8-1583731b65a1"
      },
      "execution_count": null,
      "outputs": [
        {
          "output_type": "stream",
          "name": "stdout",
          "text": [
            "+------------------------------------+\n",
            "|collect_set(salary)                 |\n",
            "+------------------------------------+\n",
            "|[4600, 3000, 3900, 4100, 3300, 2000]|\n",
            "+------------------------------------+\n",
            "\n"
          ]
        }
      ]
    },
    {
      "cell_type": "code",
      "source": [
        "df.select(countDistinct('department', 'salary')).show()"
      ],
      "metadata": {
        "colab": {
          "base_uri": "https://localhost:8080/"
        },
        "id": "fmQp006uph8e",
        "outputId": "de10cbb4-f7a5-416d-e6d5-63cadabff734"
      },
      "execution_count": null,
      "outputs": [
        {
          "output_type": "stream",
          "name": "stdout",
          "text": [
            "+----------------------------------+\n",
            "|count(DISTINCT department, salary)|\n",
            "+----------------------------------+\n",
            "|                                 8|\n",
            "+----------------------------------+\n",
            "\n"
          ]
        }
      ]
    },
    {
      "cell_type": "code",
      "source": [
        "df.select(count('department')).show()"
      ],
      "metadata": {
        "colab": {
          "base_uri": "https://localhost:8080/"
        },
        "id": "PyRDJJL4ptDF",
        "outputId": "a042f42c-0554-4fab-b1c8-40422882a3c6"
      },
      "execution_count": null,
      "outputs": [
        {
          "output_type": "stream",
          "name": "stdout",
          "text": [
            "+-----------------+\n",
            "|count(department)|\n",
            "+-----------------+\n",
            "|               10|\n",
            "+-----------------+\n",
            "\n"
          ]
        }
      ]
    },
    {
      "cell_type": "code",
      "source": [
        "df.select(first('salary')).show()\n",
        "df.select(last('salary')).show()\n",
        "df.select(kurtosis('salary')).show()\n",
        "df.select(skewness('salary')).show()"
      ],
      "metadata": {
        "colab": {
          "base_uri": "https://localhost:8080/"
        },
        "id": "mucOnkaUp0et",
        "outputId": "ec58e8c2-f04f-455b-8e11-e92756206022"
      },
      "execution_count": null,
      "outputs": [
        {
          "output_type": "stream",
          "name": "stdout",
          "text": [
            "+-------------+\n",
            "|first(salary)|\n",
            "+-------------+\n",
            "|         3000|\n",
            "+-------------+\n",
            "\n",
            "+------------+\n",
            "|last(salary)|\n",
            "+------------+\n",
            "|        4100|\n",
            "+------------+\n",
            "\n",
            "+-------------------+\n",
            "|   kurtosis(salary)|\n",
            "+-------------------+\n",
            "|-0.6467803030303032|\n",
            "+-------------------+\n",
            "\n",
            "+--------------------+\n",
            "|    skewness(salary)|\n",
            "+--------------------+\n",
            "|-0.12041791181069571|\n",
            "+--------------------+\n",
            "\n"
          ]
        }
      ]
    },
    {
      "cell_type": "code",
      "source": [
        "df.select(stddev('salary'), \n",
        "          stddev_samp('salary'),\n",
        "          stddev_pop('salary')).show()"
      ],
      "metadata": {
        "colab": {
          "base_uri": "https://localhost:8080/"
        },
        "id": "NCyZK4a1p7F4",
        "outputId": "6c23c441-436a-4adc-a53f-2835214e6321"
      },
      "execution_count": null,
      "outputs": [
        {
          "output_type": "stream",
          "name": "stdout",
          "text": [
            "+-------------------+-------------------+------------------+\n",
            "|stddev_samp(salary)|stddev_samp(salary)|stddev_pop(salary)|\n",
            "+-------------------+-------------------+------------------+\n",
            "|  765.9416862050705|  765.9416862050705|  726.636084983398|\n",
            "+-------------------+-------------------+------------------+\n",
            "\n"
          ]
        }
      ]
    },
    {
      "cell_type": "code",
      "source": [
        "df.select(sumDistinct('salary')).show()"
      ],
      "metadata": {
        "colab": {
          "base_uri": "https://localhost:8080/"
        },
        "id": "uArthsOwqZwU",
        "outputId": "d627d2ae-f7fa-4ca9-ed9a-7f21fb75cef2"
      },
      "execution_count": null,
      "outputs": [
        {
          "output_type": "stream",
          "name": "stderr",
          "text": [
            "/usr/local/lib/python3.7/dist-packages/pyspark/sql/functions.py:214: FutureWarning: Deprecated in 3.2, use sum_distinct instead.\n",
            "  warnings.warn(\"Deprecated in 3.2, use sum_distinct instead.\", FutureWarning)\n"
          ]
        },
        {
          "output_type": "stream",
          "name": "stdout",
          "text": [
            "+--------------------+\n",
            "|sum(DISTINCT salary)|\n",
            "+--------------------+\n",
            "|               20900|\n",
            "+--------------------+\n",
            "\n"
          ]
        }
      ]
    },
    {
      "cell_type": "code",
      "source": [
        "df.select(variance(\"salary\"),var_samp(\"salary\"),var_pop(\"salary\")) \\\n",
        "  .show(truncate=False)"
      ],
      "metadata": {
        "colab": {
          "base_uri": "https://localhost:8080/"
        },
        "id": "B7RLV4aEqryo",
        "outputId": "4f6d5ee9-1b8e-4a36-f4fb-9e592c327326"
      },
      "execution_count": null,
      "outputs": [
        {
          "output_type": "stream",
          "name": "stdout",
          "text": [
            "+-----------------+-----------------+---------------+\n",
            "|var_samp(salary) |var_samp(salary) |var_pop(salary)|\n",
            "+-----------------+-----------------+---------------+\n",
            "|586666.6666666666|586666.6666666666|528000.0       |\n",
            "+-----------------+-----------------+---------------+\n",
            "\n"
          ]
        }
      ]
    },
    {
      "cell_type": "markdown",
      "source": [
        "# **7. Window Functions**"
      ],
      "metadata": {
        "id": "y1rCs5mMq0RW"
      }
    },
    {
      "cell_type": "markdown",
      "source": [
        "#### **7.1 row_number()**"
      ],
      "metadata": {
        "id": "69gyUlVKq_4x"
      }
    },
    {
      "cell_type": "code",
      "source": [
        "df.show()"
      ],
      "metadata": {
        "colab": {
          "base_uri": "https://localhost:8080/"
        },
        "id": "eGrtYpJTrexr",
        "outputId": "cf2e3a4f-3727-4862-8487-1883c5e8eb4f"
      },
      "execution_count": null,
      "outputs": [
        {
          "output_type": "stream",
          "name": "stdout",
          "text": [
            "+-------------+----------+------+\n",
            "|employee_name|department|salary|\n",
            "+-------------+----------+------+\n",
            "|        James|     Sales|  3000|\n",
            "|      Michael|     Sales|  4600|\n",
            "|       Robert|     Sales|  4100|\n",
            "|        Maria|   Finance|  3000|\n",
            "|        James|     Sales|  3000|\n",
            "|        Scott|   Finance|  3300|\n",
            "|          Jen|   Finance|  3900|\n",
            "|         Jeff| Marketing|  3000|\n",
            "|        Kumar| Marketing|  2000|\n",
            "|         Saif|     Sales|  4100|\n",
            "+-------------+----------+------+\n",
            "\n"
          ]
        }
      ]
    },
    {
      "cell_type": "code",
      "source": [
        "from pyspark.sql.window import Window\n",
        "windowSpec = Window.partitionBy('department').orderBy('salary')\n",
        "display(windowSpec)"
      ],
      "metadata": {
        "colab": {
          "base_uri": "https://localhost:8080/",
          "height": 35
        },
        "id": "DjicZoOMrQ7s",
        "outputId": "74a05fbe-ee24-41d2-c73a-a83cefa45288"
      },
      "execution_count": null,
      "outputs": [
        {
          "output_type": "display_data",
          "data": {
            "text/plain": [
              "<pyspark.sql.window.WindowSpec at 0x7f1240721510>"
            ]
          },
          "metadata": {}
        }
      ]
    },
    {
      "cell_type": "code",
      "source": [
        "df.withColumn('row_number',\n",
        "              row_number().over(windowSpec)).show()"
      ],
      "metadata": {
        "colab": {
          "base_uri": "https://localhost:8080/"
        },
        "id": "ZGlEgRIsqv_O",
        "outputId": "01218f38-214a-4a89-8faa-4e3f59547eb8"
      },
      "execution_count": null,
      "outputs": [
        {
          "output_type": "stream",
          "name": "stdout",
          "text": [
            "+-------------+----------+------+----------+\n",
            "|employee_name|department|salary|row_number|\n",
            "+-------------+----------+------+----------+\n",
            "|        Maria|   Finance|  3000|         1|\n",
            "|        Scott|   Finance|  3300|         2|\n",
            "|          Jen|   Finance|  3900|         3|\n",
            "|        Kumar| Marketing|  2000|         1|\n",
            "|         Jeff| Marketing|  3000|         2|\n",
            "|        James|     Sales|  3000|         1|\n",
            "|        James|     Sales|  3000|         2|\n",
            "|       Robert|     Sales|  4100|         3|\n",
            "|         Saif|     Sales|  4100|         4|\n",
            "|      Michael|     Sales|  4600|         5|\n",
            "+-------------+----------+------+----------+\n",
            "\n"
          ]
        }
      ]
    },
    {
      "cell_type": "code",
      "source": [
        "df.createOrReplaceTempView('temp')\n",
        "\n",
        "query = \"\"\"\n",
        "          SELECT *, ROW_NUMBER() OVER(PARTITION BY(department) ORDER BY salary ASC) AS row_num\n",
        "          FROM temp;\n",
        "        \"\"\"\n",
        "spark.sql(query).show()\n",
        "\n",
        "# select challenge_id, h_id, h_name, score, \n",
        "#    dense_rank() over ( partition by challenge_id order by score desc ) \n",
        "#        as \"rank\", from hacker;"
      ],
      "metadata": {
        "colab": {
          "base_uri": "https://localhost:8080/"
        },
        "id": "RVSX0KQKrjwZ",
        "outputId": "08ddc642-8128-4ac7-9f40-72c2a4b028b6"
      },
      "execution_count": null,
      "outputs": [
        {
          "output_type": "stream",
          "name": "stdout",
          "text": [
            "+-------------+----------+------+-------+\n",
            "|employee_name|department|salary|row_num|\n",
            "+-------------+----------+------+-------+\n",
            "|        Maria|   Finance|  3000|      1|\n",
            "|        Scott|   Finance|  3300|      2|\n",
            "|          Jen|   Finance|  3900|      3|\n",
            "|        Kumar| Marketing|  2000|      1|\n",
            "|         Jeff| Marketing|  3000|      2|\n",
            "|        James|     Sales|  3000|      1|\n",
            "|        James|     Sales|  3000|      2|\n",
            "|       Robert|     Sales|  4100|      3|\n",
            "|         Saif|     Sales|  4100|      4|\n",
            "|      Michael|     Sales|  4600|      5|\n",
            "+-------------+----------+------+-------+\n",
            "\n"
          ]
        }
      ]
    },
    {
      "cell_type": "markdown",
      "source": [
        "#### **7.2 rank()**"
      ],
      "metadata": {
        "id": "3zqKmntRvYkG"
      }
    },
    {
      "cell_type": "code",
      "source": [
        "df.withColumn('rank', rank().over(windowSpec)).show()"
      ],
      "metadata": {
        "colab": {
          "base_uri": "https://localhost:8080/"
        },
        "id": "4YyUMZZOsLPT",
        "outputId": "b6abd375-1144-4f76-98e7-0c02e1da813d"
      },
      "execution_count": null,
      "outputs": [
        {
          "output_type": "stream",
          "name": "stdout",
          "text": [
            "+-------------+----------+------+----+\n",
            "|employee_name|department|salary|rank|\n",
            "+-------------+----------+------+----+\n",
            "|        Maria|   Finance|  3000|   1|\n",
            "|        Scott|   Finance|  3300|   2|\n",
            "|          Jen|   Finance|  3900|   3|\n",
            "|        Kumar| Marketing|  2000|   1|\n",
            "|         Jeff| Marketing|  3000|   2|\n",
            "|        James|     Sales|  3000|   1|\n",
            "|        James|     Sales|  3000|   1|\n",
            "|       Robert|     Sales|  4100|   3|\n",
            "|         Saif|     Sales|  4100|   3|\n",
            "|      Michael|     Sales|  4600|   5|\n",
            "+-------------+----------+------+----+\n",
            "\n"
          ]
        }
      ]
    },
    {
      "cell_type": "code",
      "source": [
        "query = \"\"\" \n",
        "SELECT *, RANK() OVER (PARTITION BY department ORDER BY salary ASC) AS rank\n",
        "FROM temp;\n",
        "\"\"\"\n",
        "spark.sql(query).show()"
      ],
      "metadata": {
        "colab": {
          "base_uri": "https://localhost:8080/"
        },
        "id": "UjXlkJ9WviON",
        "outputId": "71606fbb-60a1-456e-8b01-9f931764eac6"
      },
      "execution_count": null,
      "outputs": [
        {
          "output_type": "stream",
          "name": "stdout",
          "text": [
            "+-------------+----------+------+----+\n",
            "|employee_name|department|salary|rank|\n",
            "+-------------+----------+------+----+\n",
            "|        Maria|   Finance|  3000|   1|\n",
            "|        Scott|   Finance|  3300|   2|\n",
            "|          Jen|   Finance|  3900|   3|\n",
            "|        Kumar| Marketing|  2000|   1|\n",
            "|         Jeff| Marketing|  3000|   2|\n",
            "|        James|     Sales|  3000|   1|\n",
            "|        James|     Sales|  3000|   1|\n",
            "|       Robert|     Sales|  4100|   3|\n",
            "|         Saif|     Sales|  4100|   3|\n",
            "|      Michael|     Sales|  4600|   5|\n",
            "+-------------+----------+------+----+\n",
            "\n"
          ]
        }
      ]
    },
    {
      "cell_type": "markdown",
      "source": [
        "#### **7.3 dense_rank()**"
      ],
      "metadata": {
        "id": "8ck-47sKwVzJ"
      }
    },
    {
      "cell_type": "code",
      "source": [
        "df.withColumn('dense_rank', dense_rank().over(windowSpec)).show()"
      ],
      "metadata": {
        "colab": {
          "base_uri": "https://localhost:8080/"
        },
        "id": "csp23cEewMQ7",
        "outputId": "3ce49940-f3df-419a-d1d5-e840dc6c2bc1"
      },
      "execution_count": null,
      "outputs": [
        {
          "output_type": "stream",
          "name": "stdout",
          "text": [
            "+-------------+----------+------+----------+\n",
            "|employee_name|department|salary|dense_rank|\n",
            "+-------------+----------+------+----------+\n",
            "|        Maria|   Finance|  3000|         1|\n",
            "|        Scott|   Finance|  3300|         2|\n",
            "|          Jen|   Finance|  3900|         3|\n",
            "|        Kumar| Marketing|  2000|         1|\n",
            "|         Jeff| Marketing|  3000|         2|\n",
            "|        James|     Sales|  3000|         1|\n",
            "|        James|     Sales|  3000|         1|\n",
            "|       Robert|     Sales|  4100|         2|\n",
            "|         Saif|     Sales|  4100|         2|\n",
            "|      Michael|     Sales|  4600|         3|\n",
            "+-------------+----------+------+----------+\n",
            "\n"
          ]
        }
      ]
    },
    {
      "cell_type": "code",
      "source": [
        "query = \"\"\" \n",
        "SELECT *, DENSE_RANK() OVER (PARTITION BY department ORDER BY salary ASC) AS rank\n",
        "FROM temp;\n",
        "\"\"\"\n",
        "spark.sql(query).show()"
      ],
      "metadata": {
        "colab": {
          "base_uri": "https://localhost:8080/"
        },
        "id": "og3_a2xcwhMz",
        "outputId": "803de69b-e68b-4e2f-ee46-c45568afbe81"
      },
      "execution_count": null,
      "outputs": [
        {
          "output_type": "stream",
          "name": "stdout",
          "text": [
            "+-------------+----------+------+----+\n",
            "|employee_name|department|salary|rank|\n",
            "+-------------+----------+------+----+\n",
            "|        Maria|   Finance|  3000|   1|\n",
            "|        Scott|   Finance|  3300|   2|\n",
            "|          Jen|   Finance|  3900|   3|\n",
            "|        Kumar| Marketing|  2000|   1|\n",
            "|         Jeff| Marketing|  3000|   2|\n",
            "|        James|     Sales|  3000|   1|\n",
            "|        James|     Sales|  3000|   1|\n",
            "|       Robert|     Sales|  4100|   2|\n",
            "|         Saif|     Sales|  4100|   2|\n",
            "|      Michael|     Sales|  4600|   3|\n",
            "+-------------+----------+------+----+\n",
            "\n"
          ]
        }
      ]
    },
    {
      "cell_type": "code",
      "source": [
        "df.withColumn(\"percent_rank\",percent_rank().over(windowSpec)) \\\n",
        "    .show()"
      ],
      "metadata": {
        "colab": {
          "base_uri": "https://localhost:8080/"
        },
        "id": "e9f5IWwgwka3",
        "outputId": "79d6b5da-407f-4ae4-9df3-29f390a991b6"
      },
      "execution_count": null,
      "outputs": [
        {
          "output_type": "stream",
          "name": "stdout",
          "text": [
            "+-------------+----------+------+------------+\n",
            "|employee_name|department|salary|percent_rank|\n",
            "+-------------+----------+------+------------+\n",
            "|        Maria|   Finance|  3000|         0.0|\n",
            "|        Scott|   Finance|  3300|         0.5|\n",
            "|          Jen|   Finance|  3900|         1.0|\n",
            "|        Kumar| Marketing|  2000|         0.0|\n",
            "|         Jeff| Marketing|  3000|         1.0|\n",
            "|        James|     Sales|  3000|         0.0|\n",
            "|        James|     Sales|  3000|         0.0|\n",
            "|       Robert|     Sales|  4100|         0.5|\n",
            "|         Saif|     Sales|  4100|         0.5|\n",
            "|      Michael|     Sales|  4600|         1.0|\n",
            "+-------------+----------+------+------------+\n",
            "\n"
          ]
        }
      ]
    },
    {
      "cell_type": "code",
      "source": [
        "query = \"\"\" \n",
        "SELECT *, PERCENT_RANK() OVER (PARTITION BY department ORDER BY salary ASC) AS percent_rank\n",
        "FROM temp;\n",
        "\"\"\"\n",
        "spark.sql(query).show()"
      ],
      "metadata": {
        "colab": {
          "base_uri": "https://localhost:8080/"
        },
        "id": "16wwSF0awzwW",
        "outputId": "29fe6c8b-a4fc-4bd7-ce7d-3ff9b93cd806"
      },
      "execution_count": null,
      "outputs": [
        {
          "output_type": "stream",
          "name": "stdout",
          "text": [
            "+-------------+----------+------+------------+\n",
            "|employee_name|department|salary|percent_rank|\n",
            "+-------------+----------+------+------------+\n",
            "|        Maria|   Finance|  3000|         0.0|\n",
            "|        Scott|   Finance|  3300|         0.5|\n",
            "|          Jen|   Finance|  3900|         1.0|\n",
            "|        Kumar| Marketing|  2000|         0.0|\n",
            "|         Jeff| Marketing|  3000|         1.0|\n",
            "|        James|     Sales|  3000|         0.0|\n",
            "|        James|     Sales|  3000|         0.0|\n",
            "|       Robert|     Sales|  4100|         0.5|\n",
            "|         Saif|     Sales|  4100|         0.5|\n",
            "|      Michael|     Sales|  4600|         1.0|\n",
            "+-------------+----------+------+------------+\n",
            "\n"
          ]
        }
      ]
    },
    {
      "cell_type": "markdown",
      "source": [
        "#### **7.4 ntile Window Function**"
      ],
      "metadata": {
        "id": "8zEMyKKTw7f9"
      }
    },
    {
      "cell_type": "code",
      "source": [
        "df.withColumn('ntile', ntile(2).over(windowSpec)).show()"
      ],
      "metadata": {
        "colab": {
          "base_uri": "https://localhost:8080/"
        },
        "id": "VU3KsM6Sw24t",
        "outputId": "0604bcd6-0b40-4de6-921e-5c1f979245f9"
      },
      "execution_count": null,
      "outputs": [
        {
          "output_type": "stream",
          "name": "stdout",
          "text": [
            "+-------------+----------+------+-----+\n",
            "|employee_name|department|salary|ntile|\n",
            "+-------------+----------+------+-----+\n",
            "|        Maria|   Finance|  3000|    1|\n",
            "|        Scott|   Finance|  3300|    1|\n",
            "|          Jen|   Finance|  3900|    2|\n",
            "|        Kumar| Marketing|  2000|    1|\n",
            "|         Jeff| Marketing|  3000|    2|\n",
            "|        James|     Sales|  3000|    1|\n",
            "|        James|     Sales|  3000|    1|\n",
            "|       Robert|     Sales|  4100|    1|\n",
            "|         Saif|     Sales|  4100|    2|\n",
            "|      Michael|     Sales|  4600|    2|\n",
            "+-------------+----------+------+-----+\n",
            "\n"
          ]
        }
      ]
    },
    {
      "cell_type": "code",
      "source": [
        "query = \"\"\" \n",
        "SELECT *, NTILE() OVER (PARTITION BY department ORDER BY salary ASC) AS ntile\n",
        "FROM temp;\n",
        "\"\"\"\n",
        "spark.sql(query).show()"
      ],
      "metadata": {
        "colab": {
          "base_uri": "https://localhost:8080/"
        },
        "id": "TSFkjevBxJ1D",
        "outputId": "021cbe89-f8e1-4ab1-98d7-fc361a46cb8e"
      },
      "execution_count": null,
      "outputs": [
        {
          "output_type": "stream",
          "name": "stdout",
          "text": [
            "+-------------+----------+------+-----+\n",
            "|employee_name|department|salary|ntile|\n",
            "+-------------+----------+------+-----+\n",
            "|        Maria|   Finance|  3000|    1|\n",
            "|        Scott|   Finance|  3300|    1|\n",
            "|          Jen|   Finance|  3900|    1|\n",
            "|        Kumar| Marketing|  2000|    1|\n",
            "|         Jeff| Marketing|  3000|    1|\n",
            "|        James|     Sales|  3000|    1|\n",
            "|        James|     Sales|  3000|    1|\n",
            "|       Robert|     Sales|  4100|    1|\n",
            "|         Saif|     Sales|  4100|    1|\n",
            "|      Michael|     Sales|  4600|    1|\n",
            "+-------------+----------+------+-----+\n",
            "\n"
          ]
        }
      ]
    },
    {
      "cell_type": "markdown",
      "source": [
        "#### **7.5 PySpark Window Analytic functions**"
      ],
      "metadata": {
        "id": "GK7057zdyL7O"
      }
    },
    {
      "cell_type": "code",
      "source": [
        "# cume_dist() same as DENSE_RANK()\n",
        "df.withColumn('cume_dist', cume_dist().over(windowSpec)).show()"
      ],
      "metadata": {
        "colab": {
          "base_uri": "https://localhost:8080/"
        },
        "id": "plsm50fXxXw7",
        "outputId": "1bfedd48-3eb6-49f2-df86-d20e02072024"
      },
      "execution_count": null,
      "outputs": [
        {
          "output_type": "stream",
          "name": "stdout",
          "text": [
            "+-------------+----------+------+------------------+\n",
            "|employee_name|department|salary|         cume_dist|\n",
            "+-------------+----------+------+------------------+\n",
            "|        Maria|   Finance|  3000|0.3333333333333333|\n",
            "|        Scott|   Finance|  3300|0.6666666666666666|\n",
            "|          Jen|   Finance|  3900|               1.0|\n",
            "|        Kumar| Marketing|  2000|               0.5|\n",
            "|         Jeff| Marketing|  3000|               1.0|\n",
            "|        James|     Sales|  3000|               0.4|\n",
            "|        James|     Sales|  3000|               0.4|\n",
            "|       Robert|     Sales|  4100|               0.8|\n",
            "|         Saif|     Sales|  4100|               0.8|\n",
            "|      Michael|     Sales|  4600|               1.0|\n",
            "+-------------+----------+------+------------------+\n",
            "\n"
          ]
        }
      ]
    },
    {
      "cell_type": "code",
      "source": [
        "# lag\n",
        "df.withColumn('lag', lag('salary', 2).over(windowSpec)).show()"
      ],
      "metadata": {
        "colab": {
          "base_uri": "https://localhost:8080/"
        },
        "id": "1PiF_tfHygge",
        "outputId": "6b292108-0a06-4b9a-d776-69d1d999f3ce"
      },
      "execution_count": null,
      "outputs": [
        {
          "output_type": "stream",
          "name": "stdout",
          "text": [
            "+-------------+----------+------+----+\n",
            "|employee_name|department|salary| lag|\n",
            "+-------------+----------+------+----+\n",
            "|        Maria|   Finance|  3000|null|\n",
            "|        Scott|   Finance|  3300|null|\n",
            "|          Jen|   Finance|  3900|3000|\n",
            "|        Kumar| Marketing|  2000|null|\n",
            "|         Jeff| Marketing|  3000|null|\n",
            "|        James|     Sales|  3000|null|\n",
            "|        James|     Sales|  3000|null|\n",
            "|       Robert|     Sales|  4100|3000|\n",
            "|         Saif|     Sales|  4100|3000|\n",
            "|      Michael|     Sales|  4600|4100|\n",
            "+-------------+----------+------+----+\n",
            "\n"
          ]
        }
      ]
    },
    {
      "cell_type": "code",
      "source": [
        "query = \"\"\" \n",
        "SELECT *, LAG(salary, 2) OVER (PARTITION BY department ORDER BY salary ASC) AS lag\n",
        "FROM temp;\n",
        "\"\"\"\n",
        "spark.sql(query).show()"
      ],
      "metadata": {
        "colab": {
          "base_uri": "https://localhost:8080/"
        },
        "id": "KQs145JkzJuB",
        "outputId": "021b5543-48fa-428c-c8d9-5a7644a74408"
      },
      "execution_count": null,
      "outputs": [
        {
          "output_type": "stream",
          "name": "stdout",
          "text": [
            "+-------------+----------+------+----+\n",
            "|employee_name|department|salary| lag|\n",
            "+-------------+----------+------+----+\n",
            "|        Maria|   Finance|  3000|null|\n",
            "|        Scott|   Finance|  3300|null|\n",
            "|          Jen|   Finance|  3900|3000|\n",
            "|        Kumar| Marketing|  2000|null|\n",
            "|         Jeff| Marketing|  3000|null|\n",
            "|        James|     Sales|  3000|null|\n",
            "|        James|     Sales|  3000|null|\n",
            "|       Robert|     Sales|  4100|3000|\n",
            "|         Saif|     Sales|  4100|3000|\n",
            "|      Michael|     Sales|  4600|4100|\n",
            "+-------------+----------+------+----+\n",
            "\n"
          ]
        }
      ]
    },
    {
      "cell_type": "code",
      "source": [
        "query = \"\"\" \n",
        "SELECT *, LEAD(salary, 2) OVER (PARTITION BY department ORDER BY salary ASC) AS lead\n",
        "FROM temp;\n",
        "\"\"\"\n",
        "spark.sql(query).show()"
      ],
      "metadata": {
        "colab": {
          "base_uri": "https://localhost:8080/"
        },
        "id": "GVMra5d4zWhU",
        "outputId": "edf35be6-f047-460a-b5e0-e5a95e3f1b17"
      },
      "execution_count": null,
      "outputs": [
        {
          "output_type": "stream",
          "name": "stdout",
          "text": [
            "+-------------+----------+------+----+\n",
            "|employee_name|department|salary|lead|\n",
            "+-------------+----------+------+----+\n",
            "|        Maria|   Finance|  3000|3900|\n",
            "|        Scott|   Finance|  3300|null|\n",
            "|          Jen|   Finance|  3900|null|\n",
            "|        Kumar| Marketing|  2000|null|\n",
            "|         Jeff| Marketing|  3000|null|\n",
            "|        James|     Sales|  3000|4100|\n",
            "|        James|     Sales|  3000|4100|\n",
            "|       Robert|     Sales|  4100|4600|\n",
            "|         Saif|     Sales|  4100|null|\n",
            "|      Michael|     Sales|  4600|null|\n",
            "+-------------+----------+------+----+\n",
            "\n"
          ]
        }
      ]
    },
    {
      "cell_type": "code",
      "source": [
        "windowSpecAgg  = Window.partitionBy(\"department\")\n",
        "\n",
        "from pyspark.sql.functions import col,avg,sum,min,max,row_number \n",
        "\n",
        "df.withColumn(\"row\",row_number().over(windowSpec)) \\\n",
        "  .withColumn(\"avg\", avg(\"salary\").over(windowSpecAgg)) \\\n",
        "  .withColumn(\"sum\", sum(\"salary\").over(windowSpecAgg)) \\\n",
        "  .withColumn(\"min\", min(\"salary\").over(windowSpecAgg)) \\\n",
        "  .withColumn(\"max\", max(\"salary\").over(windowSpecAgg)) \\\n",
        "  .where(col(\"row\")==1).select(\"department\",\"avg\",\"sum\",\"min\",\"max\") \\\n",
        "  .show()"
      ],
      "metadata": {
        "colab": {
          "base_uri": "https://localhost:8080/"
        },
        "id": "ffM2TyCyzzAr",
        "outputId": "37276c46-12d3-4f1e-ee05-9f6e08c4c732"
      },
      "execution_count": null,
      "outputs": [
        {
          "output_type": "stream",
          "name": "stdout",
          "text": [
            "+----------+------+-----+----+----+\n",
            "|department|   avg|  sum| min| max|\n",
            "+----------+------+-----+----+----+\n",
            "|   Finance|3400.0|10200|3000|3900|\n",
            "| Marketing|2500.0| 5000|2000|3000|\n",
            "|     Sales|3760.0|18800|3000|4600|\n",
            "+----------+------+-----+----+----+\n",
            "\n"
          ]
        }
      ]
    },
    {
      "cell_type": "markdown",
      "source": [
        "https://towardsdatascience.com/easy-fixes-for-sparksql-performance-ad4166792e6e"
      ],
      "metadata": {
        "id": "IW0XWBrn1U9X"
      }
    },
    {
      "cell_type": "markdown",
      "source": [
        "# **8. ArrayType()**"
      ],
      "metadata": {
        "id": "KAt8HIKi1xgt"
      }
    },
    {
      "cell_type": "code",
      "source": [
        "from pyspark.sql.types import ArrayType, StringType"
      ],
      "metadata": {
        "id": "gYG17oAT0Hrt"
      },
      "execution_count": null,
      "outputs": []
    },
    {
      "cell_type": "code",
      "source": [
        "arrayCol = ArrayType(StringType(),False)\n",
        "# Above example creates string array and doesn’t not accept null values."
      ],
      "metadata": {
        "id": "25TA0Rlf2Aui"
      },
      "execution_count": null,
      "outputs": []
    },
    {
      "cell_type": "code",
      "source": [
        "\n",
        "data = [\n",
        " (\"James,,Smith\",[\"Java\",\"Scala\",\"C++\"],[\"Spark\",\"Java\"],\"OH\",\"CA\"),(\"Michael,Rose,\",[\"Spark\",\"Java\",\"C++\"],[\"Spark\",\"Java\"],\"NY\",\"NJ\"),\n",
        " (\"Robert,,Williams\",[\"CSharp\",\"VB\"],[\"Spark\",\"Python\"],\"UT\",\"NV\")]\n",
        "from pyspark.sql.types import StringType, ArrayType,StructType,StructField\n",
        "schema = StructType([ \n",
        "    StructField(\"name\",StringType(),True), \n",
        "    StructField(\"languagesAtSchool\",ArrayType(StringType()),True), \n",
        "    StructField(\"languagesAtWork\",ArrayType(StringType()),True), \n",
        "    StructField(\"currentState\", StringType(), True), \n",
        "    StructField(\"previousState\", StringType(), True)])\n",
        "\n",
        "df = spark.createDataFrame(data=data,schema=schema)\n",
        "df.show()"
      ],
      "metadata": {
        "colab": {
          "base_uri": "https://localhost:8080/"
        },
        "id": "oRHq9Puh2MEF",
        "outputId": "a331b748-3797-40b4-f6ad-e1793a0338c1"
      },
      "execution_count": null,
      "outputs": [
        {
          "output_type": "stream",
          "name": "stdout",
          "text": [
            "+----------------+------------------+---------------+------------+-------------+\n",
            "|            name| languagesAtSchool|languagesAtWork|currentState|previousState|\n",
            "+----------------+------------------+---------------+------------+-------------+\n",
            "|    James,,Smith|[Java, Scala, C++]|  [Spark, Java]|          OH|           CA|\n",
            "|   Michael,Rose,|[Spark, Java, C++]|  [Spark, Java]|          NY|           NJ|\n",
            "|Robert,,Williams|      [CSharp, VB]|[Spark, Python]|          UT|           NV|\n",
            "+----------------+------------------+---------------+------------+-------------+\n",
            "\n"
          ]
        }
      ]
    },
    {
      "cell_type": "markdown",
      "source": [
        "#### **8.1 Explode**"
      ],
      "metadata": {
        "id": "LFT6hmG22Z_4"
      }
    },
    {
      "cell_type": "code",
      "source": [
        "df.select('languagesAtSchool', explode('languagesAtSchool')).show()"
      ],
      "metadata": {
        "colab": {
          "base_uri": "https://localhost:8080/"
        },
        "id": "ACwftaTi2WOZ",
        "outputId": "086f2187-ebe9-4849-a780-999be544c735"
      },
      "execution_count": null,
      "outputs": [
        {
          "output_type": "stream",
          "name": "stdout",
          "text": [
            "+------------------+------+\n",
            "| languagesAtSchool|   col|\n",
            "+------------------+------+\n",
            "|[Java, Scala, C++]|  Java|\n",
            "|[Java, Scala, C++]| Scala|\n",
            "|[Java, Scala, C++]|   C++|\n",
            "|[Spark, Java, C++]| Spark|\n",
            "|[Spark, Java, C++]|  Java|\n",
            "|[Spark, Java, C++]|   C++|\n",
            "|      [CSharp, VB]|CSharp|\n",
            "|      [CSharp, VB]|    VB|\n",
            "+------------------+------+\n",
            "\n"
          ]
        }
      ]
    },
    {
      "cell_type": "markdown",
      "source": [
        "#### **8.2 Split**"
      ],
      "metadata": {
        "id": "y-6x86Sk2pxa"
      }
    },
    {
      "cell_type": "code",
      "source": [
        "df.select('name', split('name', ',')).show()"
      ],
      "metadata": {
        "colab": {
          "base_uri": "https://localhost:8080/"
        },
        "id": "I2pwucCb2lti",
        "outputId": "d5eb08c3-c4df-4e53-8220-f0d705017277"
      },
      "execution_count": null,
      "outputs": [
        {
          "output_type": "stream",
          "name": "stdout",
          "text": [
            "+----------------+--------------------+\n",
            "|            name|  split(name, ,, -1)|\n",
            "+----------------+--------------------+\n",
            "|    James,,Smith|    [James, , Smith]|\n",
            "|   Michael,Rose,|   [Michael, Rose, ]|\n",
            "|Robert,,Williams|[Robert, , Williams]|\n",
            "+----------------+--------------------+\n",
            "\n"
          ]
        }
      ]
    },
    {
      "cell_type": "markdown",
      "source": [
        "#### **8.3 array() - Creates a new array**"
      ],
      "metadata": {
        "id": "djxN_e9k3H60"
      }
    },
    {
      "cell_type": "code",
      "source": [
        "(df.withColumn('states', array('currentState', 'previousState'))\n",
        "  .select('currentState', 'previousState', 'states').show()\n",
        ")"
      ],
      "metadata": {
        "colab": {
          "base_uri": "https://localhost:8080/"
        },
        "id": "60R_4cgy2xTX",
        "outputId": "20d6dcb5-f18b-420a-a704-0b291ceaca81"
      },
      "execution_count": null,
      "outputs": [
        {
          "output_type": "stream",
          "name": "stdout",
          "text": [
            "+------------+-------------+--------+\n",
            "|currentState|previousState|  states|\n",
            "+------------+-------------+--------+\n",
            "|          OH|           CA|[OH, CA]|\n",
            "|          NY|           NJ|[NY, NJ]|\n",
            "|          UT|           NV|[UT, NV]|\n",
            "+------------+-------------+--------+\n",
            "\n"
          ]
        }
      ]
    },
    {
      "cell_type": "markdown",
      "source": [
        "#### **8.3 array_contains() - Creates a new array**"
      ],
      "metadata": {
        "id": "1LAA-sGk35T1"
      }
    },
    {
      "cell_type": "code",
      "source": [
        "df.select('languagesAtSchool', array_contains('languagesAtSchool', 'Java')).show()"
      ],
      "metadata": {
        "colab": {
          "base_uri": "https://localhost:8080/"
        },
        "id": "oDYXXYJj3WQW",
        "outputId": "b12961c4-621d-4628-b8cc-bdf0f7444041"
      },
      "execution_count": null,
      "outputs": [
        {
          "output_type": "stream",
          "name": "stdout",
          "text": [
            "+------------------+---------------------------------------+\n",
            "| languagesAtSchool|array_contains(languagesAtSchool, Java)|\n",
            "+------------------+---------------------------------------+\n",
            "|[Java, Scala, C++]|                                   true|\n",
            "|[Spark, Java, C++]|                                   true|\n",
            "|      [CSharp, VB]|                                  false|\n",
            "+------------------+---------------------------------------+\n",
            "\n"
          ]
        }
      ]
    },
    {
      "cell_type": "code",
      "source": [],
      "metadata": {
        "id": "6r7XyCXC4PWr"
      },
      "execution_count": null,
      "outputs": []
    }
  ]
}
